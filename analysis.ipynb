{
 "metadata": {
  "language_info": {
   "codemirror_mode": {
    "name": "ipython",
    "version": 3
   },
   "file_extension": ".py",
   "mimetype": "text/x-python",
   "name": "python",
   "nbconvert_exporter": "python",
   "pygments_lexer": "ipython3",
   "version": "3.7.7"
  },
  "orig_nbformat": 2,
  "kernelspec": {
   "name": "python3",
   "display_name": "Python 3.7.7 64-bit ('base': conda)"
  },
  "interpreter": {
   "hash": "4a68920d8e8856d089b03c157a7384bba62e0986489c1fa381bbe538cda0922c"
  }
 },
 "nbformat": 4,
 "nbformat_minor": 2,
 "cells": [
  {
   "cell_type": "code",
   "execution_count": 1,
   "metadata": {},
   "outputs": [],
   "source": [
    "import pandas as pd\n",
    "import numpy as np\n",
    "import microdf as mdf\n",
    "import plotly.express as px\n",
    "import statsmodels.api as sm\n",
    "from ubicenter import format_fig"
   ]
  },
  {
   "cell_type": "code",
   "execution_count": 2,
   "metadata": {},
   "outputs": [],
   "source": [
    "BUDGET = 1e9  # $1 billion.\n",
    "REACH = 500e3  # 500,000 adult New Yorkers.\n",
    "RUN_SIMS = False  # To re-run (takes ~5min).\n",
    "\n",
    "# Read data per person per year.\n",
    "py = pd.read_csv(\"data/nys_cps.csv.gz\")\n",
    "py.columns = py.columns.str.lower()\n",
    "py.inctot.replace({999999999: 0}, inplace=True)\n",
    "py.adjginc.replace({99999999: 0}, inplace=True)\n",
    "# 2014 was double-sampled.\n",
    "py.loc[py.year == 2014, [\"asecwt\", \"spmwt\"]] /= 2\n",
    "# ASEC shows survey year.\n",
    "py.year -= 1\n",
    "\n",
    "LABELS = {\n",
    "    \"poverty_rate\": \"Poverty rate\",\n",
    "    \"deep_poverty_rate\": \"Deep poverty rate\",\n",
    "    \"adult_deep_poverty_rate\": \"Deep adult poverty rate\",\n",
    "    \"child_deep_poverty_rate\": \"Deep child poverty rate\",\n",
    "    \"poverty_gap\": \"Poverty gap\",\n",
    "    \"squared_poverty_gap\": \"Poverty severity\",\n",
    "    \"deep_poverty_gap\": \"Deep poverty gap\",\n",
    "    \"pov_ratio_guarantee\": \"Maximum benefit as a share of SPM poverty threshold\",\n",
    "    \"phase_out_rate\": \"Benefit phase-out rate with respect to SPM resources\",\n",
    "    \"phase_out_rate_pct\": \"Benefit phase-out rate with respect to SPM resources\",\n",
    "    \"constraint\": \"Constraint\",\n",
    "    \"cost_b\": \"Cost ($B)\",\n",
    "    \"adult_reach\": \"Adult recipients\",\n",
    "    \"pct_diff\": \"Policy impact\",\n",
    "    \"yearly\": \"Average yearly change, 2009-2019\",\n",
    "    \"name\": \"Metric\",\n",
    "    \"years_progress\": \"Policy impact / average yearly change\",\n",
    "}\n",
    "\n",
    "LIGHTER_BLUE = \"#ABCEEB\"  # Blue 100.\n",
    "LIGHT_BLUE = \"#49A6E2\"  # Blue 500.\n",
    "BLUE = \"#1976D2\"  # Blue 700.\n",
    "DARK_BLUE = \"#0F4AA1\"  # Blue 900.\n",
    "GRAY = \"#BDBDBD\"\n",
    "\n",
    "COLOR_MAP = {\n",
    "    \"Poverty rate\": LIGHT_BLUE,\n",
    "    \"Deep poverty rate\": DARK_BLUE,\n",
    "    \"Poverty gap\": LIGHT_BLUE,\n",
    "    \"Deep poverty gap\": DARK_BLUE,\n",
    "    \"25%\": LIGHTER_BLUE,\n",
    "    \"50%\": LIGHT_BLUE,\n",
    "    \"100%\": DARK_BLUE,\n",
    "    \"$1 billion cost\": GRAY,\n",
    "    \"500,000 adult recipients\": BLUE,\n",
    "}"
   ]
  },
  {
   "cell_type": "code",
   "execution_count": 3,
   "metadata": {},
   "outputs": [
    {
     "output_type": "execute_result",
     "data": {
      "text/plain": [
       "              fips    county  pop_m full_fips  asec_pop_m\n",
       "Manhattan       61  New York  1.632     36061    1.634743\n",
       "Brooklyn        47     Kings  2.590     36047    2.634859\n",
       "The Bronx        5     Bronx  1.435     36005    1.586280\n",
       "Staten Island   85  Richmond  0.475     36085    0.497162\n",
       "Queens          81    Queens  2.287     36081    1.869408"
      ],
      "text/html": "<div>\n<style scoped>\n    .dataframe tbody tr th:only-of-type {\n        vertical-align: middle;\n    }\n\n    .dataframe tbody tr th {\n        vertical-align: top;\n    }\n\n    .dataframe thead th {\n        text-align: right;\n    }\n</style>\n<table border=\"1\" class=\"dataframe\">\n  <thead>\n    <tr style=\"text-align: right;\">\n      <th></th>\n      <th>fips</th>\n      <th>county</th>\n      <th>pop_m</th>\n      <th>full_fips</th>\n      <th>asec_pop_m</th>\n    </tr>\n  </thead>\n  <tbody>\n    <tr>\n      <th>Manhattan</th>\n      <td>61</td>\n      <td>New York</td>\n      <td>1.632</td>\n      <td>36061</td>\n      <td>1.634743</td>\n    </tr>\n    <tr>\n      <th>Brooklyn</th>\n      <td>47</td>\n      <td>Kings</td>\n      <td>2.590</td>\n      <td>36047</td>\n      <td>2.634859</td>\n    </tr>\n    <tr>\n      <th>The Bronx</th>\n      <td>5</td>\n      <td>Bronx</td>\n      <td>1.435</td>\n      <td>36005</td>\n      <td>1.586280</td>\n    </tr>\n    <tr>\n      <th>Staten Island</th>\n      <td>85</td>\n      <td>Richmond</td>\n      <td>0.475</td>\n      <td>36085</td>\n      <td>0.497162</td>\n    </tr>\n    <tr>\n      <th>Queens</th>\n      <td>81</td>\n      <td>Queens</td>\n      <td>2.287</td>\n      <td>36081</td>\n      <td>1.869408</td>\n    </tr>\n  </tbody>\n</table>\n</div>"
     },
     "metadata": {},
     "execution_count": 3
    }
   ],
   "source": [
    "NYC_COUNTY = pd.DataFrame(columns=[\"fips\", \"county\", \"pop_m\"])\n",
    "NYS_FIPS = 36\n",
    "# Per https://en.wikipedia.org/wiki/List_of_counties_in_New_York\n",
    "NYC_COUNTY.loc[\"Manhattan\"] = pd.Series({\"fips\": 61, \"county\": \"New York\", \"pop_m\": 1.632})\n",
    "NYC_COUNTY.loc[\"Brooklyn\"] = pd.Series({\"fips\": 47, \"county\": \"Kings\", \"pop_m\": 2.59})\n",
    "NYC_COUNTY.loc[\"The Bronx\"] = pd.Series({\"fips\": 5, \"county\": \"Bronx\", \"pop_m\": 1.435})\n",
    "NYC_COUNTY.loc[\"Staten Island\"] = pd.Series({\"fips\": 85, \"county\": \"Richmond\", \"pop_m\": 0.475})\n",
    "NYC_COUNTY.loc[\"Queens\"] = pd.Series({\"fips\": 81, \"county\": \"Queens\", \"pop_m\": 2.287})\n",
    "NYC_COUNTY[\"full_fips\"] = NYS_FIPS * 1000 + NYC_COUNTY.fips\n",
    "\n",
    "py = py[py.county.isin(NYC_COUNTY.full_fips)][\n",
    "    [\"county\", \"asecwt\", 'age', 'sex', 'race', 'hispan', 'inctot', 'spmwt', 'spmtotres', 'spmthresh',\n",
    "       'spmfamunit', 'adjginc', 'ftotval', 'spmftotval', 'year', 'spmgeoadj']]\n",
    "py[\"adult\"] = py.age > 17\n",
    "py[\"child\"] = py.age <= 17\n",
    "py[\"spmratio\"] = py.spmtotres / py.spmthresh\n",
    "py[\"poor\"] = py.spmratio < 1\n",
    "py[\"deep_poor\"] = py.spmratio < 0.5\n",
    "# py[]\n",
    "NYC_COUNTY[\"asec_pop_m\"] = NYC_COUNTY.full_fips.apply(\n",
    "    lambda x: py[(py.county == x) & (py.year == py.year.max())].asecwt.sum() / 1e6\n",
    ")\n",
    "NYC_COUNTY"
   ]
  },
  {
   "cell_type": "code",
   "execution_count": 4,
   "metadata": {},
   "outputs": [],
   "source": [
    "def year_stats(p):\n",
    "    s = p[[\"spmfamunit\", \"year\", \"spmtotres\", \"spmthresh\", \"spmwt\"]].drop_duplicates()\n",
    "    s[\"spmtotres_pos\"] = np.maximum(s.spmtotres, 0)\n",
    "    return pd.Series({\n",
    "        \"spmgeoadj\": mdf.weighted_mean(p, \"spmgeoadj\", \"asecwt\"),\n",
    "        \"poverty_rate\": mdf.weighted_mean(p, \"poor\", \"asecwt\"),\n",
    "        \"deep_poverty_rate\": mdf.weighted_mean(p, \"deep_poor\", \"asecwt\"),\n",
    "        \"poor_adults\": mdf.weighted_sum(p[p.adult], \"poor\", \"asecwt\"),\n",
    "        \"deep_poor_adults\": mdf.weighted_sum(p[p.adult], \"deep_poor\", \"asecwt\"),\n",
    "        \"child_poverty_rate\": mdf.weighted_mean(p[p.child], \"poor\", \"asecwt\"),\n",
    "        \"child_deep_poverty_rate\": mdf.weighted_mean(p[p.child], \"deep_poor\", \"asecwt\"),\n",
    "        \"adult_poverty_rate\": mdf.weighted_mean(p[p.adult], \"poor\", \"asecwt\"),\n",
    "        \"adult_deep_poverty_rate\": mdf.weighted_mean(p[p.adult], \"deep_poor\", \"asecwt\"),\n",
    "        \"poverty_gap\": mdf.poverty_gap(s, \"spmtotres\", \"spmthresh\", \"spmwt\"),\n",
    "        \"squared_poverty_gap\": mdf.squared_poverty_gap(s, \"spmtotres\", \"spmthresh\", \"spmwt\"),\n",
    "        \"deep_poverty_gap\": mdf.deep_poverty_gap(s, \"spmtotres\", \"spmthresh\", \"spmwt\"),\n",
    "        \"gini\": mdf.gini(s, \"spmtotres\", \"spmwt\"),\n",
    "        \"population\": p.asecwt.sum(),\n",
    "        \"spm_units\": s.spmwt.sum(),\n",
    "        \"survey_population\": p.shape[0],\n",
    "        \"survey_spm_units\": s.shape[0],\n",
    "    })\n",
    "year = py.groupby(\"year\").apply(year_stats)\n",
    "year[\"year\"] = year.index\n"
   ]
  },
  {
   "cell_type": "code",
   "execution_count": 35,
   "metadata": {},
   "outputs": [
    {
     "output_type": "display_data",
     "data": {
      "application/vnd.plotly.v1+json": {
       "config": {
        "displayModeBar": false,
        "plotlyServerURL": "https://plot.ly"
       },
       "data": [
        {
         "hovertemplate": "variable=Poverty rate<br>year=%{x}<br>value=%{y}<extra></extra>",
         "legendgroup": "Poverty rate",
         "line": {
          "color": "#49A6E2",
          "dash": "solid"
         },
         "mode": "lines",
         "name": "Poverty rate",
         "orientation": "v",
         "showlegend": true,
         "type": "scatter",
         "x": [
          2009,
          2010,
          2011,
          2012,
          2013,
          2014,
          2015,
          2016,
          2017,
          2018,
          2019
         ],
         "xaxis": "x",
         "y": [
          0.23881930622424025,
          0.2547659920548098,
          0.2647177924615171,
          0.2834492228320596,
          0.24884105034276366,
          0.24415572591200707,
          0.20905445053666571,
          0.17225492875469742,
          0.2093246094319608,
          0.20361655276038546,
          0.19196885996563795
         ],
         "yaxis": "y"
        },
        {
         "hovertemplate": "variable=Deep poverty rate<br>year=%{x}<br>value=%{y}<extra></extra>",
         "legendgroup": "Deep poverty rate",
         "line": {
          "color": "#0F4AA1",
          "dash": "solid"
         },
         "mode": "lines",
         "name": "Deep poverty rate",
         "orientation": "v",
         "showlegend": true,
         "type": "scatter",
         "x": [
          2009,
          2010,
          2011,
          2012,
          2013,
          2014,
          2015,
          2016,
          2017,
          2018,
          2019
         ],
         "xaxis": "x",
         "y": [
          0.07784698044689664,
          0.08314552567367989,
          0.09115801128708047,
          0.08534781913608519,
          0.0802840192325915,
          0.0613350002635959,
          0.05555828063104746,
          0.04831624321018513,
          0.047428030146856176,
          0.053129938935127796,
          0.04859213974110767
         ],
         "yaxis": "y"
        }
       ],
       "layout": {
        "font": {
         "family": "Roboto"
        },
        "height": 600,
        "hoverlabel": {
         "align": "right"
        },
        "images": [
         {
          "sizex": 0.12,
          "sizey": 0.12,
          "source": "https://raw.githubusercontent.com/UBICenter/blog/master/jb/_static/ubi_center_logo_wide_blue.png",
          "x": 0.98,
          "xanchor": "right",
          "xref": "paper",
          "y": -0.12,
          "yanchor": "bottom",
          "yref": "paper"
         }
        ],
        "legend": {
         "title": {
          "text": ""
         },
         "tracegroupgap": 0
        },
        "paper_bgcolor": "white",
        "plot_bgcolor": "white",
        "template": {
         "data": {
          "bar": [
           {
            "error_x": {
             "color": "#2a3f5f"
            },
            "error_y": {
             "color": "#2a3f5f"
            },
            "marker": {
             "line": {
              "color": "#E5ECF6",
              "width": 0.5
             }
            },
            "type": "bar"
           }
          ],
          "barpolar": [
           {
            "marker": {
             "line": {
              "color": "#E5ECF6",
              "width": 0.5
             }
            },
            "type": "barpolar"
           }
          ],
          "carpet": [
           {
            "aaxis": {
             "endlinecolor": "#2a3f5f",
             "gridcolor": "white",
             "linecolor": "white",
             "minorgridcolor": "white",
             "startlinecolor": "#2a3f5f"
            },
            "baxis": {
             "endlinecolor": "#2a3f5f",
             "gridcolor": "white",
             "linecolor": "white",
             "minorgridcolor": "white",
             "startlinecolor": "#2a3f5f"
            },
            "type": "carpet"
           }
          ],
          "choropleth": [
           {
            "colorbar": {
             "outlinewidth": 0,
             "ticks": ""
            },
            "type": "choropleth"
           }
          ],
          "contour": [
           {
            "colorbar": {
             "outlinewidth": 0,
             "ticks": ""
            },
            "colorscale": [
             [
              0,
              "#0d0887"
             ],
             [
              0.1111111111111111,
              "#46039f"
             ],
             [
              0.2222222222222222,
              "#7201a8"
             ],
             [
              0.3333333333333333,
              "#9c179e"
             ],
             [
              0.4444444444444444,
              "#bd3786"
             ],
             [
              0.5555555555555556,
              "#d8576b"
             ],
             [
              0.6666666666666666,
              "#ed7953"
             ],
             [
              0.7777777777777778,
              "#fb9f3a"
             ],
             [
              0.8888888888888888,
              "#fdca26"
             ],
             [
              1,
              "#f0f921"
             ]
            ],
            "type": "contour"
           }
          ],
          "contourcarpet": [
           {
            "colorbar": {
             "outlinewidth": 0,
             "ticks": ""
            },
            "type": "contourcarpet"
           }
          ],
          "heatmap": [
           {
            "colorbar": {
             "outlinewidth": 0,
             "ticks": ""
            },
            "colorscale": [
             [
              0,
              "#0d0887"
             ],
             [
              0.1111111111111111,
              "#46039f"
             ],
             [
              0.2222222222222222,
              "#7201a8"
             ],
             [
              0.3333333333333333,
              "#9c179e"
             ],
             [
              0.4444444444444444,
              "#bd3786"
             ],
             [
              0.5555555555555556,
              "#d8576b"
             ],
             [
              0.6666666666666666,
              "#ed7953"
             ],
             [
              0.7777777777777778,
              "#fb9f3a"
             ],
             [
              0.8888888888888888,
              "#fdca26"
             ],
             [
              1,
              "#f0f921"
             ]
            ],
            "type": "heatmap"
           }
          ],
          "heatmapgl": [
           {
            "colorbar": {
             "outlinewidth": 0,
             "ticks": ""
            },
            "colorscale": [
             [
              0,
              "#0d0887"
             ],
             [
              0.1111111111111111,
              "#46039f"
             ],
             [
              0.2222222222222222,
              "#7201a8"
             ],
             [
              0.3333333333333333,
              "#9c179e"
             ],
             [
              0.4444444444444444,
              "#bd3786"
             ],
             [
              0.5555555555555556,
              "#d8576b"
             ],
             [
              0.6666666666666666,
              "#ed7953"
             ],
             [
              0.7777777777777778,
              "#fb9f3a"
             ],
             [
              0.8888888888888888,
              "#fdca26"
             ],
             [
              1,
              "#f0f921"
             ]
            ],
            "type": "heatmapgl"
           }
          ],
          "histogram": [
           {
            "marker": {
             "colorbar": {
              "outlinewidth": 0,
              "ticks": ""
             }
            },
            "type": "histogram"
           }
          ],
          "histogram2d": [
           {
            "colorbar": {
             "outlinewidth": 0,
             "ticks": ""
            },
            "colorscale": [
             [
              0,
              "#0d0887"
             ],
             [
              0.1111111111111111,
              "#46039f"
             ],
             [
              0.2222222222222222,
              "#7201a8"
             ],
             [
              0.3333333333333333,
              "#9c179e"
             ],
             [
              0.4444444444444444,
              "#bd3786"
             ],
             [
              0.5555555555555556,
              "#d8576b"
             ],
             [
              0.6666666666666666,
              "#ed7953"
             ],
             [
              0.7777777777777778,
              "#fb9f3a"
             ],
             [
              0.8888888888888888,
              "#fdca26"
             ],
             [
              1,
              "#f0f921"
             ]
            ],
            "type": "histogram2d"
           }
          ],
          "histogram2dcontour": [
           {
            "colorbar": {
             "outlinewidth": 0,
             "ticks": ""
            },
            "colorscale": [
             [
              0,
              "#0d0887"
             ],
             [
              0.1111111111111111,
              "#46039f"
             ],
             [
              0.2222222222222222,
              "#7201a8"
             ],
             [
              0.3333333333333333,
              "#9c179e"
             ],
             [
              0.4444444444444444,
              "#bd3786"
             ],
             [
              0.5555555555555556,
              "#d8576b"
             ],
             [
              0.6666666666666666,
              "#ed7953"
             ],
             [
              0.7777777777777778,
              "#fb9f3a"
             ],
             [
              0.8888888888888888,
              "#fdca26"
             ],
             [
              1,
              "#f0f921"
             ]
            ],
            "type": "histogram2dcontour"
           }
          ],
          "mesh3d": [
           {
            "colorbar": {
             "outlinewidth": 0,
             "ticks": ""
            },
            "type": "mesh3d"
           }
          ],
          "parcoords": [
           {
            "line": {
             "colorbar": {
              "outlinewidth": 0,
              "ticks": ""
             }
            },
            "type": "parcoords"
           }
          ],
          "pie": [
           {
            "automargin": true,
            "type": "pie"
           }
          ],
          "scatter": [
           {
            "marker": {
             "colorbar": {
              "outlinewidth": 0,
              "ticks": ""
             }
            },
            "type": "scatter"
           }
          ],
          "scatter3d": [
           {
            "line": {
             "colorbar": {
              "outlinewidth": 0,
              "ticks": ""
             }
            },
            "marker": {
             "colorbar": {
              "outlinewidth": 0,
              "ticks": ""
             }
            },
            "type": "scatter3d"
           }
          ],
          "scattercarpet": [
           {
            "marker": {
             "colorbar": {
              "outlinewidth": 0,
              "ticks": ""
             }
            },
            "type": "scattercarpet"
           }
          ],
          "scattergeo": [
           {
            "marker": {
             "colorbar": {
              "outlinewidth": 0,
              "ticks": ""
             }
            },
            "type": "scattergeo"
           }
          ],
          "scattergl": [
           {
            "marker": {
             "colorbar": {
              "outlinewidth": 0,
              "ticks": ""
             }
            },
            "type": "scattergl"
           }
          ],
          "scattermapbox": [
           {
            "marker": {
             "colorbar": {
              "outlinewidth": 0,
              "ticks": ""
             }
            },
            "type": "scattermapbox"
           }
          ],
          "scatterpolar": [
           {
            "marker": {
             "colorbar": {
              "outlinewidth": 0,
              "ticks": ""
             }
            },
            "type": "scatterpolar"
           }
          ],
          "scatterpolargl": [
           {
            "marker": {
             "colorbar": {
              "outlinewidth": 0,
              "ticks": ""
             }
            },
            "type": "scatterpolargl"
           }
          ],
          "scatterternary": [
           {
            "marker": {
             "colorbar": {
              "outlinewidth": 0,
              "ticks": ""
             }
            },
            "type": "scatterternary"
           }
          ],
          "surface": [
           {
            "colorbar": {
             "outlinewidth": 0,
             "ticks": ""
            },
            "colorscale": [
             [
              0,
              "#0d0887"
             ],
             [
              0.1111111111111111,
              "#46039f"
             ],
             [
              0.2222222222222222,
              "#7201a8"
             ],
             [
              0.3333333333333333,
              "#9c179e"
             ],
             [
              0.4444444444444444,
              "#bd3786"
             ],
             [
              0.5555555555555556,
              "#d8576b"
             ],
             [
              0.6666666666666666,
              "#ed7953"
             ],
             [
              0.7777777777777778,
              "#fb9f3a"
             ],
             [
              0.8888888888888888,
              "#fdca26"
             ],
             [
              1,
              "#f0f921"
             ]
            ],
            "type": "surface"
           }
          ],
          "table": [
           {
            "cells": {
             "fill": {
              "color": "#EBF0F8"
             },
             "line": {
              "color": "white"
             }
            },
            "header": {
             "fill": {
              "color": "#C8D4E3"
             },
             "line": {
              "color": "white"
             }
            },
            "type": "table"
           }
          ]
         },
         "layout": {
          "annotationdefaults": {
           "arrowcolor": "#2a3f5f",
           "arrowhead": 0,
           "arrowwidth": 1
          },
          "autotypenumbers": "strict",
          "coloraxis": {
           "colorbar": {
            "outlinewidth": 0,
            "ticks": ""
           }
          },
          "colorscale": {
           "diverging": [
            [
             0,
             "#8e0152"
            ],
            [
             0.1,
             "#c51b7d"
            ],
            [
             0.2,
             "#de77ae"
            ],
            [
             0.3,
             "#f1b6da"
            ],
            [
             0.4,
             "#fde0ef"
            ],
            [
             0.5,
             "#f7f7f7"
            ],
            [
             0.6,
             "#e6f5d0"
            ],
            [
             0.7,
             "#b8e186"
            ],
            [
             0.8,
             "#7fbc41"
            ],
            [
             0.9,
             "#4d9221"
            ],
            [
             1,
             "#276419"
            ]
           ],
           "sequential": [
            [
             0,
             "#0d0887"
            ],
            [
             0.1111111111111111,
             "#46039f"
            ],
            [
             0.2222222222222222,
             "#7201a8"
            ],
            [
             0.3333333333333333,
             "#9c179e"
            ],
            [
             0.4444444444444444,
             "#bd3786"
            ],
            [
             0.5555555555555556,
             "#d8576b"
            ],
            [
             0.6666666666666666,
             "#ed7953"
            ],
            [
             0.7777777777777778,
             "#fb9f3a"
            ],
            [
             0.8888888888888888,
             "#fdca26"
            ],
            [
             1,
             "#f0f921"
            ]
           ],
           "sequentialminus": [
            [
             0,
             "#0d0887"
            ],
            [
             0.1111111111111111,
             "#46039f"
            ],
            [
             0.2222222222222222,
             "#7201a8"
            ],
            [
             0.3333333333333333,
             "#9c179e"
            ],
            [
             0.4444444444444444,
             "#bd3786"
            ],
            [
             0.5555555555555556,
             "#d8576b"
            ],
            [
             0.6666666666666666,
             "#ed7953"
            ],
            [
             0.7777777777777778,
             "#fb9f3a"
            ],
            [
             0.8888888888888888,
             "#fdca26"
            ],
            [
             1,
             "#f0f921"
            ]
           ]
          },
          "colorway": [
           "#636efa",
           "#EF553B",
           "#00cc96",
           "#ab63fa",
           "#FFA15A",
           "#19d3f3",
           "#FF6692",
           "#B6E880",
           "#FF97FF",
           "#FECB52"
          ],
          "font": {
           "color": "#2a3f5f"
          },
          "geo": {
           "bgcolor": "white",
           "lakecolor": "white",
           "landcolor": "#E5ECF6",
           "showlakes": true,
           "showland": true,
           "subunitcolor": "white"
          },
          "hoverlabel": {
           "align": "left"
          },
          "hovermode": "closest",
          "mapbox": {
           "style": "light"
          },
          "paper_bgcolor": "white",
          "plot_bgcolor": "#E5ECF6",
          "polar": {
           "angularaxis": {
            "gridcolor": "white",
            "linecolor": "white",
            "ticks": ""
           },
           "bgcolor": "#E5ECF6",
           "radialaxis": {
            "gridcolor": "white",
            "linecolor": "white",
            "ticks": ""
           }
          },
          "scene": {
           "xaxis": {
            "backgroundcolor": "#E5ECF6",
            "gridcolor": "white",
            "gridwidth": 2,
            "linecolor": "white",
            "showbackground": true,
            "ticks": "",
            "zerolinecolor": "white"
           },
           "yaxis": {
            "backgroundcolor": "#E5ECF6",
            "gridcolor": "white",
            "gridwidth": 2,
            "linecolor": "white",
            "showbackground": true,
            "ticks": "",
            "zerolinecolor": "white"
           },
           "zaxis": {
            "backgroundcolor": "#E5ECF6",
            "gridcolor": "white",
            "gridwidth": 2,
            "linecolor": "white",
            "showbackground": true,
            "ticks": "",
            "zerolinecolor": "white"
           }
          },
          "shapedefaults": {
           "line": {
            "color": "#2a3f5f"
           }
          },
          "ternary": {
           "aaxis": {
            "gridcolor": "white",
            "linecolor": "white",
            "ticks": ""
           },
           "baxis": {
            "gridcolor": "white",
            "linecolor": "white",
            "ticks": ""
           },
           "bgcolor": "#E5ECF6",
           "caxis": {
            "gridcolor": "white",
            "linecolor": "white",
            "ticks": ""
           }
          },
          "title": {
           "x": 0.05
          },
          "xaxis": {
           "automargin": true,
           "gridcolor": "white",
           "linecolor": "white",
           "ticks": "",
           "title": {
            "standoff": 15
           },
           "zerolinecolor": "white",
           "zerolinewidth": 2
          },
          "yaxis": {
           "automargin": true,
           "gridcolor": "white",
           "linecolor": "white",
           "ticks": "",
           "title": {
            "standoff": 15
           },
           "zerolinecolor": "white",
           "zerolinewidth": 2
          }
         }
        },
        "title": {
         "font": {
          "size": 20
         },
         "text": "Poverty rate trends in NYC (SPM)"
        },
        "width": 800,
        "xaxis": {
         "anchor": "y",
         "domain": [
          0,
          1
         ],
         "tickfont": {
          "size": 14
         },
         "title": {
          "font": {
           "color": "black",
           "size": 16
          },
          "text": ""
         }
        },
        "yaxis": {
         "anchor": "x",
         "domain": [
          0,
          1
         ],
         "range": [
          0,
          0.3
         ],
         "tickfont": {
          "size": 14
         },
         "tickformat": ".1%",
         "title": {
          "font": {
           "color": "black",
           "size": 16
          },
          "text": ""
         }
        }
       }
      }
     },
     "metadata": {}
    }
   ],
   "source": [
    "pov_rate_trend = year.melt(\"year\", [\"poverty_rate\", \"deep_poverty_rate\"])\n",
    "pov_rate_trend.variable = pov_rate_trend.variable.map(LABELS)\n",
    "fig = px.line(\n",
    "    pov_rate_trend,\n",
    "    \"year\",\n",
    "    \"value\",\n",
    "    color=\"variable\",\n",
    "    color_discrete_map=COLOR_MAP,\n",
    "    labels=LABELS,\n",
    "    title=\"Poverty rate trends in NYC (SPM)\"\n",
    ")\n",
    "fig.update_layout(\n",
    "    yaxis_tickformat=\".1%\",\n",
    "    xaxis_title=\"\",\n",
    "    yaxis_title=\"\",\n",
    "    legend_title=\"\",\n",
    "    yaxis_range=[0, 0.3]\n",
    ")\n",
    "format_fig(fig)"
   ]
  },
  {
   "cell_type": "code",
   "execution_count": 7,
   "metadata": {},
   "outputs": [
    {
     "output_type": "display_data",
     "data": {
      "application/vnd.plotly.v1+json": {
       "config": {
        "displayModeBar": false,
        "plotlyServerURL": "https://plot.ly"
       },
       "data": [
        {
         "hovertemplate": "variable=Poverty gap<br>year=%{x}<br>value=%{y}<extra></extra>",
         "legendgroup": "Poverty gap",
         "line": {
          "color": "#49A6E2",
          "dash": "solid"
         },
         "mode": "lines",
         "name": "Poverty gap",
         "orientation": "v",
         "showlegend": true,
         "type": "scatter",
         "x": [
          2009,
          2010,
          2011,
          2012,
          2013,
          2014,
          2015,
          2016,
          2017,
          2018,
          2019
         ],
         "xaxis": "x",
         "y": [
          7551519764.356265,
          7682122445.2965,
          8933750677.811378,
          9191809276.823547,
          8501542669.008414,
          8251718654.976822,
          6836883082.157335,
          5796824589.164503,
          6427673044.896837,
          6947693271.58,
          6256897865.13
         ],
         "yaxis": "y"
        },
        {
         "hovertemplate": "variable=Deep poverty gap<br>year=%{x}<br>value=%{y}<extra></extra>",
         "legendgroup": "Deep poverty gap",
         "line": {
          "color": "#0F4AA1",
          "dash": "solid"
         },
         "mode": "lines",
         "name": "Deep poverty gap",
         "orientation": "v",
         "showlegend": true,
         "type": "scatter",
         "x": [
          2009,
          2010,
          2011,
          2012,
          2013,
          2014,
          2015,
          2016,
          2017,
          2018,
          2019
         ],
         "xaxis": "x",
         "y": [
          2339698793.841796,
          1993206713.6554627,
          2562050035.4530096,
          2657799222.034068,
          2303690942.6516705,
          2311943681.780697,
          1917663996.3685834,
          1688799568.5614886,
          1421812239.812447,
          1663275306.8200002,
          1502806282.81
         ],
         "yaxis": "y"
        }
       ],
       "layout": {
        "font": {
         "family": "Roboto"
        },
        "height": 600,
        "hoverlabel": {
         "align": "right"
        },
        "images": [
         {
          "sizex": 0.12,
          "sizey": 0.12,
          "source": "https://raw.githubusercontent.com/UBICenter/blog/master/jb/_static/ubi_center_logo_wide_blue.png",
          "x": 0.98,
          "xanchor": "right",
          "xref": "paper",
          "y": -0.12,
          "yanchor": "bottom",
          "yref": "paper"
         }
        ],
        "legend": {
         "title": {
          "text": ""
         },
         "tracegroupgap": 0
        },
        "paper_bgcolor": "white",
        "plot_bgcolor": "white",
        "template": {
         "data": {
          "bar": [
           {
            "error_x": {
             "color": "#2a3f5f"
            },
            "error_y": {
             "color": "#2a3f5f"
            },
            "marker": {
             "line": {
              "color": "#E5ECF6",
              "width": 0.5
             }
            },
            "type": "bar"
           }
          ],
          "barpolar": [
           {
            "marker": {
             "line": {
              "color": "#E5ECF6",
              "width": 0.5
             }
            },
            "type": "barpolar"
           }
          ],
          "carpet": [
           {
            "aaxis": {
             "endlinecolor": "#2a3f5f",
             "gridcolor": "white",
             "linecolor": "white",
             "minorgridcolor": "white",
             "startlinecolor": "#2a3f5f"
            },
            "baxis": {
             "endlinecolor": "#2a3f5f",
             "gridcolor": "white",
             "linecolor": "white",
             "minorgridcolor": "white",
             "startlinecolor": "#2a3f5f"
            },
            "type": "carpet"
           }
          ],
          "choropleth": [
           {
            "colorbar": {
             "outlinewidth": 0,
             "ticks": ""
            },
            "type": "choropleth"
           }
          ],
          "contour": [
           {
            "colorbar": {
             "outlinewidth": 0,
             "ticks": ""
            },
            "colorscale": [
             [
              0,
              "#0d0887"
             ],
             [
              0.1111111111111111,
              "#46039f"
             ],
             [
              0.2222222222222222,
              "#7201a8"
             ],
             [
              0.3333333333333333,
              "#9c179e"
             ],
             [
              0.4444444444444444,
              "#bd3786"
             ],
             [
              0.5555555555555556,
              "#d8576b"
             ],
             [
              0.6666666666666666,
              "#ed7953"
             ],
             [
              0.7777777777777778,
              "#fb9f3a"
             ],
             [
              0.8888888888888888,
              "#fdca26"
             ],
             [
              1,
              "#f0f921"
             ]
            ],
            "type": "contour"
           }
          ],
          "contourcarpet": [
           {
            "colorbar": {
             "outlinewidth": 0,
             "ticks": ""
            },
            "type": "contourcarpet"
           }
          ],
          "heatmap": [
           {
            "colorbar": {
             "outlinewidth": 0,
             "ticks": ""
            },
            "colorscale": [
             [
              0,
              "#0d0887"
             ],
             [
              0.1111111111111111,
              "#46039f"
             ],
             [
              0.2222222222222222,
              "#7201a8"
             ],
             [
              0.3333333333333333,
              "#9c179e"
             ],
             [
              0.4444444444444444,
              "#bd3786"
             ],
             [
              0.5555555555555556,
              "#d8576b"
             ],
             [
              0.6666666666666666,
              "#ed7953"
             ],
             [
              0.7777777777777778,
              "#fb9f3a"
             ],
             [
              0.8888888888888888,
              "#fdca26"
             ],
             [
              1,
              "#f0f921"
             ]
            ],
            "type": "heatmap"
           }
          ],
          "heatmapgl": [
           {
            "colorbar": {
             "outlinewidth": 0,
             "ticks": ""
            },
            "colorscale": [
             [
              0,
              "#0d0887"
             ],
             [
              0.1111111111111111,
              "#46039f"
             ],
             [
              0.2222222222222222,
              "#7201a8"
             ],
             [
              0.3333333333333333,
              "#9c179e"
             ],
             [
              0.4444444444444444,
              "#bd3786"
             ],
             [
              0.5555555555555556,
              "#d8576b"
             ],
             [
              0.6666666666666666,
              "#ed7953"
             ],
             [
              0.7777777777777778,
              "#fb9f3a"
             ],
             [
              0.8888888888888888,
              "#fdca26"
             ],
             [
              1,
              "#f0f921"
             ]
            ],
            "type": "heatmapgl"
           }
          ],
          "histogram": [
           {
            "marker": {
             "colorbar": {
              "outlinewidth": 0,
              "ticks": ""
             }
            },
            "type": "histogram"
           }
          ],
          "histogram2d": [
           {
            "colorbar": {
             "outlinewidth": 0,
             "ticks": ""
            },
            "colorscale": [
             [
              0,
              "#0d0887"
             ],
             [
              0.1111111111111111,
              "#46039f"
             ],
             [
              0.2222222222222222,
              "#7201a8"
             ],
             [
              0.3333333333333333,
              "#9c179e"
             ],
             [
              0.4444444444444444,
              "#bd3786"
             ],
             [
              0.5555555555555556,
              "#d8576b"
             ],
             [
              0.6666666666666666,
              "#ed7953"
             ],
             [
              0.7777777777777778,
              "#fb9f3a"
             ],
             [
              0.8888888888888888,
              "#fdca26"
             ],
             [
              1,
              "#f0f921"
             ]
            ],
            "type": "histogram2d"
           }
          ],
          "histogram2dcontour": [
           {
            "colorbar": {
             "outlinewidth": 0,
             "ticks": ""
            },
            "colorscale": [
             [
              0,
              "#0d0887"
             ],
             [
              0.1111111111111111,
              "#46039f"
             ],
             [
              0.2222222222222222,
              "#7201a8"
             ],
             [
              0.3333333333333333,
              "#9c179e"
             ],
             [
              0.4444444444444444,
              "#bd3786"
             ],
             [
              0.5555555555555556,
              "#d8576b"
             ],
             [
              0.6666666666666666,
              "#ed7953"
             ],
             [
              0.7777777777777778,
              "#fb9f3a"
             ],
             [
              0.8888888888888888,
              "#fdca26"
             ],
             [
              1,
              "#f0f921"
             ]
            ],
            "type": "histogram2dcontour"
           }
          ],
          "mesh3d": [
           {
            "colorbar": {
             "outlinewidth": 0,
             "ticks": ""
            },
            "type": "mesh3d"
           }
          ],
          "parcoords": [
           {
            "line": {
             "colorbar": {
              "outlinewidth": 0,
              "ticks": ""
             }
            },
            "type": "parcoords"
           }
          ],
          "pie": [
           {
            "automargin": true,
            "type": "pie"
           }
          ],
          "scatter": [
           {
            "marker": {
             "colorbar": {
              "outlinewidth": 0,
              "ticks": ""
             }
            },
            "type": "scatter"
           }
          ],
          "scatter3d": [
           {
            "line": {
             "colorbar": {
              "outlinewidth": 0,
              "ticks": ""
             }
            },
            "marker": {
             "colorbar": {
              "outlinewidth": 0,
              "ticks": ""
             }
            },
            "type": "scatter3d"
           }
          ],
          "scattercarpet": [
           {
            "marker": {
             "colorbar": {
              "outlinewidth": 0,
              "ticks": ""
             }
            },
            "type": "scattercarpet"
           }
          ],
          "scattergeo": [
           {
            "marker": {
             "colorbar": {
              "outlinewidth": 0,
              "ticks": ""
             }
            },
            "type": "scattergeo"
           }
          ],
          "scattergl": [
           {
            "marker": {
             "colorbar": {
              "outlinewidth": 0,
              "ticks": ""
             }
            },
            "type": "scattergl"
           }
          ],
          "scattermapbox": [
           {
            "marker": {
             "colorbar": {
              "outlinewidth": 0,
              "ticks": ""
             }
            },
            "type": "scattermapbox"
           }
          ],
          "scatterpolar": [
           {
            "marker": {
             "colorbar": {
              "outlinewidth": 0,
              "ticks": ""
             }
            },
            "type": "scatterpolar"
           }
          ],
          "scatterpolargl": [
           {
            "marker": {
             "colorbar": {
              "outlinewidth": 0,
              "ticks": ""
             }
            },
            "type": "scatterpolargl"
           }
          ],
          "scatterternary": [
           {
            "marker": {
             "colorbar": {
              "outlinewidth": 0,
              "ticks": ""
             }
            },
            "type": "scatterternary"
           }
          ],
          "surface": [
           {
            "colorbar": {
             "outlinewidth": 0,
             "ticks": ""
            },
            "colorscale": [
             [
              0,
              "#0d0887"
             ],
             [
              0.1111111111111111,
              "#46039f"
             ],
             [
              0.2222222222222222,
              "#7201a8"
             ],
             [
              0.3333333333333333,
              "#9c179e"
             ],
             [
              0.4444444444444444,
              "#bd3786"
             ],
             [
              0.5555555555555556,
              "#d8576b"
             ],
             [
              0.6666666666666666,
              "#ed7953"
             ],
             [
              0.7777777777777778,
              "#fb9f3a"
             ],
             [
              0.8888888888888888,
              "#fdca26"
             ],
             [
              1,
              "#f0f921"
             ]
            ],
            "type": "surface"
           }
          ],
          "table": [
           {
            "cells": {
             "fill": {
              "color": "#EBF0F8"
             },
             "line": {
              "color": "white"
             }
            },
            "header": {
             "fill": {
              "color": "#C8D4E3"
             },
             "line": {
              "color": "white"
             }
            },
            "type": "table"
           }
          ]
         },
         "layout": {
          "annotationdefaults": {
           "arrowcolor": "#2a3f5f",
           "arrowhead": 0,
           "arrowwidth": 1
          },
          "autotypenumbers": "strict",
          "coloraxis": {
           "colorbar": {
            "outlinewidth": 0,
            "ticks": ""
           }
          },
          "colorscale": {
           "diverging": [
            [
             0,
             "#8e0152"
            ],
            [
             0.1,
             "#c51b7d"
            ],
            [
             0.2,
             "#de77ae"
            ],
            [
             0.3,
             "#f1b6da"
            ],
            [
             0.4,
             "#fde0ef"
            ],
            [
             0.5,
             "#f7f7f7"
            ],
            [
             0.6,
             "#e6f5d0"
            ],
            [
             0.7,
             "#b8e186"
            ],
            [
             0.8,
             "#7fbc41"
            ],
            [
             0.9,
             "#4d9221"
            ],
            [
             1,
             "#276419"
            ]
           ],
           "sequential": [
            [
             0,
             "#0d0887"
            ],
            [
             0.1111111111111111,
             "#46039f"
            ],
            [
             0.2222222222222222,
             "#7201a8"
            ],
            [
             0.3333333333333333,
             "#9c179e"
            ],
            [
             0.4444444444444444,
             "#bd3786"
            ],
            [
             0.5555555555555556,
             "#d8576b"
            ],
            [
             0.6666666666666666,
             "#ed7953"
            ],
            [
             0.7777777777777778,
             "#fb9f3a"
            ],
            [
             0.8888888888888888,
             "#fdca26"
            ],
            [
             1,
             "#f0f921"
            ]
           ],
           "sequentialminus": [
            [
             0,
             "#0d0887"
            ],
            [
             0.1111111111111111,
             "#46039f"
            ],
            [
             0.2222222222222222,
             "#7201a8"
            ],
            [
             0.3333333333333333,
             "#9c179e"
            ],
            [
             0.4444444444444444,
             "#bd3786"
            ],
            [
             0.5555555555555556,
             "#d8576b"
            ],
            [
             0.6666666666666666,
             "#ed7953"
            ],
            [
             0.7777777777777778,
             "#fb9f3a"
            ],
            [
             0.8888888888888888,
             "#fdca26"
            ],
            [
             1,
             "#f0f921"
            ]
           ]
          },
          "colorway": [
           "#636efa",
           "#EF553B",
           "#00cc96",
           "#ab63fa",
           "#FFA15A",
           "#19d3f3",
           "#FF6692",
           "#B6E880",
           "#FF97FF",
           "#FECB52"
          ],
          "font": {
           "color": "#2a3f5f"
          },
          "geo": {
           "bgcolor": "white",
           "lakecolor": "white",
           "landcolor": "#E5ECF6",
           "showlakes": true,
           "showland": true,
           "subunitcolor": "white"
          },
          "hoverlabel": {
           "align": "left"
          },
          "hovermode": "closest",
          "mapbox": {
           "style": "light"
          },
          "paper_bgcolor": "white",
          "plot_bgcolor": "#E5ECF6",
          "polar": {
           "angularaxis": {
            "gridcolor": "white",
            "linecolor": "white",
            "ticks": ""
           },
           "bgcolor": "#E5ECF6",
           "radialaxis": {
            "gridcolor": "white",
            "linecolor": "white",
            "ticks": ""
           }
          },
          "scene": {
           "xaxis": {
            "backgroundcolor": "#E5ECF6",
            "gridcolor": "white",
            "gridwidth": 2,
            "linecolor": "white",
            "showbackground": true,
            "ticks": "",
            "zerolinecolor": "white"
           },
           "yaxis": {
            "backgroundcolor": "#E5ECF6",
            "gridcolor": "white",
            "gridwidth": 2,
            "linecolor": "white",
            "showbackground": true,
            "ticks": "",
            "zerolinecolor": "white"
           },
           "zaxis": {
            "backgroundcolor": "#E5ECF6",
            "gridcolor": "white",
            "gridwidth": 2,
            "linecolor": "white",
            "showbackground": true,
            "ticks": "",
            "zerolinecolor": "white"
           }
          },
          "shapedefaults": {
           "line": {
            "color": "#2a3f5f"
           }
          },
          "ternary": {
           "aaxis": {
            "gridcolor": "white",
            "linecolor": "white",
            "ticks": ""
           },
           "baxis": {
            "gridcolor": "white",
            "linecolor": "white",
            "ticks": ""
           },
           "bgcolor": "#E5ECF6",
           "caxis": {
            "gridcolor": "white",
            "linecolor": "white",
            "ticks": ""
           }
          },
          "title": {
           "x": 0.05
          },
          "xaxis": {
           "automargin": true,
           "gridcolor": "white",
           "linecolor": "white",
           "ticks": "",
           "title": {
            "standoff": 15
           },
           "zerolinecolor": "white",
           "zerolinewidth": 2
          },
          "yaxis": {
           "automargin": true,
           "gridcolor": "white",
           "linecolor": "white",
           "ticks": "",
           "title": {
            "standoff": 15
           },
           "zerolinecolor": "white",
           "zerolinewidth": 2
          }
         }
        },
        "title": {
         "font": {
          "size": 20
         },
         "text": "Poverty gap trends in NYC (SPM)"
        },
        "width": 800,
        "xaxis": {
         "anchor": "y",
         "domain": [
          0,
          1
         ],
         "tickfont": {
          "size": 14
         },
         "title": {
          "font": {
           "color": "black",
           "size": 16
          },
          "text": ""
         }
        },
        "yaxis": {
         "anchor": "x",
         "domain": [
          0,
          1
         ],
         "range": [
          0,
          10000000000
         ],
         "tickfont": {
          "size": 14
         },
         "tickprefix": "$",
         "title": {
          "font": {
           "color": "black",
           "size": 16
          },
          "text": ""
         }
        }
       }
      }
     },
     "metadata": {}
    }
   ],
   "source": [
    "pov_gap_trend = year.melt(\"year\", [\"poverty_gap\", \"deep_poverty_gap\"])\n",
    "pov_gap_trend.variable = pov_gap_trend.variable.map(LABELS)\n",
    "fig = px.line(\n",
    "    pov_gap_trend,\n",
    "    \"year\",\n",
    "    \"value\",\n",
    "    color=\"variable\",\n",
    "    color_discrete_map=COLOR_MAP,\n",
    "    labels=LABELS,\n",
    "    title=\"Poverty gap trends in NYC (SPM)\")\n",
    "fig.update_layout(yaxis_tickprefix=\"$\", xaxis_title=\"\", yaxis_title=\"\", legend_title=\"\",\n",
    "    yaxis_range=[0, 1e10])\n",
    "format_fig(fig)"
   ]
  },
  {
   "cell_type": "code",
   "execution_count": 8,
   "metadata": {},
   "outputs": [
    {
     "output_type": "execute_result",
     "data": {
      "text/plain": [
       "-0.032960951141618566"
      ]
     },
     "metadata": {},
     "execution_count": 8
    }
   ],
   "source": [
    "def pct_chg_trend(col):\n",
    "    # return (year[col].iloc[-1] / year[col].iloc[0]) ** (1 / (year.shape[0] - 1)) - 1\n",
    "    return np.mean((year[col] / year[col].shift(1))) - 1\n",
    "\n",
    "pct_chg_trend(\"deep_poverty_gap\")"
   ]
  },
  {
   "cell_type": "code",
   "execution_count": 9,
   "metadata": {},
   "outputs": [],
   "source": [
    "def trend(col):\n",
    "    if col in year.columns:\n",
    "        # Coefficient on year of a regression of the difference in a variable.\n",
    "        return sm.OLS(\n",
    "            year[col] / year[col].iloc[0],\n",
    "            sm.add_constant(year.index)\n",
    "        ).fit().params[\"x1\"]\n",
    "    return None"
   ]
  },
  {
   "cell_type": "code",
   "execution_count": 16,
   "metadata": {},
   "outputs": [
    {
     "output_type": "execute_result",
     "data": {
      "text/plain": [
       "      pov_ratio_guarantee  phase_out_rate    cost_b   adult_reach  \\\n",
       "0                    0.01            0.00  0.860683  6.660054e+06   \n",
       "1                    0.01            0.01  0.064600  1.285708e+06   \n",
       "2                    0.01            0.02  0.028903  3.472183e+05   \n",
       "3                    0.01            0.03  0.023849  2.231429e+05   \n",
       "4                    0.01            0.04  0.021741  1.861716e+05   \n",
       "...                   ...             ...       ...           ...   \n",
       "5045                 0.50            0.96  1.484681  3.713384e+05   \n",
       "5046                 0.50            0.97  1.474007  3.700070e+05   \n",
       "5047                 0.50            0.98  1.463818  3.563081e+05   \n",
       "5048                 0.50            0.99  1.454281  3.489403e+05   \n",
       "5049                 0.50            1.00  1.445169  3.472183e+05   \n",
       "\n",
       "        spmu_reach   child_reach      gini  poverty_rate  deep_poverty_rate  \\\n",
       "0     3.712855e+06  1.739910e+06  0.487076      0.197996           0.047976   \n",
       "1     7.512678e+05  4.091063e+05  0.488207      0.201764           0.049370   \n",
       "2     2.329493e+05  7.028474e+04  0.488380      0.201764           0.049703   \n",
       "3     1.684367e+05  4.841986e+04  0.488410      0.201764           0.049703   \n",
       "4     1.452380e+05  3.233471e+04  0.488422      0.201764           0.049703   \n",
       "...            ...           ...       ...           ...                ...   \n",
       "5045  2.469092e+05  7.423493e+04  0.479748      0.201764           0.008381   \n",
       "5046  2.462435e+05  7.354813e+04  0.479805      0.201764           0.008381   \n",
       "5047  2.376609e+05  7.233507e+04  0.479859      0.201764           0.008381   \n",
       "5048  2.346713e+05  7.028474e+04  0.479910      0.201764           0.008381   \n",
       "5049  2.329493e+05  7.028474e+04  0.479959      0.201764           0.008381   \n",
       "\n",
       "      child_poverty_rate  child_deep_poverty_rate  adult_poverty_rate  \\\n",
       "0               0.230656                 0.038919            0.189464   \n",
       "1               0.235131                 0.040396            0.193048   \n",
       "2               0.235131                 0.040396            0.193048   \n",
       "3               0.235131                 0.040396            0.193048   \n",
       "4               0.235131                 0.040396            0.193048   \n",
       "...                  ...                      ...                 ...   \n",
       "5045            0.235131                 0.002450            0.193048   \n",
       "5046            0.235131                 0.002450            0.193048   \n",
       "5047            0.235131                 0.002450            0.193048   \n",
       "5048            0.235131                 0.002450            0.193048   \n",
       "5049            0.235131                 0.002450            0.193048   \n",
       "\n",
       "      adult_deep_poverty_rate   poverty_gap  squared_poverty_gap  \\\n",
       "0                    0.050342  6.372123e+09         9.435255e+13   \n",
       "1                    0.051714  6.479488e+09         9.568039e+13   \n",
       "2                    0.052134  6.515185e+09         9.643910e+13   \n",
       "3                    0.052134  6.520239e+09         9.662273e+13   \n",
       "4                    0.052134  6.522347e+09         9.670770e+13   \n",
       "...                       ...           ...                  ...   \n",
       "5045                 0.009930  5.059407e+09         5.152153e+13   \n",
       "5046                 0.009930  5.070081e+09         5.180054e+13   \n",
       "5047                 0.009930  5.080270e+09         5.207123e+13   \n",
       "5048                 0.009930  5.089807e+09         5.232758e+13   \n",
       "5049                 0.009930  5.098919e+09         5.257027e+13   \n",
       "\n",
       "      deep_poverty_gap phase_out_rate_pct  \n",
       "0         1.482777e+09                 0%  \n",
       "1         1.491369e+09                 1%  \n",
       "2         1.500395e+09                 2%  \n",
       "3         1.505449e+09                 3%  \n",
       "4         1.507557e+09                 4%  \n",
       "...                ...                ...  \n",
       "5045      8.412901e+07                96%  \n",
       "5046      8.412901e+07                97%  \n",
       "5047      8.412901e+07                98%  \n",
       "5048      8.412901e+07                99%  \n",
       "5049      8.412901e+07               100%  \n",
       "\n",
       "[5050 rows x 17 columns]"
      ],
      "text/html": "<div>\n<style scoped>\n    .dataframe tbody tr th:only-of-type {\n        vertical-align: middle;\n    }\n\n    .dataframe tbody tr th {\n        vertical-align: top;\n    }\n\n    .dataframe thead th {\n        text-align: right;\n    }\n</style>\n<table border=\"1\" class=\"dataframe\">\n  <thead>\n    <tr style=\"text-align: right;\">\n      <th></th>\n      <th>pov_ratio_guarantee</th>\n      <th>phase_out_rate</th>\n      <th>cost_b</th>\n      <th>adult_reach</th>\n      <th>spmu_reach</th>\n      <th>child_reach</th>\n      <th>gini</th>\n      <th>poverty_rate</th>\n      <th>deep_poverty_rate</th>\n      <th>child_poverty_rate</th>\n      <th>child_deep_poverty_rate</th>\n      <th>adult_poverty_rate</th>\n      <th>adult_deep_poverty_rate</th>\n      <th>poverty_gap</th>\n      <th>squared_poverty_gap</th>\n      <th>deep_poverty_gap</th>\n      <th>phase_out_rate_pct</th>\n    </tr>\n  </thead>\n  <tbody>\n    <tr>\n      <th>0</th>\n      <td>0.01</td>\n      <td>0.00</td>\n      <td>0.860683</td>\n      <td>6.660054e+06</td>\n      <td>3.712855e+06</td>\n      <td>1.739910e+06</td>\n      <td>0.487076</td>\n      <td>0.197996</td>\n      <td>0.047976</td>\n      <td>0.230656</td>\n      <td>0.038919</td>\n      <td>0.189464</td>\n      <td>0.050342</td>\n      <td>6.372123e+09</td>\n      <td>9.435255e+13</td>\n      <td>1.482777e+09</td>\n      <td>0%</td>\n    </tr>\n    <tr>\n      <th>1</th>\n      <td>0.01</td>\n      <td>0.01</td>\n      <td>0.064600</td>\n      <td>1.285708e+06</td>\n      <td>7.512678e+05</td>\n      <td>4.091063e+05</td>\n      <td>0.488207</td>\n      <td>0.201764</td>\n      <td>0.049370</td>\n      <td>0.235131</td>\n      <td>0.040396</td>\n      <td>0.193048</td>\n      <td>0.051714</td>\n      <td>6.479488e+09</td>\n      <td>9.568039e+13</td>\n      <td>1.491369e+09</td>\n      <td>1%</td>\n    </tr>\n    <tr>\n      <th>2</th>\n      <td>0.01</td>\n      <td>0.02</td>\n      <td>0.028903</td>\n      <td>3.472183e+05</td>\n      <td>2.329493e+05</td>\n      <td>7.028474e+04</td>\n      <td>0.488380</td>\n      <td>0.201764</td>\n      <td>0.049703</td>\n      <td>0.235131</td>\n      <td>0.040396</td>\n      <td>0.193048</td>\n      <td>0.052134</td>\n      <td>6.515185e+09</td>\n      <td>9.643910e+13</td>\n      <td>1.500395e+09</td>\n      <td>2%</td>\n    </tr>\n    <tr>\n      <th>3</th>\n      <td>0.01</td>\n      <td>0.03</td>\n      <td>0.023849</td>\n      <td>2.231429e+05</td>\n      <td>1.684367e+05</td>\n      <td>4.841986e+04</td>\n      <td>0.488410</td>\n      <td>0.201764</td>\n      <td>0.049703</td>\n      <td>0.235131</td>\n      <td>0.040396</td>\n      <td>0.193048</td>\n      <td>0.052134</td>\n      <td>6.520239e+09</td>\n      <td>9.662273e+13</td>\n      <td>1.505449e+09</td>\n      <td>3%</td>\n    </tr>\n    <tr>\n      <th>4</th>\n      <td>0.01</td>\n      <td>0.04</td>\n      <td>0.021741</td>\n      <td>1.861716e+05</td>\n      <td>1.452380e+05</td>\n      <td>3.233471e+04</td>\n      <td>0.488422</td>\n      <td>0.201764</td>\n      <td>0.049703</td>\n      <td>0.235131</td>\n      <td>0.040396</td>\n      <td>0.193048</td>\n      <td>0.052134</td>\n      <td>6.522347e+09</td>\n      <td>9.670770e+13</td>\n      <td>1.507557e+09</td>\n      <td>4%</td>\n    </tr>\n    <tr>\n      <th>...</th>\n      <td>...</td>\n      <td>...</td>\n      <td>...</td>\n      <td>...</td>\n      <td>...</td>\n      <td>...</td>\n      <td>...</td>\n      <td>...</td>\n      <td>...</td>\n      <td>...</td>\n      <td>...</td>\n      <td>...</td>\n      <td>...</td>\n      <td>...</td>\n      <td>...</td>\n      <td>...</td>\n      <td>...</td>\n    </tr>\n    <tr>\n      <th>5045</th>\n      <td>0.50</td>\n      <td>0.96</td>\n      <td>1.484681</td>\n      <td>3.713384e+05</td>\n      <td>2.469092e+05</td>\n      <td>7.423493e+04</td>\n      <td>0.479748</td>\n      <td>0.201764</td>\n      <td>0.008381</td>\n      <td>0.235131</td>\n      <td>0.002450</td>\n      <td>0.193048</td>\n      <td>0.009930</td>\n      <td>5.059407e+09</td>\n      <td>5.152153e+13</td>\n      <td>8.412901e+07</td>\n      <td>96%</td>\n    </tr>\n    <tr>\n      <th>5046</th>\n      <td>0.50</td>\n      <td>0.97</td>\n      <td>1.474007</td>\n      <td>3.700070e+05</td>\n      <td>2.462435e+05</td>\n      <td>7.354813e+04</td>\n      <td>0.479805</td>\n      <td>0.201764</td>\n      <td>0.008381</td>\n      <td>0.235131</td>\n      <td>0.002450</td>\n      <td>0.193048</td>\n      <td>0.009930</td>\n      <td>5.070081e+09</td>\n      <td>5.180054e+13</td>\n      <td>8.412901e+07</td>\n      <td>97%</td>\n    </tr>\n    <tr>\n      <th>5047</th>\n      <td>0.50</td>\n      <td>0.98</td>\n      <td>1.463818</td>\n      <td>3.563081e+05</td>\n      <td>2.376609e+05</td>\n      <td>7.233507e+04</td>\n      <td>0.479859</td>\n      <td>0.201764</td>\n      <td>0.008381</td>\n      <td>0.235131</td>\n      <td>0.002450</td>\n      <td>0.193048</td>\n      <td>0.009930</td>\n      <td>5.080270e+09</td>\n      <td>5.207123e+13</td>\n      <td>8.412901e+07</td>\n      <td>98%</td>\n    </tr>\n    <tr>\n      <th>5048</th>\n      <td>0.50</td>\n      <td>0.99</td>\n      <td>1.454281</td>\n      <td>3.489403e+05</td>\n      <td>2.346713e+05</td>\n      <td>7.028474e+04</td>\n      <td>0.479910</td>\n      <td>0.201764</td>\n      <td>0.008381</td>\n      <td>0.235131</td>\n      <td>0.002450</td>\n      <td>0.193048</td>\n      <td>0.009930</td>\n      <td>5.089807e+09</td>\n      <td>5.232758e+13</td>\n      <td>8.412901e+07</td>\n      <td>99%</td>\n    </tr>\n    <tr>\n      <th>5049</th>\n      <td>0.50</td>\n      <td>1.00</td>\n      <td>1.445169</td>\n      <td>3.472183e+05</td>\n      <td>2.329493e+05</td>\n      <td>7.028474e+04</td>\n      <td>0.479959</td>\n      <td>0.201764</td>\n      <td>0.008381</td>\n      <td>0.235131</td>\n      <td>0.002450</td>\n      <td>0.193048</td>\n      <td>0.009930</td>\n      <td>5.098919e+09</td>\n      <td>5.257027e+13</td>\n      <td>8.412901e+07</td>\n      <td>100%</td>\n    </tr>\n  </tbody>\n</table>\n<p>5050 rows × 17 columns</p>\n</div>"
     },
     "metadata": {},
     "execution_count": 16
    }
   ],
   "source": [
    "# Use three years of data to smooth out given small sample size.\n",
    "p = py[py.year.isin([2017, 2018, 2019])].copy()\n",
    "p[[\"asecwt\", \"spmwt\"]] /= 3\n",
    "\n",
    "P_S_MERGE_COLS = [\"year\", \"spmfamunit\"]  # SPM unit keys from person.\n",
    "SPMU_COLS = [\"spmtotres\", \"spmthresh\", \"spmratio\", \"spmwt\", \"spmftotval\"]\n",
    "SPMU_AGGS = [\"adult\", \"child\"]\n",
    "\n",
    "s = p.groupby(P_S_MERGE_COLS + SPMU_COLS)[SPMU_AGGS].sum().reset_index()\n",
    "\n",
    "def phase_out(amount, rate, respect_to):\n",
    "    return np.maximum(0, amount - respect_to * rate)\n",
    "\n",
    "\n",
    "\n",
    "def policy(pov_ratio_guarantee, phase_out_rate):\n",
    "    \"\"\" Computes features of a negative income tax.\n",
    "\n",
    "    Args:\n",
    "        pov_ratio_guarantee: Maximum benefit as a share of a SPM unit's\n",
    "            poverty threshold.\n",
    "        phase_out_rate: Phase-out rate with respect to a SPM unit's resources.\n",
    "    \"\"\"\n",
    "    s[\"max_transfer\"] = s.spmthresh * pov_ratio_guarantee\n",
    "    s[\"transfer\"] = phase_out(s.max_transfer, phase_out_rate,\n",
    "                              np.maximum(s.spmtotres, 0))\n",
    "    s[\"spmtotres_r\"] = s.spmtotres + s.transfer\n",
    "    s[\"spmtotres_r_pos\"] = np.maximum(s.spmtotres_r, 0)\n",
    "    p2 = p.merge(\n",
    "        s[P_S_MERGE_COLS + [\"transfer\", \"spmtotres_r\", \"spmtotres_r_pos\"]],\n",
    "        on=P_S_MERGE_COLS\n",
    "    )\n",
    "    return pd.Series({\n",
    "        # Variables for defining policies.\n",
    "        \"cost_b\": mdf.weighted_sum(s, \"transfer\", \"spmwt\") / 1e9,\n",
    "        \"adult_reach\": p2[(p2.transfer > 0) & p2.adult].asecwt.sum(),\n",
    "        # Variables for evaluation.\n",
    "        \"spmu_reach\": s[s.transfer > 0].spmwt.sum(),\n",
    "        \"child_reach\": p2[(p2.transfer > 0) & p2.child].asecwt.sum(),\n",
    "        \"gini\": mdf.gini(s, \"spmtotres_r\", \"spmwt\"),\n",
    "        \"poverty_rate\": mdf.poverty_rate(p2, \"spmtotres_r\", \"spmthresh\", \"asecwt\"),\n",
    "        \"deep_poverty_rate\": mdf.deep_poverty_rate(p2, \"spmtotres_r\", \"spmthresh\", \"asecwt\"),\n",
    "        \"child_poverty_rate\": mdf.poverty_rate(p2[p2.child], \"spmtotres_r\", \"spmthresh\", \"asecwt\"),\n",
    "        \"child_deep_poverty_rate\": mdf.deep_poverty_rate(p2[p2.child], \"spmtotres_r\", \"spmthresh\", \"asecwt\"),\n",
    "        \"adult_poverty_rate\": mdf.poverty_rate(p2[p2.adult], \"spmtotres_r\", \"spmthresh\", \"asecwt\"),\n",
    "        \"adult_deep_poverty_rate\": mdf.deep_poverty_rate(p2[p2.adult], \"spmtotres_r\", \"spmthresh\", \"asecwt\"),\n",
    "        \"poverty_gap\": mdf.poverty_gap(s, \"spmtotres_r_pos\", \"spmthresh\", \"spmwt\"),\n",
    "        \"squared_poverty_gap\": mdf.squared_poverty_gap(s, \"spmtotres_r_pos\", \"spmthresh\", \"spmwt\"),\n",
    "        \"deep_poverty_gap\": mdf.deep_poverty_gap(s, \"spmtotres_r_pos\", \"spmthresh\", \"spmwt\"),\n",
    "    })\n",
    "\n",
    "if RUN_SIMS:\n",
    "    policies = mdf.cartesian_product({\n",
    "        \"pov_ratio_guarantee\": np.arange(0.01, 0.51, 0.01),\n",
    "        \"phase_out_rate\": np.arange(0, 1.01, 0.01)\n",
    "        })\n",
    "    policies = pd.concat([policies,\n",
    "        policies.apply(lambda x: policy(x.pov_ratio_guarantee, x.phase_out_rate), axis=1)],\n",
    "        axis=1)\n",
    "    # Takes ~5min to run.\n",
    "    policies.to_csv(\"data/policies.csv\", index=False)\n",
    "else:\n",
    "    policies = pd.read_csv(\"data/policies.csv\")\n",
    "policies[\"phase_out_rate_pct\"] = (policies.phase_out_rate * 100).astype(int).astype(str) + \"%\"\n",
    "policies"
   ]
  },
  {
   "cell_type": "code",
   "execution_count": 17,
   "metadata": {},
   "outputs": [
    {
     "output_type": "display_data",
     "data": {
      "application/vnd.plotly.v1+json": {
       "config": {
        "displayModeBar": false,
        "plotlyServerURL": "https://plot.ly"
       },
       "data": [
        {
         "hovertemplate": "Benefit phase-out rate with respect to SPM resources=25%<br>Maximum benefit as a share of SPM poverty threshold=%{x}<br>Cost ($B)=%{y:.2f}<extra></extra>",
         "legendgroup": "25%",
         "line": {
          "color": "#ABCEEB",
          "dash": "solid"
         },
         "mode": "lines",
         "name": "25%",
         "orientation": "v",
         "showlegend": true,
         "type": "scatter",
         "x": [
          0.01,
          0.02,
          0.03,
          0.04,
          0.05,
          0.06000000000000001,
          0.06999999999999999,
          0.08,
          0.09,
          0.1,
          0.11,
          0.12,
          0.13,
          0.14,
          0.15000000000000002,
          0.16,
          0.17,
          0.18000000000000002,
          0.19,
          0.2,
          0.21,
          0.22,
          0.23,
          0.24,
          0.25,
          0.26,
          0.27,
          0.28,
          0.29000000000000004,
          0.3,
          0.31,
          0.32,
          0.33,
          0.34,
          0.35000000000000003,
          0.36000000000000004,
          0.37,
          0.38,
          0.39,
          0.4,
          0.41,
          0.42,
          0.43,
          0.44,
          0.45,
          0.46,
          0.47,
          0.48,
          0.49,
          0.5
         ],
         "xaxis": "x",
         "y": [
          0.016662808184565975,
          0.03597912497059858,
          0.056856533290362186,
          0.07899468521755698,
          0.10301147939788964,
          0.12913818723160142,
          0.1573602964674948,
          0.1880480180268304,
          0.2209675596991037,
          0.2564538836822379,
          0.2954517553722781,
          0.33842574169677364,
          0.38558876360587824,
          0.4388274560255189,
          0.4987400424253236,
          0.5672042958712052,
          0.6416739726212473,
          0.7237279306884364,
          0.8154998577519764,
          0.9170476738090578,
          1.0301267465191235,
          1.1574992760948286,
          1.2961495376608754,
          1.4484142819023085,
          1.6149897630197296,
          1.7981190749037543,
          1.9980690318607652,
          2.2145322906998675,
          2.448914099323709,
          2.7017102399506463,
          2.9706526747518827,
          3.2534554002083103,
          3.5519885734858145,
          3.8635366542383562,
          4.1888592496499415,
          4.5274833082652215,
          4.877412603516257,
          5.238771813409638,
          5.6098799943363735,
          5.991908863795913,
          6.384816335774682,
          6.785529922842097,
          7.193946692501613,
          7.611678514555606,
          8.036043515744176,
          8.467805968456672,
          8.90801737535495,
          9.357688299013423,
          9.814159742227893,
          10.276574735024186
         ],
         "yaxis": "y"
        },
        {
         "hovertemplate": "Benefit phase-out rate with respect to SPM resources=50%<br>Maximum benefit as a share of SPM poverty threshold=%{x}<br>Cost ($B)=%{y:.2f}<extra></extra>",
         "legendgroup": "50%",
         "line": {
          "color": "#49A6E2",
          "dash": "solid"
         },
         "mode": "lines",
         "name": "50%",
         "orientation": "v",
         "showlegend": true,
         "type": "scatter",
         "x": [
          0.01,
          0.02,
          0.03,
          0.04,
          0.05,
          0.06000000000000001,
          0.06999999999999999,
          0.08,
          0.09,
          0.1,
          0.11,
          0.12,
          0.13,
          0.14,
          0.15000000000000002,
          0.16,
          0.17,
          0.18000000000000002,
          0.19,
          0.2,
          0.21,
          0.22,
          0.23,
          0.24,
          0.25,
          0.26,
          0.27,
          0.28,
          0.29000000000000004,
          0.3,
          0.31,
          0.32,
          0.33,
          0.34,
          0.35000000000000003,
          0.36000000000000004,
          0.37,
          0.38,
          0.39,
          0.4,
          0.41,
          0.42,
          0.43,
          0.44,
          0.45,
          0.46,
          0.47,
          0.48,
          0.49,
          0.5
         ],
         "xaxis": "x",
         "y": [
          0.015841852255804926,
          0.03332561636913195,
          0.0520409448773975,
          0.07195824994119716,
          0.09262799405121444,
          0.1137130665807244,
          0.1355224728448146,
          0.15798937043511396,
          0.1814668034489553,
          0.20602295879577925,
          0.2316489906938183,
          0.25827637446320284,
          0.285702447824484,
          0.3147205929349897,
          0.3447689893594384,
          0.3760960360536608,
          0.40836400021297947,
          0.4419351193982076,
          0.4766912803996154,
          0.5129077673644761,
          0.5508540187095136,
          0.5909035107445562,
          0.6327888036889048,
          0.6768514833935474,
          0.7225844673453945,
          0.7711775272117565,
          0.8228600399827131,
          0.8776549120510377,
          0.9352449026438164,
          0.9974800848506468,
          1.0639976421440145,
          1.1344085917424105,
          1.207651290664128,
          1.2833479452424943,
          1.3623938490916077,
          1.4474558613768729,
          1.5365621473447255,
          1.6309997155039528,
          1.7303068730225792,
          1.834095347618116,
          1.9434894063269936,
          2.060253493038247,
          2.185027534422343,
          2.3149985521896568,
          2.4503376302876823,
          2.5922990753217507,
          2.740917377148376,
          2.896828563804617,
          3.059827731390245,
          3.2299795260394597
         ],
         "yaxis": "y"
        },
        {
         "hovertemplate": "Benefit phase-out rate with respect to SPM resources=100%<br>Maximum benefit as a share of SPM poverty threshold=%{x}<br>Cost ($B)=%{y:.2f}<extra></extra>",
         "legendgroup": "100%",
         "line": {
          "color": "#0F4AA1",
          "dash": "solid"
         },
         "mode": "lines",
         "name": "100%",
         "orientation": "v",
         "showlegend": true,
         "type": "scatter",
         "x": [
          0.01,
          0.02,
          0.03,
          0.04,
          0.05,
          0.06000000000000001,
          0.06999999999999999,
          0.08,
          0.09,
          0.1,
          0.11,
          0.12,
          0.13,
          0.14,
          0.15000000000000002,
          0.16,
          0.17,
          0.18000000000000002,
          0.19,
          0.2,
          0.21,
          0.22,
          0.23,
          0.24,
          0.25,
          0.26,
          0.27,
          0.28,
          0.29000000000000004,
          0.3,
          0.31,
          0.32,
          0.33,
          0.34,
          0.35000000000000003,
          0.36000000000000004,
          0.37,
          0.38,
          0.39,
          0.4,
          0.41,
          0.42,
          0.43,
          0.44,
          0.45,
          0.46,
          0.47,
          0.48,
          0.49,
          0.5
         ],
         "xaxis": "x",
         "y": [
          0.01534657853898594,
          0.03168370451160985,
          0.04896820380837792,
          0.0666512327382639,
          0.0850866592047025,
          0.10408188975479503,
          0.12364194996755415,
          0.14391649988239433,
          0.16448350931760994,
          0.18525598810242885,
          0.2062358073012242,
          0.2274261331614488,
          0.24919779378463616,
          0.2710449456896292,
          0.2932146298482888,
          0.3159787408702279,
          0.3391558984958339,
          0.3629336068979107,
          0.3872311465978773,
          0.4120459175915585,
          0.4374313852737075,
          0.4632979813876366,
          0.4897544365311254,
          0.5165527489264057,
          0.5435168992106858,
          0.571404895648968,
          0.6002373064332329,
          0.6294411858699794,
          0.6592932947299439,
          0.6895379787188766,
          0.7204302101564761,
          0.7521920721073216,
          0.7842481671148587,
          0.8167280004259589,
          0.8499958147960859,
          0.8838702387964151,
          0.918361024790108,
          0.9533825607992308,
          0.9892981063950724,
          1.0258155347289521,
          1.063151289821699,
          1.1017080374190271,
          1.1411467500761947,
          1.1818070214891123,
          1.223030159370054,
          1.2655776073778096,
          1.309328396671761,
          1.3537029667870948,
          1.3986483377232917,
          1.445168934690789
         ],
         "yaxis": "y"
        }
       ],
       "layout": {
        "annotations": [
         {
          "align": "left",
          "font": {
           "color": "gray"
          },
          "showarrow": false,
          "text": "Yang constraint<br>$1 billion cost",
          "x": 0.05,
          "y": 1
         }
        ],
        "font": {
         "family": "Roboto"
        },
        "height": 600,
        "hoverlabel": {
         "align": "right"
        },
        "images": [
         {
          "sizex": 0.12,
          "sizey": 0.12,
          "source": "https://raw.githubusercontent.com/UBICenter/blog/master/jb/_static/ubi_center_logo_wide_blue.png",
          "x": 0.98,
          "xanchor": "right",
          "xref": "paper",
          "y": -0.12,
          "yanchor": "bottom",
          "yref": "paper"
         }
        ],
        "legend": {
         "title": {
          "text": "Benefit phase-out rate with respect to SPM resources"
         },
         "tracegroupgap": 0,
         "x": 0.01,
         "xanchor": "left",
         "y": 0.99,
         "yanchor": "top"
        },
        "paper_bgcolor": "white",
        "plot_bgcolor": "white",
        "shapes": [
         {
          "line": {
           "color": "gray",
           "dash": "dash"
          },
          "type": "line",
          "x0": 0,
          "x1": 1,
          "xref": "x domain",
          "y0": 1,
          "y1": 1,
          "yref": "y"
         }
        ],
        "template": {
         "data": {
          "bar": [
           {
            "error_x": {
             "color": "#2a3f5f"
            },
            "error_y": {
             "color": "#2a3f5f"
            },
            "marker": {
             "line": {
              "color": "#E5ECF6",
              "width": 0.5
             }
            },
            "type": "bar"
           }
          ],
          "barpolar": [
           {
            "marker": {
             "line": {
              "color": "#E5ECF6",
              "width": 0.5
             }
            },
            "type": "barpolar"
           }
          ],
          "carpet": [
           {
            "aaxis": {
             "endlinecolor": "#2a3f5f",
             "gridcolor": "white",
             "linecolor": "white",
             "minorgridcolor": "white",
             "startlinecolor": "#2a3f5f"
            },
            "baxis": {
             "endlinecolor": "#2a3f5f",
             "gridcolor": "white",
             "linecolor": "white",
             "minorgridcolor": "white",
             "startlinecolor": "#2a3f5f"
            },
            "type": "carpet"
           }
          ],
          "choropleth": [
           {
            "colorbar": {
             "outlinewidth": 0,
             "ticks": ""
            },
            "type": "choropleth"
           }
          ],
          "contour": [
           {
            "colorbar": {
             "outlinewidth": 0,
             "ticks": ""
            },
            "colorscale": [
             [
              0,
              "#0d0887"
             ],
             [
              0.1111111111111111,
              "#46039f"
             ],
             [
              0.2222222222222222,
              "#7201a8"
             ],
             [
              0.3333333333333333,
              "#9c179e"
             ],
             [
              0.4444444444444444,
              "#bd3786"
             ],
             [
              0.5555555555555556,
              "#d8576b"
             ],
             [
              0.6666666666666666,
              "#ed7953"
             ],
             [
              0.7777777777777778,
              "#fb9f3a"
             ],
             [
              0.8888888888888888,
              "#fdca26"
             ],
             [
              1,
              "#f0f921"
             ]
            ],
            "type": "contour"
           }
          ],
          "contourcarpet": [
           {
            "colorbar": {
             "outlinewidth": 0,
             "ticks": ""
            },
            "type": "contourcarpet"
           }
          ],
          "heatmap": [
           {
            "colorbar": {
             "outlinewidth": 0,
             "ticks": ""
            },
            "colorscale": [
             [
              0,
              "#0d0887"
             ],
             [
              0.1111111111111111,
              "#46039f"
             ],
             [
              0.2222222222222222,
              "#7201a8"
             ],
             [
              0.3333333333333333,
              "#9c179e"
             ],
             [
              0.4444444444444444,
              "#bd3786"
             ],
             [
              0.5555555555555556,
              "#d8576b"
             ],
             [
              0.6666666666666666,
              "#ed7953"
             ],
             [
              0.7777777777777778,
              "#fb9f3a"
             ],
             [
              0.8888888888888888,
              "#fdca26"
             ],
             [
              1,
              "#f0f921"
             ]
            ],
            "type": "heatmap"
           }
          ],
          "heatmapgl": [
           {
            "colorbar": {
             "outlinewidth": 0,
             "ticks": ""
            },
            "colorscale": [
             [
              0,
              "#0d0887"
             ],
             [
              0.1111111111111111,
              "#46039f"
             ],
             [
              0.2222222222222222,
              "#7201a8"
             ],
             [
              0.3333333333333333,
              "#9c179e"
             ],
             [
              0.4444444444444444,
              "#bd3786"
             ],
             [
              0.5555555555555556,
              "#d8576b"
             ],
             [
              0.6666666666666666,
              "#ed7953"
             ],
             [
              0.7777777777777778,
              "#fb9f3a"
             ],
             [
              0.8888888888888888,
              "#fdca26"
             ],
             [
              1,
              "#f0f921"
             ]
            ],
            "type": "heatmapgl"
           }
          ],
          "histogram": [
           {
            "marker": {
             "colorbar": {
              "outlinewidth": 0,
              "ticks": ""
             }
            },
            "type": "histogram"
           }
          ],
          "histogram2d": [
           {
            "colorbar": {
             "outlinewidth": 0,
             "ticks": ""
            },
            "colorscale": [
             [
              0,
              "#0d0887"
             ],
             [
              0.1111111111111111,
              "#46039f"
             ],
             [
              0.2222222222222222,
              "#7201a8"
             ],
             [
              0.3333333333333333,
              "#9c179e"
             ],
             [
              0.4444444444444444,
              "#bd3786"
             ],
             [
              0.5555555555555556,
              "#d8576b"
             ],
             [
              0.6666666666666666,
              "#ed7953"
             ],
             [
              0.7777777777777778,
              "#fb9f3a"
             ],
             [
              0.8888888888888888,
              "#fdca26"
             ],
             [
              1,
              "#f0f921"
             ]
            ],
            "type": "histogram2d"
           }
          ],
          "histogram2dcontour": [
           {
            "colorbar": {
             "outlinewidth": 0,
             "ticks": ""
            },
            "colorscale": [
             [
              0,
              "#0d0887"
             ],
             [
              0.1111111111111111,
              "#46039f"
             ],
             [
              0.2222222222222222,
              "#7201a8"
             ],
             [
              0.3333333333333333,
              "#9c179e"
             ],
             [
              0.4444444444444444,
              "#bd3786"
             ],
             [
              0.5555555555555556,
              "#d8576b"
             ],
             [
              0.6666666666666666,
              "#ed7953"
             ],
             [
              0.7777777777777778,
              "#fb9f3a"
             ],
             [
              0.8888888888888888,
              "#fdca26"
             ],
             [
              1,
              "#f0f921"
             ]
            ],
            "type": "histogram2dcontour"
           }
          ],
          "mesh3d": [
           {
            "colorbar": {
             "outlinewidth": 0,
             "ticks": ""
            },
            "type": "mesh3d"
           }
          ],
          "parcoords": [
           {
            "line": {
             "colorbar": {
              "outlinewidth": 0,
              "ticks": ""
             }
            },
            "type": "parcoords"
           }
          ],
          "pie": [
           {
            "automargin": true,
            "type": "pie"
           }
          ],
          "scatter": [
           {
            "marker": {
             "colorbar": {
              "outlinewidth": 0,
              "ticks": ""
             }
            },
            "type": "scatter"
           }
          ],
          "scatter3d": [
           {
            "line": {
             "colorbar": {
              "outlinewidth": 0,
              "ticks": ""
             }
            },
            "marker": {
             "colorbar": {
              "outlinewidth": 0,
              "ticks": ""
             }
            },
            "type": "scatter3d"
           }
          ],
          "scattercarpet": [
           {
            "marker": {
             "colorbar": {
              "outlinewidth": 0,
              "ticks": ""
             }
            },
            "type": "scattercarpet"
           }
          ],
          "scattergeo": [
           {
            "marker": {
             "colorbar": {
              "outlinewidth": 0,
              "ticks": ""
             }
            },
            "type": "scattergeo"
           }
          ],
          "scattergl": [
           {
            "marker": {
             "colorbar": {
              "outlinewidth": 0,
              "ticks": ""
             }
            },
            "type": "scattergl"
           }
          ],
          "scattermapbox": [
           {
            "marker": {
             "colorbar": {
              "outlinewidth": 0,
              "ticks": ""
             }
            },
            "type": "scattermapbox"
           }
          ],
          "scatterpolar": [
           {
            "marker": {
             "colorbar": {
              "outlinewidth": 0,
              "ticks": ""
             }
            },
            "type": "scatterpolar"
           }
          ],
          "scatterpolargl": [
           {
            "marker": {
             "colorbar": {
              "outlinewidth": 0,
              "ticks": ""
             }
            },
            "type": "scatterpolargl"
           }
          ],
          "scatterternary": [
           {
            "marker": {
             "colorbar": {
              "outlinewidth": 0,
              "ticks": ""
             }
            },
            "type": "scatterternary"
           }
          ],
          "surface": [
           {
            "colorbar": {
             "outlinewidth": 0,
             "ticks": ""
            },
            "colorscale": [
             [
              0,
              "#0d0887"
             ],
             [
              0.1111111111111111,
              "#46039f"
             ],
             [
              0.2222222222222222,
              "#7201a8"
             ],
             [
              0.3333333333333333,
              "#9c179e"
             ],
             [
              0.4444444444444444,
              "#bd3786"
             ],
             [
              0.5555555555555556,
              "#d8576b"
             ],
             [
              0.6666666666666666,
              "#ed7953"
             ],
             [
              0.7777777777777778,
              "#fb9f3a"
             ],
             [
              0.8888888888888888,
              "#fdca26"
             ],
             [
              1,
              "#f0f921"
             ]
            ],
            "type": "surface"
           }
          ],
          "table": [
           {
            "cells": {
             "fill": {
              "color": "#EBF0F8"
             },
             "line": {
              "color": "white"
             }
            },
            "header": {
             "fill": {
              "color": "#C8D4E3"
             },
             "line": {
              "color": "white"
             }
            },
            "type": "table"
           }
          ]
         },
         "layout": {
          "annotationdefaults": {
           "arrowcolor": "#2a3f5f",
           "arrowhead": 0,
           "arrowwidth": 1
          },
          "autotypenumbers": "strict",
          "coloraxis": {
           "colorbar": {
            "outlinewidth": 0,
            "ticks": ""
           }
          },
          "colorscale": {
           "diverging": [
            [
             0,
             "#8e0152"
            ],
            [
             0.1,
             "#c51b7d"
            ],
            [
             0.2,
             "#de77ae"
            ],
            [
             0.3,
             "#f1b6da"
            ],
            [
             0.4,
             "#fde0ef"
            ],
            [
             0.5,
             "#f7f7f7"
            ],
            [
             0.6,
             "#e6f5d0"
            ],
            [
             0.7,
             "#b8e186"
            ],
            [
             0.8,
             "#7fbc41"
            ],
            [
             0.9,
             "#4d9221"
            ],
            [
             1,
             "#276419"
            ]
           ],
           "sequential": [
            [
             0,
             "#0d0887"
            ],
            [
             0.1111111111111111,
             "#46039f"
            ],
            [
             0.2222222222222222,
             "#7201a8"
            ],
            [
             0.3333333333333333,
             "#9c179e"
            ],
            [
             0.4444444444444444,
             "#bd3786"
            ],
            [
             0.5555555555555556,
             "#d8576b"
            ],
            [
             0.6666666666666666,
             "#ed7953"
            ],
            [
             0.7777777777777778,
             "#fb9f3a"
            ],
            [
             0.8888888888888888,
             "#fdca26"
            ],
            [
             1,
             "#f0f921"
            ]
           ],
           "sequentialminus": [
            [
             0,
             "#0d0887"
            ],
            [
             0.1111111111111111,
             "#46039f"
            ],
            [
             0.2222222222222222,
             "#7201a8"
            ],
            [
             0.3333333333333333,
             "#9c179e"
            ],
            [
             0.4444444444444444,
             "#bd3786"
            ],
            [
             0.5555555555555556,
             "#d8576b"
            ],
            [
             0.6666666666666666,
             "#ed7953"
            ],
            [
             0.7777777777777778,
             "#fb9f3a"
            ],
            [
             0.8888888888888888,
             "#fdca26"
            ],
            [
             1,
             "#f0f921"
            ]
           ]
          },
          "colorway": [
           "#636efa",
           "#EF553B",
           "#00cc96",
           "#ab63fa",
           "#FFA15A",
           "#19d3f3",
           "#FF6692",
           "#B6E880",
           "#FF97FF",
           "#FECB52"
          ],
          "font": {
           "color": "#2a3f5f"
          },
          "geo": {
           "bgcolor": "white",
           "lakecolor": "white",
           "landcolor": "#E5ECF6",
           "showlakes": true,
           "showland": true,
           "subunitcolor": "white"
          },
          "hoverlabel": {
           "align": "left"
          },
          "hovermode": "closest",
          "mapbox": {
           "style": "light"
          },
          "paper_bgcolor": "white",
          "plot_bgcolor": "#E5ECF6",
          "polar": {
           "angularaxis": {
            "gridcolor": "white",
            "linecolor": "white",
            "ticks": ""
           },
           "bgcolor": "#E5ECF6",
           "radialaxis": {
            "gridcolor": "white",
            "linecolor": "white",
            "ticks": ""
           }
          },
          "scene": {
           "xaxis": {
            "backgroundcolor": "#E5ECF6",
            "gridcolor": "white",
            "gridwidth": 2,
            "linecolor": "white",
            "showbackground": true,
            "ticks": "",
            "zerolinecolor": "white"
           },
           "yaxis": {
            "backgroundcolor": "#E5ECF6",
            "gridcolor": "white",
            "gridwidth": 2,
            "linecolor": "white",
            "showbackground": true,
            "ticks": "",
            "zerolinecolor": "white"
           },
           "zaxis": {
            "backgroundcolor": "#E5ECF6",
            "gridcolor": "white",
            "gridwidth": 2,
            "linecolor": "white",
            "showbackground": true,
            "ticks": "",
            "zerolinecolor": "white"
           }
          },
          "shapedefaults": {
           "line": {
            "color": "#2a3f5f"
           }
          },
          "ternary": {
           "aaxis": {
            "gridcolor": "white",
            "linecolor": "white",
            "ticks": ""
           },
           "baxis": {
            "gridcolor": "white",
            "linecolor": "white",
            "ticks": ""
           },
           "bgcolor": "#E5ECF6",
           "caxis": {
            "gridcolor": "white",
            "linecolor": "white",
            "ticks": ""
           }
          },
          "title": {
           "x": 0.05
          },
          "xaxis": {
           "automargin": true,
           "gridcolor": "white",
           "linecolor": "white",
           "ticks": "",
           "title": {
            "standoff": 15
           },
           "zerolinecolor": "white",
           "zerolinewidth": 2
          },
          "yaxis": {
           "automargin": true,
           "gridcolor": "white",
           "linecolor": "white",
           "ticks": "",
           "title": {
            "standoff": 15
           },
           "zerolinecolor": "white",
           "zerolinewidth": 2
          }
         }
        },
        "title": {
         "font": {
          "size": 20
         },
         "text": "Cost of a means-tested benefit in New York City"
        },
        "width": 800,
        "xaxis": {
         "anchor": "y",
         "domain": [
          0,
          1
         ],
         "tickfont": {
          "size": 14
         },
         "tickformat": "%",
         "title": {
          "font": {
           "color": "black",
           "size": 16
          },
          "text": "Maximum benefit as a share of SPM poverty threshold"
         }
        },
        "yaxis": {
         "anchor": "x",
         "domain": [
          0,
          1
         ],
         "tickfont": {
          "size": 14
         },
         "tickprefix": "$",
         "ticksuffix": "B",
         "title": {
          "font": {
           "color": "black",
           "size": 16
          },
          "text": "Cost ($B)"
         }
        }
       }
      }
     },
     "metadata": {}
    }
   ],
   "source": [
    "fig = px.line(\n",
    "    policies[policies.phase_out_rate.isin([0.25, 0.5, 1])],\n",
    "    \"pov_ratio_guarantee\",\n",
    "    \"cost_b\",\n",
    "    hover_data={\"cost_b\": \":.2f\"},\n",
    "    color=\"phase_out_rate_pct\",\n",
    "    color_discrete_map=COLOR_MAP,\n",
    "    title=\"Cost of a means-tested benefit in New York City\",\n",
    "    labels=LABELS,\n",
    ")\n",
    "fig.add_hline(y=BUDGET / 1e9, line_dash=\"dash\", line_color=\"gray\")\n",
    "fig.add_annotation(\n",
    "    x=0.05,\n",
    "    y=BUDGET / 1e9,\n",
    "    align=\"left\",\n",
    "    text=\"Yang constraint<br>$1 billion cost\",\n",
    "    showarrow=False,\n",
    "    font_color=\"gray\",\n",
    ")\n",
    "fig.update_layout(\n",
    "    yaxis_tickprefix=\"$\",\n",
    "    yaxis_ticksuffix=\"B\",\n",
    "    xaxis_tickformat=\"%\",\n",
    "    legend=dict(\n",
    "        yanchor=\"top\",\n",
    "        y=0.99,\n",
    "        xanchor=\"left\",\n",
    "        x=0.01\n",
    "    )\n",
    ")\n",
    "format_fig(fig)"
   ]
  },
  {
   "cell_type": "code",
   "execution_count": 18,
   "metadata": {},
   "outputs": [
    {
     "output_type": "display_data",
     "data": {
      "application/vnd.plotly.v1+json": {
       "config": {
        "displayModeBar": false,
        "plotlyServerURL": "https://plot.ly"
       },
       "data": [
        {
         "hovertemplate": "Benefit phase-out rate with respect to SPM resources=25%<br>Maximum benefit as a share of SPM poverty threshold=%{x}<br>Adult recipients=%{y:,.0f}<extra></extra>",
         "legendgroup": "25%",
         "line": {
          "color": "#ABCEEB",
          "dash": "solid"
         },
         "mode": "lines",
         "name": "25%",
         "orientation": "v",
         "showlegend": true,
         "type": "scatter",
         "x": [
          0.01,
          0.02,
          0.03,
          0.04,
          0.05,
          0.06000000000000001,
          0.06999999999999999,
          0.08,
          0.09,
          0.1,
          0.11,
          0.12,
          0.13,
          0.14,
          0.15000000000000002,
          0.16,
          0.17,
          0.18000000000000002,
          0.19,
          0.2,
          0.21,
          0.22,
          0.23,
          0.24,
          0.25,
          0.26,
          0.27,
          0.28,
          0.29000000000000004,
          0.3,
          0.31,
          0.32,
          0.33,
          0.34,
          0.35000000000000003,
          0.36000000000000004,
          0.37,
          0.38,
          0.39,
          0.4,
          0.41,
          0.42,
          0.43,
          0.44,
          0.45,
          0.46,
          0.47,
          0.48,
          0.49,
          0.5
         ],
         "xaxis": "x",
         "y": [
          122027.79333333336,
          140084.25666666665,
          147629.40000000002,
          157885.61,
          172487.31333333332,
          186171.60333333333,
          207219.9633333333,
          222049.53333333333,
          238836.11,
          263852.84,
          294698.33000000013,
          326910.69999999995,
          371338.3833333333,
          415420.1166666667,
          478342.19,
          527061.0366666667,
          567151.0900000001,
          636731.8266666668,
          709228.21,
          781579.9433333331,
          883491.1399999999,
          981912.7833333334,
          1079635.7866666666,
          1188827.5333333334,
          1285708.19,
          1437404.7833333332,
          1534025.0566666666,
          1664095.7033333334,
          1787204.0566666666,
          1923911.96,
          2029187.0633333332,
          2128988.273333333,
          2247872.556666666,
          2328753.186666666,
          2440261.46,
          2522419.37,
          2614360.506666667,
          2684863.18,
          2755146.4000000004,
          2849505.9,
          2920186.900000001,
          2972150.1333333333,
          3043664.3,
          3107256.736666667,
          3155319.84,
          3217843.1366666667,
          3291593.103333333,
          3363166.936666666,
          3413617.623333333,
          3464960.006666667
         ],
         "yaxis": "y"
        },
        {
         "hovertemplate": "Benefit phase-out rate with respect to SPM resources=50%<br>Maximum benefit as a share of SPM poverty threshold=%{x}<br>Adult recipients=%{y:,.0f}<extra></extra>",
         "legendgroup": "50%",
         "line": {
          "color": "#49A6E2",
          "dash": "solid"
         },
         "mode": "lines",
         "name": "50%",
         "orientation": "v",
         "showlegend": true,
         "type": "scatter",
         "x": [
          0.01,
          0.02,
          0.03,
          0.04,
          0.05,
          0.06000000000000001,
          0.06999999999999999,
          0.08,
          0.09,
          0.1,
          0.11,
          0.12,
          0.13,
          0.14,
          0.15000000000000002,
          0.16,
          0.17,
          0.18000000000000002,
          0.19,
          0.2,
          0.21,
          0.22,
          0.23,
          0.24,
          0.25,
          0.26,
          0.27,
          0.28,
          0.29000000000000004,
          0.3,
          0.31,
          0.32,
          0.33,
          0.34,
          0.35000000000000003,
          0.36000000000000004,
          0.37,
          0.38,
          0.39,
          0.4,
          0.41,
          0.42,
          0.43,
          0.44,
          0.45,
          0.46,
          0.47,
          0.48,
          0.49,
          0.5
         ],
         "xaxis": "x",
         "y": [
          115451.83666666668,
          122027.79333333336,
          132835.89666666667,
          140084.25666666665,
          142474.98666666663,
          147629.40000000002,
          150710.69,
          157885.61,
          167735.23333333337,
          172487.31333333332,
          181719.98666666672,
          186171.60333333333,
          199489.94333333333,
          207219.9633333333,
          213570.21666666667,
          222049.53333333333,
          231446.52666666673,
          238836.11,
          251269.23666666672,
          263852.84,
          278559.27333333326,
          294698.33000000013,
          312235.37,
          326910.69999999995,
          347218.3033333333,
          371338.3833333333,
          398511.9133333333,
          415420.1166666667,
          439441.7933333333,
          478342.19,
          507067.15,
          527061.0366666667,
          550738.4099999999,
          567151.0900000001,
          607021.5333333334,
          636731.8266666668,
          672180.4266666668,
          709228.21,
          739497.9633333335,
          781579.9433333331,
          826656.9266666665,
          883491.1399999999,
          945500.08,
          981912.7833333334,
          1031185.7666666666,
          1079635.7866666666,
          1129823.386666667,
          1188827.5333333334,
          1241881.2266666666,
          1285708.19
         ],
         "yaxis": "y"
        },
        {
         "hovertemplate": "Benefit phase-out rate with respect to SPM resources=100%<br>Maximum benefit as a share of SPM poverty threshold=%{x}<br>Adult recipients=%{y:,.0f}<extra></extra>",
         "legendgroup": "100%",
         "line": {
          "color": "#0F4AA1",
          "dash": "solid"
         },
         "mode": "lines",
         "name": "100%",
         "orientation": "v",
         "showlegend": true,
         "type": "scatter",
         "x": [
          0.01,
          0.02,
          0.03,
          0.04,
          0.05,
          0.06000000000000001,
          0.06999999999999999,
          0.08,
          0.09,
          0.1,
          0.11,
          0.12,
          0.13,
          0.14,
          0.15000000000000002,
          0.16,
          0.17,
          0.18000000000000002,
          0.19,
          0.2,
          0.21,
          0.22,
          0.23,
          0.24,
          0.25,
          0.26,
          0.27,
          0.28,
          0.29000000000000004,
          0.3,
          0.31,
          0.32,
          0.33,
          0.34,
          0.35000000000000003,
          0.36000000000000004,
          0.37,
          0.38,
          0.39,
          0.4,
          0.41,
          0.42,
          0.43,
          0.44,
          0.45,
          0.46,
          0.47,
          0.48,
          0.49,
          0.5
         ],
         "xaxis": "x",
         "y": [
          108755.64,
          115451.83666666668,
          119503.92,
          122027.79333333336,
          125591.21666666667,
          132835.89666666667,
          137394.3,
          140084.25666666665,
          142474.98666666663,
          142474.98666666663,
          144910.51333333337,
          147629.40000000002,
          149865.65666666668,
          150710.69,
          155535.0433333333,
          157885.61,
          161864.0433333333,
          167735.23333333337,
          171143.9266666667,
          172487.31333333332,
          177520.02666666664,
          181719.98666666672,
          184623.57,
          186171.60333333333,
          186171.60333333333,
          199489.94333333333,
          201437.51333333337,
          207219.9633333333,
          209568.32666666672,
          213570.21666666667,
          217608.45,
          222049.53333333333,
          223142.9366666667,
          231446.52666666673,
          233555.54666666672,
          238836.11,
          244200.97,
          251269.23666666672,
          255845.33,
          263852.84,
          271209.3966666666,
          278559.27333333326,
          291390.94999999995,
          294698.33000000013,
          303818.8666666667,
          312235.37,
          324375.8666666667,
          326910.69999999995,
          335283.0066666667,
          347218.3033333333
         ],
         "yaxis": "y"
        }
       ],
       "layout": {
        "annotations": [
         {
          "align": "left",
          "font": {
           "color": "gray"
          },
          "showarrow": false,
          "text": "Yang constraint<br>500,000 adult recipients",
          "x": 0.07,
          "y": 500000
         }
        ],
        "font": {
         "family": "Roboto"
        },
        "height": 600,
        "hoverlabel": {
         "align": "right"
        },
        "images": [
         {
          "sizex": 0.12,
          "sizey": 0.12,
          "source": "https://raw.githubusercontent.com/UBICenter/blog/master/jb/_static/ubi_center_logo_wide_blue.png",
          "x": 0.98,
          "xanchor": "right",
          "xref": "paper",
          "y": -0.12,
          "yanchor": "bottom",
          "yref": "paper"
         }
        ],
        "legend": {
         "title": {
          "text": "Benefit phase-out rate with respect to SPM resources"
         },
         "tracegroupgap": 0,
         "x": 0.01,
         "xanchor": "left",
         "y": 0.99,
         "yanchor": "top"
        },
        "paper_bgcolor": "white",
        "plot_bgcolor": "white",
        "shapes": [
         {
          "line": {
           "color": "gray",
           "dash": "dash"
          },
          "type": "line",
          "x0": 0,
          "x1": 1,
          "xref": "x domain",
          "y0": 500000,
          "y1": 500000,
          "yref": "y"
         }
        ],
        "template": {
         "data": {
          "bar": [
           {
            "error_x": {
             "color": "#2a3f5f"
            },
            "error_y": {
             "color": "#2a3f5f"
            },
            "marker": {
             "line": {
              "color": "#E5ECF6",
              "width": 0.5
             }
            },
            "type": "bar"
           }
          ],
          "barpolar": [
           {
            "marker": {
             "line": {
              "color": "#E5ECF6",
              "width": 0.5
             }
            },
            "type": "barpolar"
           }
          ],
          "carpet": [
           {
            "aaxis": {
             "endlinecolor": "#2a3f5f",
             "gridcolor": "white",
             "linecolor": "white",
             "minorgridcolor": "white",
             "startlinecolor": "#2a3f5f"
            },
            "baxis": {
             "endlinecolor": "#2a3f5f",
             "gridcolor": "white",
             "linecolor": "white",
             "minorgridcolor": "white",
             "startlinecolor": "#2a3f5f"
            },
            "type": "carpet"
           }
          ],
          "choropleth": [
           {
            "colorbar": {
             "outlinewidth": 0,
             "ticks": ""
            },
            "type": "choropleth"
           }
          ],
          "contour": [
           {
            "colorbar": {
             "outlinewidth": 0,
             "ticks": ""
            },
            "colorscale": [
             [
              0,
              "#0d0887"
             ],
             [
              0.1111111111111111,
              "#46039f"
             ],
             [
              0.2222222222222222,
              "#7201a8"
             ],
             [
              0.3333333333333333,
              "#9c179e"
             ],
             [
              0.4444444444444444,
              "#bd3786"
             ],
             [
              0.5555555555555556,
              "#d8576b"
             ],
             [
              0.6666666666666666,
              "#ed7953"
             ],
             [
              0.7777777777777778,
              "#fb9f3a"
             ],
             [
              0.8888888888888888,
              "#fdca26"
             ],
             [
              1,
              "#f0f921"
             ]
            ],
            "type": "contour"
           }
          ],
          "contourcarpet": [
           {
            "colorbar": {
             "outlinewidth": 0,
             "ticks": ""
            },
            "type": "contourcarpet"
           }
          ],
          "heatmap": [
           {
            "colorbar": {
             "outlinewidth": 0,
             "ticks": ""
            },
            "colorscale": [
             [
              0,
              "#0d0887"
             ],
             [
              0.1111111111111111,
              "#46039f"
             ],
             [
              0.2222222222222222,
              "#7201a8"
             ],
             [
              0.3333333333333333,
              "#9c179e"
             ],
             [
              0.4444444444444444,
              "#bd3786"
             ],
             [
              0.5555555555555556,
              "#d8576b"
             ],
             [
              0.6666666666666666,
              "#ed7953"
             ],
             [
              0.7777777777777778,
              "#fb9f3a"
             ],
             [
              0.8888888888888888,
              "#fdca26"
             ],
             [
              1,
              "#f0f921"
             ]
            ],
            "type": "heatmap"
           }
          ],
          "heatmapgl": [
           {
            "colorbar": {
             "outlinewidth": 0,
             "ticks": ""
            },
            "colorscale": [
             [
              0,
              "#0d0887"
             ],
             [
              0.1111111111111111,
              "#46039f"
             ],
             [
              0.2222222222222222,
              "#7201a8"
             ],
             [
              0.3333333333333333,
              "#9c179e"
             ],
             [
              0.4444444444444444,
              "#bd3786"
             ],
             [
              0.5555555555555556,
              "#d8576b"
             ],
             [
              0.6666666666666666,
              "#ed7953"
             ],
             [
              0.7777777777777778,
              "#fb9f3a"
             ],
             [
              0.8888888888888888,
              "#fdca26"
             ],
             [
              1,
              "#f0f921"
             ]
            ],
            "type": "heatmapgl"
           }
          ],
          "histogram": [
           {
            "marker": {
             "colorbar": {
              "outlinewidth": 0,
              "ticks": ""
             }
            },
            "type": "histogram"
           }
          ],
          "histogram2d": [
           {
            "colorbar": {
             "outlinewidth": 0,
             "ticks": ""
            },
            "colorscale": [
             [
              0,
              "#0d0887"
             ],
             [
              0.1111111111111111,
              "#46039f"
             ],
             [
              0.2222222222222222,
              "#7201a8"
             ],
             [
              0.3333333333333333,
              "#9c179e"
             ],
             [
              0.4444444444444444,
              "#bd3786"
             ],
             [
              0.5555555555555556,
              "#d8576b"
             ],
             [
              0.6666666666666666,
              "#ed7953"
             ],
             [
              0.7777777777777778,
              "#fb9f3a"
             ],
             [
              0.8888888888888888,
              "#fdca26"
             ],
             [
              1,
              "#f0f921"
             ]
            ],
            "type": "histogram2d"
           }
          ],
          "histogram2dcontour": [
           {
            "colorbar": {
             "outlinewidth": 0,
             "ticks": ""
            },
            "colorscale": [
             [
              0,
              "#0d0887"
             ],
             [
              0.1111111111111111,
              "#46039f"
             ],
             [
              0.2222222222222222,
              "#7201a8"
             ],
             [
              0.3333333333333333,
              "#9c179e"
             ],
             [
              0.4444444444444444,
              "#bd3786"
             ],
             [
              0.5555555555555556,
              "#d8576b"
             ],
             [
              0.6666666666666666,
              "#ed7953"
             ],
             [
              0.7777777777777778,
              "#fb9f3a"
             ],
             [
              0.8888888888888888,
              "#fdca26"
             ],
             [
              1,
              "#f0f921"
             ]
            ],
            "type": "histogram2dcontour"
           }
          ],
          "mesh3d": [
           {
            "colorbar": {
             "outlinewidth": 0,
             "ticks": ""
            },
            "type": "mesh3d"
           }
          ],
          "parcoords": [
           {
            "line": {
             "colorbar": {
              "outlinewidth": 0,
              "ticks": ""
             }
            },
            "type": "parcoords"
           }
          ],
          "pie": [
           {
            "automargin": true,
            "type": "pie"
           }
          ],
          "scatter": [
           {
            "marker": {
             "colorbar": {
              "outlinewidth": 0,
              "ticks": ""
             }
            },
            "type": "scatter"
           }
          ],
          "scatter3d": [
           {
            "line": {
             "colorbar": {
              "outlinewidth": 0,
              "ticks": ""
             }
            },
            "marker": {
             "colorbar": {
              "outlinewidth": 0,
              "ticks": ""
             }
            },
            "type": "scatter3d"
           }
          ],
          "scattercarpet": [
           {
            "marker": {
             "colorbar": {
              "outlinewidth": 0,
              "ticks": ""
             }
            },
            "type": "scattercarpet"
           }
          ],
          "scattergeo": [
           {
            "marker": {
             "colorbar": {
              "outlinewidth": 0,
              "ticks": ""
             }
            },
            "type": "scattergeo"
           }
          ],
          "scattergl": [
           {
            "marker": {
             "colorbar": {
              "outlinewidth": 0,
              "ticks": ""
             }
            },
            "type": "scattergl"
           }
          ],
          "scattermapbox": [
           {
            "marker": {
             "colorbar": {
              "outlinewidth": 0,
              "ticks": ""
             }
            },
            "type": "scattermapbox"
           }
          ],
          "scatterpolar": [
           {
            "marker": {
             "colorbar": {
              "outlinewidth": 0,
              "ticks": ""
             }
            },
            "type": "scatterpolar"
           }
          ],
          "scatterpolargl": [
           {
            "marker": {
             "colorbar": {
              "outlinewidth": 0,
              "ticks": ""
             }
            },
            "type": "scatterpolargl"
           }
          ],
          "scatterternary": [
           {
            "marker": {
             "colorbar": {
              "outlinewidth": 0,
              "ticks": ""
             }
            },
            "type": "scatterternary"
           }
          ],
          "surface": [
           {
            "colorbar": {
             "outlinewidth": 0,
             "ticks": ""
            },
            "colorscale": [
             [
              0,
              "#0d0887"
             ],
             [
              0.1111111111111111,
              "#46039f"
             ],
             [
              0.2222222222222222,
              "#7201a8"
             ],
             [
              0.3333333333333333,
              "#9c179e"
             ],
             [
              0.4444444444444444,
              "#bd3786"
             ],
             [
              0.5555555555555556,
              "#d8576b"
             ],
             [
              0.6666666666666666,
              "#ed7953"
             ],
             [
              0.7777777777777778,
              "#fb9f3a"
             ],
             [
              0.8888888888888888,
              "#fdca26"
             ],
             [
              1,
              "#f0f921"
             ]
            ],
            "type": "surface"
           }
          ],
          "table": [
           {
            "cells": {
             "fill": {
              "color": "#EBF0F8"
             },
             "line": {
              "color": "white"
             }
            },
            "header": {
             "fill": {
              "color": "#C8D4E3"
             },
             "line": {
              "color": "white"
             }
            },
            "type": "table"
           }
          ]
         },
         "layout": {
          "annotationdefaults": {
           "arrowcolor": "#2a3f5f",
           "arrowhead": 0,
           "arrowwidth": 1
          },
          "autotypenumbers": "strict",
          "coloraxis": {
           "colorbar": {
            "outlinewidth": 0,
            "ticks": ""
           }
          },
          "colorscale": {
           "diverging": [
            [
             0,
             "#8e0152"
            ],
            [
             0.1,
             "#c51b7d"
            ],
            [
             0.2,
             "#de77ae"
            ],
            [
             0.3,
             "#f1b6da"
            ],
            [
             0.4,
             "#fde0ef"
            ],
            [
             0.5,
             "#f7f7f7"
            ],
            [
             0.6,
             "#e6f5d0"
            ],
            [
             0.7,
             "#b8e186"
            ],
            [
             0.8,
             "#7fbc41"
            ],
            [
             0.9,
             "#4d9221"
            ],
            [
             1,
             "#276419"
            ]
           ],
           "sequential": [
            [
             0,
             "#0d0887"
            ],
            [
             0.1111111111111111,
             "#46039f"
            ],
            [
             0.2222222222222222,
             "#7201a8"
            ],
            [
             0.3333333333333333,
             "#9c179e"
            ],
            [
             0.4444444444444444,
             "#bd3786"
            ],
            [
             0.5555555555555556,
             "#d8576b"
            ],
            [
             0.6666666666666666,
             "#ed7953"
            ],
            [
             0.7777777777777778,
             "#fb9f3a"
            ],
            [
             0.8888888888888888,
             "#fdca26"
            ],
            [
             1,
             "#f0f921"
            ]
           ],
           "sequentialminus": [
            [
             0,
             "#0d0887"
            ],
            [
             0.1111111111111111,
             "#46039f"
            ],
            [
             0.2222222222222222,
             "#7201a8"
            ],
            [
             0.3333333333333333,
             "#9c179e"
            ],
            [
             0.4444444444444444,
             "#bd3786"
            ],
            [
             0.5555555555555556,
             "#d8576b"
            ],
            [
             0.6666666666666666,
             "#ed7953"
            ],
            [
             0.7777777777777778,
             "#fb9f3a"
            ],
            [
             0.8888888888888888,
             "#fdca26"
            ],
            [
             1,
             "#f0f921"
            ]
           ]
          },
          "colorway": [
           "#636efa",
           "#EF553B",
           "#00cc96",
           "#ab63fa",
           "#FFA15A",
           "#19d3f3",
           "#FF6692",
           "#B6E880",
           "#FF97FF",
           "#FECB52"
          ],
          "font": {
           "color": "#2a3f5f"
          },
          "geo": {
           "bgcolor": "white",
           "lakecolor": "white",
           "landcolor": "#E5ECF6",
           "showlakes": true,
           "showland": true,
           "subunitcolor": "white"
          },
          "hoverlabel": {
           "align": "left"
          },
          "hovermode": "closest",
          "mapbox": {
           "style": "light"
          },
          "paper_bgcolor": "white",
          "plot_bgcolor": "#E5ECF6",
          "polar": {
           "angularaxis": {
            "gridcolor": "white",
            "linecolor": "white",
            "ticks": ""
           },
           "bgcolor": "#E5ECF6",
           "radialaxis": {
            "gridcolor": "white",
            "linecolor": "white",
            "ticks": ""
           }
          },
          "scene": {
           "xaxis": {
            "backgroundcolor": "#E5ECF6",
            "gridcolor": "white",
            "gridwidth": 2,
            "linecolor": "white",
            "showbackground": true,
            "ticks": "",
            "zerolinecolor": "white"
           },
           "yaxis": {
            "backgroundcolor": "#E5ECF6",
            "gridcolor": "white",
            "gridwidth": 2,
            "linecolor": "white",
            "showbackground": true,
            "ticks": "",
            "zerolinecolor": "white"
           },
           "zaxis": {
            "backgroundcolor": "#E5ECF6",
            "gridcolor": "white",
            "gridwidth": 2,
            "linecolor": "white",
            "showbackground": true,
            "ticks": "",
            "zerolinecolor": "white"
           }
          },
          "shapedefaults": {
           "line": {
            "color": "#2a3f5f"
           }
          },
          "ternary": {
           "aaxis": {
            "gridcolor": "white",
            "linecolor": "white",
            "ticks": ""
           },
           "baxis": {
            "gridcolor": "white",
            "linecolor": "white",
            "ticks": ""
           },
           "bgcolor": "#E5ECF6",
           "caxis": {
            "gridcolor": "white",
            "linecolor": "white",
            "ticks": ""
           }
          },
          "title": {
           "x": 0.05
          },
          "xaxis": {
           "automargin": true,
           "gridcolor": "white",
           "linecolor": "white",
           "ticks": "",
           "title": {
            "standoff": 15
           },
           "zerolinecolor": "white",
           "zerolinewidth": 2
          },
          "yaxis": {
           "automargin": true,
           "gridcolor": "white",
           "linecolor": "white",
           "ticks": "",
           "title": {
            "standoff": 15
           },
           "zerolinecolor": "white",
           "zerolinewidth": 2
          }
         }
        },
        "title": {
         "font": {
          "size": 20
         },
         "text": "Adults receiving a means-tested benefit in New York City"
        },
        "width": 800,
        "xaxis": {
         "anchor": "y",
         "domain": [
          0,
          1
         ],
         "tickfont": {
          "size": 14
         },
         "tickformat": "%",
         "title": {
          "font": {
           "color": "black",
           "size": 16
          },
          "text": "Maximum benefit as a share of SPM poverty threshold"
         }
        },
        "yaxis": {
         "anchor": "x",
         "domain": [
          0,
          1
         ],
         "tickfont": {
          "size": 14
         },
         "tickformat": ",",
         "title": {
          "font": {
           "color": "black",
           "size": 16
          },
          "text": "Adult recipients"
         }
        }
       }
      }
     },
     "metadata": {}
    }
   ],
   "source": [
    "fig = px.line(\n",
    "    policies[policies.phase_out_rate.isin([0.25, 0.5, 1])],\n",
    "    \"pov_ratio_guarantee\",\n",
    "    \"adult_reach\",\n",
    "    hover_data={\"adult_reach\": \":,.0f\"},\n",
    "    color=\"phase_out_rate_pct\",\n",
    "    color_discrete_map=COLOR_MAP,\n",
    "    title=\"Adults receiving a means-tested benefit in New York City\",\n",
    "    labels=LABELS,\n",
    ")\n",
    "fig.add_hline(y=REACH, line_dash=\"dash\", line_color=\"gray\")\n",
    "fig.add_annotation(\n",
    "    x=0.07,\n",
    "    y=REACH,\n",
    "    align=\"left\",\n",
    "    text=\"Yang constraint<br>500,000 adult recipients\",\n",
    "    showarrow=False,\n",
    "    font_color=\"gray\",\n",
    ")\n",
    "fig.update_layout(\n",
    "    yaxis_tickformat=\",\",\n",
    "    xaxis_tickformat=\"%\",\n",
    "    legend=dict(\n",
    "        yanchor=\"top\",\n",
    "        y=0.99,\n",
    "        xanchor=\"left\",\n",
    "        x=0.01\n",
    "    )\n",
    ")\n",
    "format_fig(fig)"
   ]
  },
  {
   "cell_type": "code",
   "execution_count": 19,
   "metadata": {},
   "outputs": [
    {
     "output_type": "display_data",
     "data": {
      "application/vnd.plotly.v1+json": {
       "config": {
        "displayModeBar": false,
        "plotlyServerURL": "https://plot.ly"
       },
       "data": [
        {
         "customdata": [
          [
           0.8606829549739458,
           6660054.133333334
          ],
          [
           0.4110629894009674,
           3464960.006666667
          ],
          [
           0.96041015600991,
           4685699.956666667
          ],
          [
           0.8221259788019348,
           3464960.006666667
          ],
          [
           0.7981449602919524,
           2948434.05
          ],
          [
           0.8090720631861185,
           2648098.226666666
          ],
          [
           0.8377718499299877,
           2440261.46
          ],
          [
           0.8770556414243248,
           2269079.0133333337
          ],
          [
           0.9226154967142332,
           2147328.163333333
          ],
          [
           0.9727724731551184,
           2055361.8566666662
          ],
          [
           0.8416094709926005,
           1600669.636666667
          ],
          [
           0.9042856032355592,
           1573107.97
          ],
          [
           0.9673861601202042,
           1548062.19
          ],
          [
           0.9043942672910488,
           1285708.19
          ],
          [
           0.9689938578118384,
           1285708.19
          ],
          [
           0.9349541911838679,
           1136414.673333333
          ],
          [
           0.998971174173082,
           1153422.373333333
          ],
          [
           0.9801350521150728,
           1031185.7666666666
          ],
          [
           0.971668079000101,
           947453.43
          ],
          [
           0.9697787097214692,
           870837.99
          ],
          [
           0.9752228275595206,
           793097.7966666665
          ],
          [
           0.9852685433057432,
           753412.8266666668
          ],
          [
           0.9982577946446513,
           724311.4866666669
          ],
          [
           0.9763184923722408,
           646228.0033333334
          ],
          [
           0.9959816674096278,
           632092.8266666668
          ],
          [
           0.9876497211894985,
           569988.8400000001
          ],
          [
           0.985800670837744,
           546197.6166666667
          ],
          [
           0.9868463007935144,
           523105.6233333334
          ],
          [
           0.9905547610273879,
           502795.47666666674
          ],
          [
           0.9974800848506468,
           478342.19
          ],
          [
           0.9912571104342612,
           430512.07
          ],
          [
           0.9914354945735344,
           407368.7566666667
          ],
          [
           0.9949087969802038,
           385050.18333333335
          ],
          [
           0.9919106740573044,
           354904.03333333327
          ],
          [
           0.9943703367974036,
           331131.19666666666
          ],
          [
           0.9997973903832093,
           323240.84
          ],
          [
           0.9943531669921454,
           294698.33000000013
          ],
          [
           0.999343098772663,
           281163.48
          ],
          [
           0.997931583679851,
           263041.84333333327
          ]
         ],
         "hovertemplate": "Constraint=$1 billion cost<br>Maximum benefit as a share of SPM poverty threshold=%{x}<br>Benefit phase-out rate with respect to SPM resources=%{y}<br>Cost ($B)=%{customdata[0]:.2f}<br>Adult recipients=%{customdata[1]:,.0f}<extra></extra>",
         "legendgroup": "$1 billion cost",
         "line": {
          "color": "#BDBDBD",
          "dash": "solid"
         },
         "mode": "lines",
         "name": "$1 billion cost",
         "orientation": "v",
         "showlegend": true,
         "type": "scatter",
         "x": [
          0.01,
          0.02,
          0.03,
          0.04,
          0.05,
          0.06000000000000001,
          0.06999999999999999,
          0.08,
          0.09,
          0.1,
          0.11,
          0.12,
          0.13,
          0.14,
          0.15000000000000002,
          0.16,
          0.17,
          0.18000000000000002,
          0.19,
          0.2,
          0.21,
          0.22,
          0.23,
          0.24,
          0.25,
          0.26,
          0.27,
          0.28,
          0.29000000000000004,
          0.3,
          0.31,
          0.32,
          0.33,
          0.34,
          0.35000000000000003,
          0.36000000000000004,
          0.37,
          0.38,
          0.39
         ],
         "xaxis": "x",
         "y": [
          0,
          0.01,
          0.01,
          0.02,
          0.03,
          0.04,
          0.05,
          0.06,
          0.07,
          0.08,
          0.1,
          0.11,
          0.12,
          0.14,
          0.15,
          0.17,
          0.18,
          0.2,
          0.22,
          0.24,
          0.26,
          0.28,
          0.3,
          0.33,
          0.35000000000000003,
          0.38,
          0.41,
          0.44,
          0.47,
          0.5,
          0.54,
          0.58,
          0.62,
          0.67,
          0.72,
          0.77,
          0.84,
          0.9,
          0.98
         ],
         "yaxis": "y"
        },
        {
         "customdata": [
          [
           0.02890337869381578,
           347218.3033333333
          ],
          [
           0.05780675738763156,
           347218.3033333333
          ],
          [
           0.09974800848506464,
           478342.19
          ],
          [
           0.12742288917064906,
           427792.18000000005
          ],
          [
           0.1557447844630044,
           411352.18666666665
          ],
          [
           0.19949601697012934,
           478342.19
          ],
          [
           0.22685630319814595,
           446127.1466666667
          ],
          [
           0.2725360315404643,
           498910.2633333333
          ],
          [
           0.2992440254551941,
           478342.19
          ],
          [
           0.3264711065577254,
           459635.6966666667
          ],
          [
           0.3722032611072068,
           491071.79
          ],
          [
           0.3989920339402586,
           478342.19
          ],
          [
           0.42617800056961214,
           466344.25
          ],
          [
           0.4719121581684801,
           489885.31000000006
          ],
          [
           0.4987400424253236,
           478342.19
          ],
          [
           0.5450720630809286,
           498910.2633333333
          ],
          [
           0.5716213043905533,
           489885.31000000006
          ],
          [
           0.5984880509103883,
           478342.19
          ],
          [
           0.6447125246094578,
           494979.29
          ],
          [
           0.6713321320418265,
           489172.84
          ],
          [
           0.6982360593954527,
           478342.19
          ],
          [
           0.7444065222144136,
           491071.79
          ],
          [
           0.7710540633011987,
           486418.18333333347
          ],
          [
           0.8176080946213927,
           498910.2633333333
          ],
          [
           0.8441151701148868,
           489885.31000000006
          ],
          [
           0.8707872763066524,
           481610.6166666667
          ],
          [
           0.9172464922198283,
           498247.54
          ],
          [
           0.9438243163369602,
           489885.31000000006
          ],
          [
           0.9705283675039876,
           481610.6166666667
          ],
          [
           1.0169081119235477,
           491071.79
          ],
          [
           1.0435334625590331,
           489885.31000000006
          ],
          [
           1.0901441261618572,
           498910.2633333333
          ],
          [
           1.1166097833216204,
           491071.79
          ],
          [
           1.1432426087811065,
           489885.31000000006
          ],
          [
           1.1897818303426262,
           498247.54
          ],
          [
           1.216318182061294,
           489885.31000000006
          ],
          [
           1.2429517550031794,
           489885.31000000006
          ],
          [
           1.2894250492189157,
           494979.29
          ],
          [
           1.316027328283367,
           489885.31000000006
          ],
          [
           1.362680157702321,
           498910.2633333333
          ],
          [
           1.3891113730307545,
           491071.79
          ],
          [
           1.4157364745054402,
           489885.31000000006
          ],
          [
           1.462317168465423,
           498247.54
          ],
          [
           1.4888130444288272,
           491071.79
          ],
          [
           1.515445620727513,
           489885.31000000006
          ],
          [
           1.5619576463168592,
           498247.54
          ],
          [
           1.5885211940077006,
           489885.31000000006
          ],
          [
           1.6352161892427854,
           498910.2633333333
          ],
          [
           1.6616143098420553,
           494040.8966666667
          ],
          [
           1.6882303402297736,
           489885.31000000006
          ]
         ],
         "hovertemplate": "Constraint=500,000 adult recipients<br>Maximum benefit as a share of SPM poverty threshold=%{x}<br>Benefit phase-out rate with respect to SPM resources=%{y}<br>Cost ($B)=%{customdata[0]:.2f}<br>Adult recipients=%{customdata[1]:,.0f}<extra></extra>",
         "legendgroup": "500,000 adult recipients",
         "line": {
          "color": "#1976D2",
          "dash": "solid"
         },
         "mode": "lines",
         "name": "500,000 adult recipients",
         "orientation": "v",
         "showlegend": true,
         "type": "scatter",
         "x": [
          0.01,
          0.02,
          0.03,
          0.04,
          0.05,
          0.06000000000000001,
          0.06999999999999999,
          0.08,
          0.09,
          0.1,
          0.11,
          0.12,
          0.13,
          0.14,
          0.15000000000000002,
          0.16,
          0.17,
          0.18000000000000002,
          0.19,
          0.2,
          0.21,
          0.22,
          0.23,
          0.24,
          0.25,
          0.26,
          0.27,
          0.28,
          0.29000000000000004,
          0.3,
          0.31,
          0.32,
          0.33,
          0.34,
          0.35000000000000003,
          0.36000000000000004,
          0.37,
          0.38,
          0.39,
          0.4,
          0.41,
          0.42,
          0.43,
          0.44,
          0.45,
          0.46,
          0.47,
          0.48,
          0.49,
          0.5
         ],
         "xaxis": "x",
         "y": [
          0.02,
          0.04,
          0.05,
          0.07,
          0.09,
          0.1,
          0.12,
          0.13,
          0.15,
          0.17,
          0.18,
          0.2,
          0.22,
          0.23,
          0.25,
          0.26,
          0.28,
          0.3,
          0.31,
          0.33,
          0.35000000000000003,
          0.36,
          0.38,
          0.39,
          0.41,
          0.43,
          0.44,
          0.46,
          0.48,
          0.49,
          0.51,
          0.52,
          0.54,
          0.56,
          0.5700000000000001,
          0.59,
          0.61,
          0.62,
          0.64,
          0.65,
          0.67,
          0.6900000000000001,
          0.7000000000000001,
          0.72,
          0.74,
          0.75,
          0.77,
          0.78,
          0.8,
          0.8200000000000001
         ],
         "yaxis": "y"
        }
       ],
       "layout": {
        "annotations": [
         {
          "text": "Maximum benefit: 30% of poverty threshold<br>Phase-out rate: 50%",
          "x": 0.3,
          "y": 0.5
         }
        ],
        "font": {
         "family": "Roboto"
        },
        "height": 600,
        "hoverlabel": {
         "align": "right"
        },
        "images": [
         {
          "sizex": 0.12,
          "sizey": 0.12,
          "source": "https://raw.githubusercontent.com/UBICenter/blog/master/jb/_static/ubi_center_logo_wide_blue.png",
          "x": 0.98,
          "xanchor": "right",
          "xref": "paper",
          "y": -0.12,
          "yanchor": "bottom",
          "yref": "paper"
         }
        ],
        "legend": {
         "title": {
          "text": "Constraint"
         },
         "tracegroupgap": 0,
         "x": 0.01,
         "xanchor": "left",
         "y": 0.99,
         "yanchor": "top"
        },
        "paper_bgcolor": "white",
        "plot_bgcolor": "white",
        "template": {
         "data": {
          "bar": [
           {
            "error_x": {
             "color": "#2a3f5f"
            },
            "error_y": {
             "color": "#2a3f5f"
            },
            "marker": {
             "line": {
              "color": "#E5ECF6",
              "width": 0.5
             }
            },
            "type": "bar"
           }
          ],
          "barpolar": [
           {
            "marker": {
             "line": {
              "color": "#E5ECF6",
              "width": 0.5
             }
            },
            "type": "barpolar"
           }
          ],
          "carpet": [
           {
            "aaxis": {
             "endlinecolor": "#2a3f5f",
             "gridcolor": "white",
             "linecolor": "white",
             "minorgridcolor": "white",
             "startlinecolor": "#2a3f5f"
            },
            "baxis": {
             "endlinecolor": "#2a3f5f",
             "gridcolor": "white",
             "linecolor": "white",
             "minorgridcolor": "white",
             "startlinecolor": "#2a3f5f"
            },
            "type": "carpet"
           }
          ],
          "choropleth": [
           {
            "colorbar": {
             "outlinewidth": 0,
             "ticks": ""
            },
            "type": "choropleth"
           }
          ],
          "contour": [
           {
            "colorbar": {
             "outlinewidth": 0,
             "ticks": ""
            },
            "colorscale": [
             [
              0,
              "#0d0887"
             ],
             [
              0.1111111111111111,
              "#46039f"
             ],
             [
              0.2222222222222222,
              "#7201a8"
             ],
             [
              0.3333333333333333,
              "#9c179e"
             ],
             [
              0.4444444444444444,
              "#bd3786"
             ],
             [
              0.5555555555555556,
              "#d8576b"
             ],
             [
              0.6666666666666666,
              "#ed7953"
             ],
             [
              0.7777777777777778,
              "#fb9f3a"
             ],
             [
              0.8888888888888888,
              "#fdca26"
             ],
             [
              1,
              "#f0f921"
             ]
            ],
            "type": "contour"
           }
          ],
          "contourcarpet": [
           {
            "colorbar": {
             "outlinewidth": 0,
             "ticks": ""
            },
            "type": "contourcarpet"
           }
          ],
          "heatmap": [
           {
            "colorbar": {
             "outlinewidth": 0,
             "ticks": ""
            },
            "colorscale": [
             [
              0,
              "#0d0887"
             ],
             [
              0.1111111111111111,
              "#46039f"
             ],
             [
              0.2222222222222222,
              "#7201a8"
             ],
             [
              0.3333333333333333,
              "#9c179e"
             ],
             [
              0.4444444444444444,
              "#bd3786"
             ],
             [
              0.5555555555555556,
              "#d8576b"
             ],
             [
              0.6666666666666666,
              "#ed7953"
             ],
             [
              0.7777777777777778,
              "#fb9f3a"
             ],
             [
              0.8888888888888888,
              "#fdca26"
             ],
             [
              1,
              "#f0f921"
             ]
            ],
            "type": "heatmap"
           }
          ],
          "heatmapgl": [
           {
            "colorbar": {
             "outlinewidth": 0,
             "ticks": ""
            },
            "colorscale": [
             [
              0,
              "#0d0887"
             ],
             [
              0.1111111111111111,
              "#46039f"
             ],
             [
              0.2222222222222222,
              "#7201a8"
             ],
             [
              0.3333333333333333,
              "#9c179e"
             ],
             [
              0.4444444444444444,
              "#bd3786"
             ],
             [
              0.5555555555555556,
              "#d8576b"
             ],
             [
              0.6666666666666666,
              "#ed7953"
             ],
             [
              0.7777777777777778,
              "#fb9f3a"
             ],
             [
              0.8888888888888888,
              "#fdca26"
             ],
             [
              1,
              "#f0f921"
             ]
            ],
            "type": "heatmapgl"
           }
          ],
          "histogram": [
           {
            "marker": {
             "colorbar": {
              "outlinewidth": 0,
              "ticks": ""
             }
            },
            "type": "histogram"
           }
          ],
          "histogram2d": [
           {
            "colorbar": {
             "outlinewidth": 0,
             "ticks": ""
            },
            "colorscale": [
             [
              0,
              "#0d0887"
             ],
             [
              0.1111111111111111,
              "#46039f"
             ],
             [
              0.2222222222222222,
              "#7201a8"
             ],
             [
              0.3333333333333333,
              "#9c179e"
             ],
             [
              0.4444444444444444,
              "#bd3786"
             ],
             [
              0.5555555555555556,
              "#d8576b"
             ],
             [
              0.6666666666666666,
              "#ed7953"
             ],
             [
              0.7777777777777778,
              "#fb9f3a"
             ],
             [
              0.8888888888888888,
              "#fdca26"
             ],
             [
              1,
              "#f0f921"
             ]
            ],
            "type": "histogram2d"
           }
          ],
          "histogram2dcontour": [
           {
            "colorbar": {
             "outlinewidth": 0,
             "ticks": ""
            },
            "colorscale": [
             [
              0,
              "#0d0887"
             ],
             [
              0.1111111111111111,
              "#46039f"
             ],
             [
              0.2222222222222222,
              "#7201a8"
             ],
             [
              0.3333333333333333,
              "#9c179e"
             ],
             [
              0.4444444444444444,
              "#bd3786"
             ],
             [
              0.5555555555555556,
              "#d8576b"
             ],
             [
              0.6666666666666666,
              "#ed7953"
             ],
             [
              0.7777777777777778,
              "#fb9f3a"
             ],
             [
              0.8888888888888888,
              "#fdca26"
             ],
             [
              1,
              "#f0f921"
             ]
            ],
            "type": "histogram2dcontour"
           }
          ],
          "mesh3d": [
           {
            "colorbar": {
             "outlinewidth": 0,
             "ticks": ""
            },
            "type": "mesh3d"
           }
          ],
          "parcoords": [
           {
            "line": {
             "colorbar": {
              "outlinewidth": 0,
              "ticks": ""
             }
            },
            "type": "parcoords"
           }
          ],
          "pie": [
           {
            "automargin": true,
            "type": "pie"
           }
          ],
          "scatter": [
           {
            "marker": {
             "colorbar": {
              "outlinewidth": 0,
              "ticks": ""
             }
            },
            "type": "scatter"
           }
          ],
          "scatter3d": [
           {
            "line": {
             "colorbar": {
              "outlinewidth": 0,
              "ticks": ""
             }
            },
            "marker": {
             "colorbar": {
              "outlinewidth": 0,
              "ticks": ""
             }
            },
            "type": "scatter3d"
           }
          ],
          "scattercarpet": [
           {
            "marker": {
             "colorbar": {
              "outlinewidth": 0,
              "ticks": ""
             }
            },
            "type": "scattercarpet"
           }
          ],
          "scattergeo": [
           {
            "marker": {
             "colorbar": {
              "outlinewidth": 0,
              "ticks": ""
             }
            },
            "type": "scattergeo"
           }
          ],
          "scattergl": [
           {
            "marker": {
             "colorbar": {
              "outlinewidth": 0,
              "ticks": ""
             }
            },
            "type": "scattergl"
           }
          ],
          "scattermapbox": [
           {
            "marker": {
             "colorbar": {
              "outlinewidth": 0,
              "ticks": ""
             }
            },
            "type": "scattermapbox"
           }
          ],
          "scatterpolar": [
           {
            "marker": {
             "colorbar": {
              "outlinewidth": 0,
              "ticks": ""
             }
            },
            "type": "scatterpolar"
           }
          ],
          "scatterpolargl": [
           {
            "marker": {
             "colorbar": {
              "outlinewidth": 0,
              "ticks": ""
             }
            },
            "type": "scatterpolargl"
           }
          ],
          "scatterternary": [
           {
            "marker": {
             "colorbar": {
              "outlinewidth": 0,
              "ticks": ""
             }
            },
            "type": "scatterternary"
           }
          ],
          "surface": [
           {
            "colorbar": {
             "outlinewidth": 0,
             "ticks": ""
            },
            "colorscale": [
             [
              0,
              "#0d0887"
             ],
             [
              0.1111111111111111,
              "#46039f"
             ],
             [
              0.2222222222222222,
              "#7201a8"
             ],
             [
              0.3333333333333333,
              "#9c179e"
             ],
             [
              0.4444444444444444,
              "#bd3786"
             ],
             [
              0.5555555555555556,
              "#d8576b"
             ],
             [
              0.6666666666666666,
              "#ed7953"
             ],
             [
              0.7777777777777778,
              "#fb9f3a"
             ],
             [
              0.8888888888888888,
              "#fdca26"
             ],
             [
              1,
              "#f0f921"
             ]
            ],
            "type": "surface"
           }
          ],
          "table": [
           {
            "cells": {
             "fill": {
              "color": "#EBF0F8"
             },
             "line": {
              "color": "white"
             }
            },
            "header": {
             "fill": {
              "color": "#C8D4E3"
             },
             "line": {
              "color": "white"
             }
            },
            "type": "table"
           }
          ]
         },
         "layout": {
          "annotationdefaults": {
           "arrowcolor": "#2a3f5f",
           "arrowhead": 0,
           "arrowwidth": 1
          },
          "autotypenumbers": "strict",
          "coloraxis": {
           "colorbar": {
            "outlinewidth": 0,
            "ticks": ""
           }
          },
          "colorscale": {
           "diverging": [
            [
             0,
             "#8e0152"
            ],
            [
             0.1,
             "#c51b7d"
            ],
            [
             0.2,
             "#de77ae"
            ],
            [
             0.3,
             "#f1b6da"
            ],
            [
             0.4,
             "#fde0ef"
            ],
            [
             0.5,
             "#f7f7f7"
            ],
            [
             0.6,
             "#e6f5d0"
            ],
            [
             0.7,
             "#b8e186"
            ],
            [
             0.8,
             "#7fbc41"
            ],
            [
             0.9,
             "#4d9221"
            ],
            [
             1,
             "#276419"
            ]
           ],
           "sequential": [
            [
             0,
             "#0d0887"
            ],
            [
             0.1111111111111111,
             "#46039f"
            ],
            [
             0.2222222222222222,
             "#7201a8"
            ],
            [
             0.3333333333333333,
             "#9c179e"
            ],
            [
             0.4444444444444444,
             "#bd3786"
            ],
            [
             0.5555555555555556,
             "#d8576b"
            ],
            [
             0.6666666666666666,
             "#ed7953"
            ],
            [
             0.7777777777777778,
             "#fb9f3a"
            ],
            [
             0.8888888888888888,
             "#fdca26"
            ],
            [
             1,
             "#f0f921"
            ]
           ],
           "sequentialminus": [
            [
             0,
             "#0d0887"
            ],
            [
             0.1111111111111111,
             "#46039f"
            ],
            [
             0.2222222222222222,
             "#7201a8"
            ],
            [
             0.3333333333333333,
             "#9c179e"
            ],
            [
             0.4444444444444444,
             "#bd3786"
            ],
            [
             0.5555555555555556,
             "#d8576b"
            ],
            [
             0.6666666666666666,
             "#ed7953"
            ],
            [
             0.7777777777777778,
             "#fb9f3a"
            ],
            [
             0.8888888888888888,
             "#fdca26"
            ],
            [
             1,
             "#f0f921"
            ]
           ]
          },
          "colorway": [
           "#636efa",
           "#EF553B",
           "#00cc96",
           "#ab63fa",
           "#FFA15A",
           "#19d3f3",
           "#FF6692",
           "#B6E880",
           "#FF97FF",
           "#FECB52"
          ],
          "font": {
           "color": "#2a3f5f"
          },
          "geo": {
           "bgcolor": "white",
           "lakecolor": "white",
           "landcolor": "#E5ECF6",
           "showlakes": true,
           "showland": true,
           "subunitcolor": "white"
          },
          "hoverlabel": {
           "align": "left"
          },
          "hovermode": "closest",
          "mapbox": {
           "style": "light"
          },
          "paper_bgcolor": "white",
          "plot_bgcolor": "#E5ECF6",
          "polar": {
           "angularaxis": {
            "gridcolor": "white",
            "linecolor": "white",
            "ticks": ""
           },
           "bgcolor": "#E5ECF6",
           "radialaxis": {
            "gridcolor": "white",
            "linecolor": "white",
            "ticks": ""
           }
          },
          "scene": {
           "xaxis": {
            "backgroundcolor": "#E5ECF6",
            "gridcolor": "white",
            "gridwidth": 2,
            "linecolor": "white",
            "showbackground": true,
            "ticks": "",
            "zerolinecolor": "white"
           },
           "yaxis": {
            "backgroundcolor": "#E5ECF6",
            "gridcolor": "white",
            "gridwidth": 2,
            "linecolor": "white",
            "showbackground": true,
            "ticks": "",
            "zerolinecolor": "white"
           },
           "zaxis": {
            "backgroundcolor": "#E5ECF6",
            "gridcolor": "white",
            "gridwidth": 2,
            "linecolor": "white",
            "showbackground": true,
            "ticks": "",
            "zerolinecolor": "white"
           }
          },
          "shapedefaults": {
           "line": {
            "color": "#2a3f5f"
           }
          },
          "ternary": {
           "aaxis": {
            "gridcolor": "white",
            "linecolor": "white",
            "ticks": ""
           },
           "baxis": {
            "gridcolor": "white",
            "linecolor": "white",
            "ticks": ""
           },
           "bgcolor": "#E5ECF6",
           "caxis": {
            "gridcolor": "white",
            "linecolor": "white",
            "ticks": ""
           }
          },
          "title": {
           "x": 0.05
          },
          "xaxis": {
           "automargin": true,
           "gridcolor": "white",
           "linecolor": "white",
           "ticks": "",
           "title": {
            "standoff": 15
           },
           "zerolinecolor": "white",
           "zerolinewidth": 2
          },
          "yaxis": {
           "automargin": true,
           "gridcolor": "white",
           "linecolor": "white",
           "ticks": "",
           "title": {
            "standoff": 15
           },
           "zerolinecolor": "white",
           "zerolinewidth": 2
          }
         }
        },
        "title": {
         "font": {
          "size": 20
         },
         "text": "Guaranteed income policies that satisfy Yang's Basic Income for NYC constraints"
        },
        "width": 800,
        "xaxis": {
         "anchor": "y",
         "domain": [
          0,
          1
         ],
         "tickfont": {
          "size": 14
         },
         "tickformat": "%",
         "title": {
          "font": {
           "color": "black",
           "size": 16
          },
          "text": "Maximum benefit as a share of SPM poverty threshold"
         }
        },
        "yaxis": {
         "anchor": "x",
         "domain": [
          0,
          1
         ],
         "tickfont": {
          "size": 14
         },
         "tickformat": "%",
         "title": {
          "font": {
           "color": "black",
           "size": 16
          },
          "text": "Benefit phase-out rate with respect to SPM resources"
         }
        }
       }
      }
     },
     "metadata": {}
    }
   ],
   "source": [
    "cost_curve = policies[policies.cost_b < 1].sort_values(\n",
    "    \"cost_b\", ascending=False\n",
    "    ).drop_duplicates(\"pov_ratio_guarantee\").sort_values(\"pov_ratio_guarantee\")\n",
    "cost_curve[\"constraint\"] = \"$1 billion cost\"\n",
    "reach_curve = policies[policies.adult_reach < REACH].sort_values(\n",
    "    \"adult_reach\", ascending=False\n",
    "    ).drop_duplicates(\"pov_ratio_guarantee\").sort_values(\"pov_ratio_guarantee\")\n",
    "reach_curve[\"constraint\"] = \"500,000 adult recipients\"\n",
    "cost_reach_curve = pd.concat([cost_curve, reach_curve])\n",
    "fig = px.line(\n",
    "    cost_reach_curve,\n",
    "    \"pov_ratio_guarantee\",\n",
    "    \"phase_out_rate\",\n",
    "    hover_data={\"cost_b\": \":.2f\", \"adult_reach\": \":,.0f\"},\n",
    "    color=\"constraint\",\n",
    "    color_discrete_map=COLOR_MAP,\n",
    "    labels=LABELS,\n",
    "    title=\"Guaranteed income policies that satisfy Yang's Basic Income for NYC constraints\"\n",
    ")\n",
    "fig.update_layout(\n",
    "    xaxis_tickformat=\"%\",\n",
    "    yaxis_tickformat=\"%\",\n",
    "    legend=dict(\n",
    "        yanchor=\"top\",\n",
    "        y=0.99,\n",
    "        xanchor=\"left\",\n",
    "        x=0.01)\n",
    "    )\n",
    "RATIO = 0.3\n",
    "PS = 0.5\n",
    "fig.add_annotation(x=RATIO, y=PS,\n",
    "                   text=\"Maximum benefit: 30% of poverty threshold<br>Phase-out rate: 50%\")\n",
    "format_fig(fig)"
   ]
  },
  {
   "cell_type": "code",
   "execution_count": 20,
   "metadata": {},
   "outputs": [
    {
     "output_type": "execute_result",
     "data": {
      "text/plain": [
       "                     metric          base       reform     pct_diff    yearly  \\\n",
       "0   adult_deep_poverty_rate  5.213446e-02    0.0396172    -0.240095 -0.050102   \n",
       "1        adult_poverty_rate  1.930477e-01     0.193048 -1.43776e-16 -0.031709   \n",
       "2               adult_reach  0.000000e+00       478342          inf       NaN   \n",
       "3   child_deep_poverty_rate  4.039562e-02    0.0321026    -0.205295 -0.081702   \n",
       "4        child_poverty_rate  2.351307e-01     0.235131 -1.18043e-16 -0.035742   \n",
       "5               child_reach  0.000000e+00       110863          inf       NaN   \n",
       "6                    cost_b  0.000000e+00      0.99748          inf       NaN   \n",
       "7          deep_poverty_gap  1.445169e+09  5.97037e+08    -0.586874 -0.043708   \n",
       "8         deep_poverty_rate  4.970295e-02    0.0380607    -0.234237 -0.057959   \n",
       "9                      gini  4.885562e-01     0.482643   -0.0121036  0.002775   \n",
       "10           phase_out_rate           NaN          0.5          NaN       NaN   \n",
       "11       phase_out_rate_pct           NaN          50%          NaN       NaN   \n",
       "12      pov_ratio_guarantee           NaN          0.3          NaN       NaN   \n",
       "13              poverty_gap  6.459959e+09  5.54661e+09    -0.141387 -0.030558   \n",
       "14             poverty_rate  2.017645e-01     0.201764            0 -0.033011   \n",
       "15               spmu_reach  0.000000e+00       304532          inf       NaN   \n",
       "16      squared_poverty_gap  9.402809e+13  6.39931e+13    -0.319426 -0.029128   \n",
       "\n",
       "   years_progress                                               name  \n",
       "0         4.79211                            Deep adult poverty rate  \n",
       "1     4.53424e-15                                                NaN  \n",
       "2             NaN                                   Adult recipients  \n",
       "3         2.51272                            Deep child poverty rate  \n",
       "4     3.30269e-15                                                NaN  \n",
       "5             NaN                                                NaN  \n",
       "6             NaN                                          Cost ($B)  \n",
       "7         13.4272                                   Deep poverty gap  \n",
       "8          4.0414                                  Deep poverty rate  \n",
       "9        -4.36166                                                NaN  \n",
       "10            NaN  Benefit phase-out rate with respect to SPM res...  \n",
       "11            NaN  Benefit phase-out rate with respect to SPM res...  \n",
       "12            NaN  Maximum benefit as a share of SPM poverty thre...  \n",
       "13         4.6268                                        Poverty gap  \n",
       "14             -0                                       Poverty rate  \n",
       "15            NaN                                                NaN  \n",
       "16        10.9662                                   Poverty severity  "
      ],
      "text/html": "<div>\n<style scoped>\n    .dataframe tbody tr th:only-of-type {\n        vertical-align: middle;\n    }\n\n    .dataframe tbody tr th {\n        vertical-align: top;\n    }\n\n    .dataframe thead th {\n        text-align: right;\n    }\n</style>\n<table border=\"1\" class=\"dataframe\">\n  <thead>\n    <tr style=\"text-align: right;\">\n      <th></th>\n      <th>metric</th>\n      <th>base</th>\n      <th>reform</th>\n      <th>pct_diff</th>\n      <th>yearly</th>\n      <th>years_progress</th>\n      <th>name</th>\n    </tr>\n  </thead>\n  <tbody>\n    <tr>\n      <th>0</th>\n      <td>adult_deep_poverty_rate</td>\n      <td>5.213446e-02</td>\n      <td>0.0396172</td>\n      <td>-0.240095</td>\n      <td>-0.050102</td>\n      <td>4.79211</td>\n      <td>Deep adult poverty rate</td>\n    </tr>\n    <tr>\n      <th>1</th>\n      <td>adult_poverty_rate</td>\n      <td>1.930477e-01</td>\n      <td>0.193048</td>\n      <td>-1.43776e-16</td>\n      <td>-0.031709</td>\n      <td>4.53424e-15</td>\n      <td>NaN</td>\n    </tr>\n    <tr>\n      <th>2</th>\n      <td>adult_reach</td>\n      <td>0.000000e+00</td>\n      <td>478342</td>\n      <td>inf</td>\n      <td>NaN</td>\n      <td>NaN</td>\n      <td>Adult recipients</td>\n    </tr>\n    <tr>\n      <th>3</th>\n      <td>child_deep_poverty_rate</td>\n      <td>4.039562e-02</td>\n      <td>0.0321026</td>\n      <td>-0.205295</td>\n      <td>-0.081702</td>\n      <td>2.51272</td>\n      <td>Deep child poverty rate</td>\n    </tr>\n    <tr>\n      <th>4</th>\n      <td>child_poverty_rate</td>\n      <td>2.351307e-01</td>\n      <td>0.235131</td>\n      <td>-1.18043e-16</td>\n      <td>-0.035742</td>\n      <td>3.30269e-15</td>\n      <td>NaN</td>\n    </tr>\n    <tr>\n      <th>5</th>\n      <td>child_reach</td>\n      <td>0.000000e+00</td>\n      <td>110863</td>\n      <td>inf</td>\n      <td>NaN</td>\n      <td>NaN</td>\n      <td>NaN</td>\n    </tr>\n    <tr>\n      <th>6</th>\n      <td>cost_b</td>\n      <td>0.000000e+00</td>\n      <td>0.99748</td>\n      <td>inf</td>\n      <td>NaN</td>\n      <td>NaN</td>\n      <td>Cost ($B)</td>\n    </tr>\n    <tr>\n      <th>7</th>\n      <td>deep_poverty_gap</td>\n      <td>1.445169e+09</td>\n      <td>5.97037e+08</td>\n      <td>-0.586874</td>\n      <td>-0.043708</td>\n      <td>13.4272</td>\n      <td>Deep poverty gap</td>\n    </tr>\n    <tr>\n      <th>8</th>\n      <td>deep_poverty_rate</td>\n      <td>4.970295e-02</td>\n      <td>0.0380607</td>\n      <td>-0.234237</td>\n      <td>-0.057959</td>\n      <td>4.0414</td>\n      <td>Deep poverty rate</td>\n    </tr>\n    <tr>\n      <th>9</th>\n      <td>gini</td>\n      <td>4.885562e-01</td>\n      <td>0.482643</td>\n      <td>-0.0121036</td>\n      <td>0.002775</td>\n      <td>-4.36166</td>\n      <td>NaN</td>\n    </tr>\n    <tr>\n      <th>10</th>\n      <td>phase_out_rate</td>\n      <td>NaN</td>\n      <td>0.5</td>\n      <td>NaN</td>\n      <td>NaN</td>\n      <td>NaN</td>\n      <td>Benefit phase-out rate with respect to SPM res...</td>\n    </tr>\n    <tr>\n      <th>11</th>\n      <td>phase_out_rate_pct</td>\n      <td>NaN</td>\n      <td>50%</td>\n      <td>NaN</td>\n      <td>NaN</td>\n      <td>NaN</td>\n      <td>Benefit phase-out rate with respect to SPM res...</td>\n    </tr>\n    <tr>\n      <th>12</th>\n      <td>pov_ratio_guarantee</td>\n      <td>NaN</td>\n      <td>0.3</td>\n      <td>NaN</td>\n      <td>NaN</td>\n      <td>NaN</td>\n      <td>Maximum benefit as a share of SPM poverty thre...</td>\n    </tr>\n    <tr>\n      <th>13</th>\n      <td>poverty_gap</td>\n      <td>6.459959e+09</td>\n      <td>5.54661e+09</td>\n      <td>-0.141387</td>\n      <td>-0.030558</td>\n      <td>4.6268</td>\n      <td>Poverty gap</td>\n    </tr>\n    <tr>\n      <th>14</th>\n      <td>poverty_rate</td>\n      <td>2.017645e-01</td>\n      <td>0.201764</td>\n      <td>0</td>\n      <td>-0.033011</td>\n      <td>-0</td>\n      <td>Poverty rate</td>\n    </tr>\n    <tr>\n      <th>15</th>\n      <td>spmu_reach</td>\n      <td>0.000000e+00</td>\n      <td>304532</td>\n      <td>inf</td>\n      <td>NaN</td>\n      <td>NaN</td>\n      <td>NaN</td>\n    </tr>\n    <tr>\n      <th>16</th>\n      <td>squared_poverty_gap</td>\n      <td>9.402809e+13</td>\n      <td>6.39931e+13</td>\n      <td>-0.319426</td>\n      <td>-0.029128</td>\n      <td>10.9662</td>\n      <td>Poverty severity</td>\n    </tr>\n  </tbody>\n</table>\n</div>"
     },
     "metadata": {},
     "execution_count": 20
    }
   ],
   "source": [
    "opt = policies[(policies.pov_ratio_guarantee == RATIO) & (policies.phase_out_rate == PS)]\n",
    "base = policy(0, 0)\n",
    "comp = pd.DataFrame({\"base\": base, \"reform\": opt.iloc[0]}).reset_index().rename(columns={\"index\": \"metric\"})\n",
    "\n",
    "def pct_diff(base, reform):\n",
    "    return (reform - base) / base\n",
    "\n",
    "comp[\"pct_diff\"] = pct_diff(comp.base, comp.reform)\n",
    "comp[\"yearly\"] = comp.metric.apply(trend)\n",
    "comp[\"years_progress\"] = comp.pct_diff / comp.yearly\n",
    "comp[\"name\"] = comp.metric.map(LABELS)"
   ]
  },
  {
   "cell_type": "code",
   "execution_count": 29,
   "metadata": {},
   "outputs": [
    {
     "output_type": "display_data",
     "data": {
      "application/vnd.plotly.v1+json": {
       "config": {
        "displayModeBar": false,
        "plotlyServerURL": "https://plot.ly"
       },
       "data": [
        {
         "alignmentgroup": "True",
         "hovertemplate": "pct_diff=%{text}<br>name=%{y}<extra></extra>",
         "legendgroup": "",
         "marker": {
          "color": "#1976D2"
         },
         "name": "",
         "offsetgroup": "",
         "orientation": "h",
         "showlegend": false,
         "text": [
          0,
          -0.14138651174577063,
          -0.2342367577453367,
          -0.5868740591570268
         ],
         "textposition": "auto",
         "texttemplate": "%{text:.0%}",
         "type": "bar",
         "x": [
          0,
          -0.14138651174577063,
          -0.2342367577453367,
          -0.5868740591570268
         ],
         "xaxis": "x",
         "y": [
          "Poverty rate",
          "Poverty gap",
          "Deep poverty rate",
          "Deep poverty gap"
         ],
         "yaxis": "y"
        }
       ],
       "layout": {
        "barmode": "relative",
        "font": {
         "family": "Roboto"
        },
        "height": 600,
        "hoverlabel": {
         "align": "right"
        },
        "images": [
         {
          "sizex": 0.12,
          "sizey": 0.12,
          "source": "https://raw.githubusercontent.com/UBICenter/blog/master/jb/_static/ubi_center_logo_wide_blue.png",
          "x": 0.98,
          "xanchor": "right",
          "xref": "paper",
          "y": -0.12,
          "yanchor": "bottom",
          "yref": "paper"
         }
        ],
        "legend": {
         "tracegroupgap": 0
        },
        "paper_bgcolor": "white",
        "plot_bgcolor": "white",
        "template": {
         "data": {
          "bar": [
           {
            "error_x": {
             "color": "#2a3f5f"
            },
            "error_y": {
             "color": "#2a3f5f"
            },
            "marker": {
             "line": {
              "color": "#E5ECF6",
              "width": 0.5
             }
            },
            "type": "bar"
           }
          ],
          "barpolar": [
           {
            "marker": {
             "line": {
              "color": "#E5ECF6",
              "width": 0.5
             }
            },
            "type": "barpolar"
           }
          ],
          "carpet": [
           {
            "aaxis": {
             "endlinecolor": "#2a3f5f",
             "gridcolor": "white",
             "linecolor": "white",
             "minorgridcolor": "white",
             "startlinecolor": "#2a3f5f"
            },
            "baxis": {
             "endlinecolor": "#2a3f5f",
             "gridcolor": "white",
             "linecolor": "white",
             "minorgridcolor": "white",
             "startlinecolor": "#2a3f5f"
            },
            "type": "carpet"
           }
          ],
          "choropleth": [
           {
            "colorbar": {
             "outlinewidth": 0,
             "ticks": ""
            },
            "type": "choropleth"
           }
          ],
          "contour": [
           {
            "colorbar": {
             "outlinewidth": 0,
             "ticks": ""
            },
            "colorscale": [
             [
              0,
              "#0d0887"
             ],
             [
              0.1111111111111111,
              "#46039f"
             ],
             [
              0.2222222222222222,
              "#7201a8"
             ],
             [
              0.3333333333333333,
              "#9c179e"
             ],
             [
              0.4444444444444444,
              "#bd3786"
             ],
             [
              0.5555555555555556,
              "#d8576b"
             ],
             [
              0.6666666666666666,
              "#ed7953"
             ],
             [
              0.7777777777777778,
              "#fb9f3a"
             ],
             [
              0.8888888888888888,
              "#fdca26"
             ],
             [
              1,
              "#f0f921"
             ]
            ],
            "type": "contour"
           }
          ],
          "contourcarpet": [
           {
            "colorbar": {
             "outlinewidth": 0,
             "ticks": ""
            },
            "type": "contourcarpet"
           }
          ],
          "heatmap": [
           {
            "colorbar": {
             "outlinewidth": 0,
             "ticks": ""
            },
            "colorscale": [
             [
              0,
              "#0d0887"
             ],
             [
              0.1111111111111111,
              "#46039f"
             ],
             [
              0.2222222222222222,
              "#7201a8"
             ],
             [
              0.3333333333333333,
              "#9c179e"
             ],
             [
              0.4444444444444444,
              "#bd3786"
             ],
             [
              0.5555555555555556,
              "#d8576b"
             ],
             [
              0.6666666666666666,
              "#ed7953"
             ],
             [
              0.7777777777777778,
              "#fb9f3a"
             ],
             [
              0.8888888888888888,
              "#fdca26"
             ],
             [
              1,
              "#f0f921"
             ]
            ],
            "type": "heatmap"
           }
          ],
          "heatmapgl": [
           {
            "colorbar": {
             "outlinewidth": 0,
             "ticks": ""
            },
            "colorscale": [
             [
              0,
              "#0d0887"
             ],
             [
              0.1111111111111111,
              "#46039f"
             ],
             [
              0.2222222222222222,
              "#7201a8"
             ],
             [
              0.3333333333333333,
              "#9c179e"
             ],
             [
              0.4444444444444444,
              "#bd3786"
             ],
             [
              0.5555555555555556,
              "#d8576b"
             ],
             [
              0.6666666666666666,
              "#ed7953"
             ],
             [
              0.7777777777777778,
              "#fb9f3a"
             ],
             [
              0.8888888888888888,
              "#fdca26"
             ],
             [
              1,
              "#f0f921"
             ]
            ],
            "type": "heatmapgl"
           }
          ],
          "histogram": [
           {
            "marker": {
             "colorbar": {
              "outlinewidth": 0,
              "ticks": ""
             }
            },
            "type": "histogram"
           }
          ],
          "histogram2d": [
           {
            "colorbar": {
             "outlinewidth": 0,
             "ticks": ""
            },
            "colorscale": [
             [
              0,
              "#0d0887"
             ],
             [
              0.1111111111111111,
              "#46039f"
             ],
             [
              0.2222222222222222,
              "#7201a8"
             ],
             [
              0.3333333333333333,
              "#9c179e"
             ],
             [
              0.4444444444444444,
              "#bd3786"
             ],
             [
              0.5555555555555556,
              "#d8576b"
             ],
             [
              0.6666666666666666,
              "#ed7953"
             ],
             [
              0.7777777777777778,
              "#fb9f3a"
             ],
             [
              0.8888888888888888,
              "#fdca26"
             ],
             [
              1,
              "#f0f921"
             ]
            ],
            "type": "histogram2d"
           }
          ],
          "histogram2dcontour": [
           {
            "colorbar": {
             "outlinewidth": 0,
             "ticks": ""
            },
            "colorscale": [
             [
              0,
              "#0d0887"
             ],
             [
              0.1111111111111111,
              "#46039f"
             ],
             [
              0.2222222222222222,
              "#7201a8"
             ],
             [
              0.3333333333333333,
              "#9c179e"
             ],
             [
              0.4444444444444444,
              "#bd3786"
             ],
             [
              0.5555555555555556,
              "#d8576b"
             ],
             [
              0.6666666666666666,
              "#ed7953"
             ],
             [
              0.7777777777777778,
              "#fb9f3a"
             ],
             [
              0.8888888888888888,
              "#fdca26"
             ],
             [
              1,
              "#f0f921"
             ]
            ],
            "type": "histogram2dcontour"
           }
          ],
          "mesh3d": [
           {
            "colorbar": {
             "outlinewidth": 0,
             "ticks": ""
            },
            "type": "mesh3d"
           }
          ],
          "parcoords": [
           {
            "line": {
             "colorbar": {
              "outlinewidth": 0,
              "ticks": ""
             }
            },
            "type": "parcoords"
           }
          ],
          "pie": [
           {
            "automargin": true,
            "type": "pie"
           }
          ],
          "scatter": [
           {
            "marker": {
             "colorbar": {
              "outlinewidth": 0,
              "ticks": ""
             }
            },
            "type": "scatter"
           }
          ],
          "scatter3d": [
           {
            "line": {
             "colorbar": {
              "outlinewidth": 0,
              "ticks": ""
             }
            },
            "marker": {
             "colorbar": {
              "outlinewidth": 0,
              "ticks": ""
             }
            },
            "type": "scatter3d"
           }
          ],
          "scattercarpet": [
           {
            "marker": {
             "colorbar": {
              "outlinewidth": 0,
              "ticks": ""
             }
            },
            "type": "scattercarpet"
           }
          ],
          "scattergeo": [
           {
            "marker": {
             "colorbar": {
              "outlinewidth": 0,
              "ticks": ""
             }
            },
            "type": "scattergeo"
           }
          ],
          "scattergl": [
           {
            "marker": {
             "colorbar": {
              "outlinewidth": 0,
              "ticks": ""
             }
            },
            "type": "scattergl"
           }
          ],
          "scattermapbox": [
           {
            "marker": {
             "colorbar": {
              "outlinewidth": 0,
              "ticks": ""
             }
            },
            "type": "scattermapbox"
           }
          ],
          "scatterpolar": [
           {
            "marker": {
             "colorbar": {
              "outlinewidth": 0,
              "ticks": ""
             }
            },
            "type": "scatterpolar"
           }
          ],
          "scatterpolargl": [
           {
            "marker": {
             "colorbar": {
              "outlinewidth": 0,
              "ticks": ""
             }
            },
            "type": "scatterpolargl"
           }
          ],
          "scatterternary": [
           {
            "marker": {
             "colorbar": {
              "outlinewidth": 0,
              "ticks": ""
             }
            },
            "type": "scatterternary"
           }
          ],
          "surface": [
           {
            "colorbar": {
             "outlinewidth": 0,
             "ticks": ""
            },
            "colorscale": [
             [
              0,
              "#0d0887"
             ],
             [
              0.1111111111111111,
              "#46039f"
             ],
             [
              0.2222222222222222,
              "#7201a8"
             ],
             [
              0.3333333333333333,
              "#9c179e"
             ],
             [
              0.4444444444444444,
              "#bd3786"
             ],
             [
              0.5555555555555556,
              "#d8576b"
             ],
             [
              0.6666666666666666,
              "#ed7953"
             ],
             [
              0.7777777777777778,
              "#fb9f3a"
             ],
             [
              0.8888888888888888,
              "#fdca26"
             ],
             [
              1,
              "#f0f921"
             ]
            ],
            "type": "surface"
           }
          ],
          "table": [
           {
            "cells": {
             "fill": {
              "color": "#EBF0F8"
             },
             "line": {
              "color": "white"
             }
            },
            "header": {
             "fill": {
              "color": "#C8D4E3"
             },
             "line": {
              "color": "white"
             }
            },
            "type": "table"
           }
          ]
         },
         "layout": {
          "annotationdefaults": {
           "arrowcolor": "#2a3f5f",
           "arrowhead": 0,
           "arrowwidth": 1
          },
          "autotypenumbers": "strict",
          "coloraxis": {
           "colorbar": {
            "outlinewidth": 0,
            "ticks": ""
           }
          },
          "colorscale": {
           "diverging": [
            [
             0,
             "#8e0152"
            ],
            [
             0.1,
             "#c51b7d"
            ],
            [
             0.2,
             "#de77ae"
            ],
            [
             0.3,
             "#f1b6da"
            ],
            [
             0.4,
             "#fde0ef"
            ],
            [
             0.5,
             "#f7f7f7"
            ],
            [
             0.6,
             "#e6f5d0"
            ],
            [
             0.7,
             "#b8e186"
            ],
            [
             0.8,
             "#7fbc41"
            ],
            [
             0.9,
             "#4d9221"
            ],
            [
             1,
             "#276419"
            ]
           ],
           "sequential": [
            [
             0,
             "#0d0887"
            ],
            [
             0.1111111111111111,
             "#46039f"
            ],
            [
             0.2222222222222222,
             "#7201a8"
            ],
            [
             0.3333333333333333,
             "#9c179e"
            ],
            [
             0.4444444444444444,
             "#bd3786"
            ],
            [
             0.5555555555555556,
             "#d8576b"
            ],
            [
             0.6666666666666666,
             "#ed7953"
            ],
            [
             0.7777777777777778,
             "#fb9f3a"
            ],
            [
             0.8888888888888888,
             "#fdca26"
            ],
            [
             1,
             "#f0f921"
            ]
           ],
           "sequentialminus": [
            [
             0,
             "#0d0887"
            ],
            [
             0.1111111111111111,
             "#46039f"
            ],
            [
             0.2222222222222222,
             "#7201a8"
            ],
            [
             0.3333333333333333,
             "#9c179e"
            ],
            [
             0.4444444444444444,
             "#bd3786"
            ],
            [
             0.5555555555555556,
             "#d8576b"
            ],
            [
             0.6666666666666666,
             "#ed7953"
            ],
            [
             0.7777777777777778,
             "#fb9f3a"
            ],
            [
             0.8888888888888888,
             "#fdca26"
            ],
            [
             1,
             "#f0f921"
            ]
           ]
          },
          "colorway": [
           "#636efa",
           "#EF553B",
           "#00cc96",
           "#ab63fa",
           "#FFA15A",
           "#19d3f3",
           "#FF6692",
           "#B6E880",
           "#FF97FF",
           "#FECB52"
          ],
          "font": {
           "color": "#2a3f5f"
          },
          "geo": {
           "bgcolor": "white",
           "lakecolor": "white",
           "landcolor": "#E5ECF6",
           "showlakes": true,
           "showland": true,
           "subunitcolor": "white"
          },
          "hoverlabel": {
           "align": "left"
          },
          "hovermode": "closest",
          "mapbox": {
           "style": "light"
          },
          "paper_bgcolor": "white",
          "plot_bgcolor": "#E5ECF6",
          "polar": {
           "angularaxis": {
            "gridcolor": "white",
            "linecolor": "white",
            "ticks": ""
           },
           "bgcolor": "#E5ECF6",
           "radialaxis": {
            "gridcolor": "white",
            "linecolor": "white",
            "ticks": ""
           }
          },
          "scene": {
           "xaxis": {
            "backgroundcolor": "#E5ECF6",
            "gridcolor": "white",
            "gridwidth": 2,
            "linecolor": "white",
            "showbackground": true,
            "ticks": "",
            "zerolinecolor": "white"
           },
           "yaxis": {
            "backgroundcolor": "#E5ECF6",
            "gridcolor": "white",
            "gridwidth": 2,
            "linecolor": "white",
            "showbackground": true,
            "ticks": "",
            "zerolinecolor": "white"
           },
           "zaxis": {
            "backgroundcolor": "#E5ECF6",
            "gridcolor": "white",
            "gridwidth": 2,
            "linecolor": "white",
            "showbackground": true,
            "ticks": "",
            "zerolinecolor": "white"
           }
          },
          "shapedefaults": {
           "line": {
            "color": "#2a3f5f"
           }
          },
          "ternary": {
           "aaxis": {
            "gridcolor": "white",
            "linecolor": "white",
            "ticks": ""
           },
           "baxis": {
            "gridcolor": "white",
            "linecolor": "white",
            "ticks": ""
           },
           "bgcolor": "#E5ECF6",
           "caxis": {
            "gridcolor": "white",
            "linecolor": "white",
            "ticks": ""
           }
          },
          "title": {
           "x": 0.05
          },
          "xaxis": {
           "automargin": true,
           "gridcolor": "white",
           "linecolor": "white",
           "ticks": "",
           "title": {
            "standoff": 15
           },
           "zerolinecolor": "white",
           "zerolinewidth": 2
          },
          "yaxis": {
           "automargin": true,
           "gridcolor": "white",
           "linecolor": "white",
           "ticks": "",
           "title": {
            "standoff": 15
           },
           "zerolinecolor": "white",
           "zerolinewidth": 2
          }
         }
        },
        "title": {
         "font": {
          "size": 20
         },
         "text": "Effect of Basic Income for NYC plan on poverty measures"
        },
        "width": 800,
        "xaxis": {
         "anchor": "y",
         "domain": [
          0,
          1
         ],
         "tickfont": {
          "size": 14
         },
         "tickformat": "%",
         "title": {
          "font": {
           "color": "black",
           "size": 16
          },
          "text": ""
         }
        },
        "yaxis": {
         "anchor": "x",
         "domain": [
          0,
          1
         ],
         "tickfont": {
          "size": 14
         },
         "title": {
          "font": {
           "color": "black",
           "size": 16
          },
          "text": ""
         }
        }
       }
      }
     },
     "metadata": {}
    }
   ],
   "source": [
    "PLOT_POV_MEASURES = [\n",
    "    \"poverty_rate\",\n",
    "    \"deep_poverty_rate\",\n",
    "    \"poverty_gap\",\n",
    "    \"deep_poverty_gap\",\n",
    "]\n",
    "fig = px.bar(\n",
    "    comp[comp.metric.isin(PLOT_POV_MEASURES)].sort_values(\"pct_diff\", ascending=False),\n",
    "    \"pct_diff\",\n",
    "    \"name\",\n",
    "    orientation=\"h\",\n",
    "    text=\"pct_diff\",\n",
    "    title=\"Effect of Basic Income for NYC plan on poverty measures\"\n",
    "    )\n",
    "fig.update_traces(marker_color=BLUE, texttemplate='%{text:.0%}')\n",
    "fig.update_layout(xaxis_tickformat=\"%\", xaxis_title=\"\", yaxis_title=\"\")\n",
    "format_fig(fig)"
   ]
  },
  {
   "cell_type": "code",
   "execution_count": 31,
   "metadata": {},
   "outputs": [],
   "source": [
    "fig = px.bar(\n",
    "    comp[comp.metric.isin(PLOT_POV_MEASURES)].sort_values(\"years_progress\"),\n",
    "    \"years_progress\",\n",
    "    \"name\",\n",
    "    hover_data={\"years_progress\": \":.1f\", \"pct_diff\": \":.1%\", \"yearly\": \":.1%\"},\n",
    "    orientation=\"h\",\n",
    "    title=\"Effect of Basic Income for NYC on poverty measures in years of natural progress\",\n",
    "    labels=LABELS,\n",
    "    )\n",
    "fig.update_layout(\n",
    "    xaxis_title=\"Policy impact / average yearly change from 2009-2019\",\n",
    "    yaxis_title=\"\",\n",
    ")\n",
    "fig = format_fig(fig, show=False)\n",
    "CONFIG = {\"displayModeBar\": False}\n",
    "fig.write_html(\"impact_years.html\", config=CONFIG)"
   ]
  },
  {
   "cell_type": "code",
   "execution_count": 20,
   "metadata": {},
   "outputs": [
    {
     "output_type": "stream",
     "name": "stdout",
     "text": [
      "16470.0 8380.0\n"
     ]
    },
    {
     "output_type": "execute_result",
     "data": {
      "text/plain": [
       "      year  spmfamunit  spmtotres  spmthresh   spmratio        spmwt  \\\n",
       "2775  2019     7689001    83471.0    24850.0   3.358994  1034.903333   \n",
       "2795  2019     7711001    50790.0    16470.0   3.083789  1338.590000   \n",
       "2972  2019     8035001    24600.0    16470.0   1.493625   928.990000   \n",
       "3039  2019     8109001    70425.0    16470.0   4.275956  1957.620000   \n",
       "3056  2019     8131001    75005.0    16470.0   4.554038  1073.023333   \n",
       "3062  2019     8142001    59300.0    16470.0   3.600486  1470.310000   \n",
       "3119  2019     8199001    16700.0    16470.0   1.013965  1649.740000   \n",
       "3152  2019     8233001   143123.0    16470.0   8.689921  1085.913333   \n",
       "3183  2019     8301005    21686.0    16470.0   1.316697   717.346667   \n",
       "3231  2019     8404001    80899.0    16470.0   4.911900   751.550000   \n",
       "3323  2019     8497001   104279.0    24850.0   4.196338   910.243333   \n",
       "3336  2019     8735001    65255.0    16470.0   3.962052  1404.560000   \n",
       "3391  2019     8807001   450366.0    16470.0  27.344627   849.036667   \n",
       "3444  2019     8871001    57833.0    16470.0   3.511415  1308.553333   \n",
       "3457  2019     8883001    73078.0    16470.0   4.437037  1493.040000   \n",
       "3458  2019     8883003    35713.0    16470.0   2.168367  1401.663333   \n",
       "3485  2019     8913001   135730.0    16470.0   8.241044  1316.630000   \n",
       "3533  2019     8989001        0.0    16470.0   0.000000  1205.770000   \n",
       "3621  2019     9219004    12519.0    16470.0   0.760109  1391.660000   \n",
       "3637  2019     9235001    63753.0    16470.0   3.870856  1655.696667   \n",
       "3682  2019     9285001    24175.0    16470.0   1.467820  1080.233333   \n",
       "3683  2019     9285003    16424.0    16470.0   0.997207  1377.463333   \n",
       "3688  2019     9290001    13716.0    16470.0   0.832787  1068.616667   \n",
       "3689  2019     9291001    26112.0    16470.0   1.585428   744.000000   \n",
       "3704  2019     9308001    15436.0    16470.0   0.937219  1839.406667   \n",
       "3844  2019     9570001    19795.0    16470.0   1.201882   956.280000   \n",
       "3864  2019     9590001    15198.0    16470.0   0.922769  1025.630000   \n",
       "3873  2019     9599001   -10180.0    16470.0  -0.618094  1839.816667   \n",
       "3875  2019     9601001    88240.0    16470.0   5.357620  1333.743333   \n",
       "3897  2019     9625001    79114.0    16470.0   4.803522  1635.823333   \n",
       "3898  2019     9626001    46044.0    16470.0   2.795628  1537.663333   \n",
       "3900  2019     9629001    59944.0    16470.0   3.639587  1383.000000   \n",
       "\n",
       "      spmftotval  adult  child  max_transfer  transfer  spmtotres_r  \\\n",
       "2775      111800      1      1           0.0       0.0      83471.0   \n",
       "2795       73120      1      0           0.0       0.0      50790.0   \n",
       "2972       27653      1      0           0.0       0.0      24600.0   \n",
       "3039      101965      1      0           0.0       0.0      70425.0   \n",
       "3056      110011      1      0           0.0       0.0      75005.0   \n",
       "3062       95210      1      0           0.0       0.0      59300.0   \n",
       "3119       19476      1      0           0.0       0.0      16700.0   \n",
       "3152      229201      1      0           0.0       0.0     143123.0   \n",
       "3183       31002      1      0           0.0       0.0      21686.0   \n",
       "3231      103627      1      0           0.0       0.0      80899.0   \n",
       "3323      151320      1      1           0.0       0.0     104279.0   \n",
       "3336      100022      1      0           0.0       0.0      65255.0   \n",
       "3391      821321      1      0           0.0       0.0     450366.0   \n",
       "3444      108467      1      0           0.0       0.0      57833.0   \n",
       "3457      120000      1      0           0.0       0.0      73078.0   \n",
       "3458       80000      1      0           0.0       0.0      35713.0   \n",
       "3485      250405      1      0           0.0       0.0     135730.0   \n",
       "3533          20      1      0           0.0       0.0          0.0   \n",
       "3621       18000      1      0           0.0       0.0      12519.0   \n",
       "3637       74200      1      0           0.0       0.0      63753.0   \n",
       "3682       21906      1      0           0.0       0.0      24175.0   \n",
       "3683       28000      1      0           0.0       0.0      16424.0   \n",
       "3688       17028      1      0           0.0       0.0      13716.0   \n",
       "3689       27813      1      0           0.0       0.0      26112.0   \n",
       "3704       17662      1      0           0.0       0.0      15436.0   \n",
       "3844       21421      1      0           0.0       0.0      19795.0   \n",
       "3864       19686      1      0           0.0       0.0      15198.0   \n",
       "3873          20      1      0           0.0       0.0     -10180.0   \n",
       "3875      139000      1      0           0.0       0.0      88240.0   \n",
       "3897      103220      1      0           0.0       0.0      79114.0   \n",
       "3898       45000      1      0           0.0       0.0      46044.0   \n",
       "3900       89011      1      0           0.0       0.0      59944.0   \n",
       "\n",
       "      spmthresh_ind  \n",
       "2775        24850.0  \n",
       "2795        16470.0  \n",
       "2972        16470.0  \n",
       "3039        16470.0  \n",
       "3056        16470.0  \n",
       "3062        16470.0  \n",
       "3119        16470.0  \n",
       "3152        16470.0  \n",
       "3183        16470.0  \n",
       "3231        16470.0  \n",
       "3323        24850.0  \n",
       "3336        16470.0  \n",
       "3391        16470.0  \n",
       "3444        16470.0  \n",
       "3457        16470.0  \n",
       "3458        16470.0  \n",
       "3485        16470.0  \n",
       "3533        16470.0  \n",
       "3621        16470.0  \n",
       "3637        16470.0  \n",
       "3682        16470.0  \n",
       "3683        16470.0  \n",
       "3688        16470.0  \n",
       "3689        16470.0  \n",
       "3704        16470.0  \n",
       "3844        16470.0  \n",
       "3864        16470.0  \n",
       "3873        16470.0  \n",
       "3875        16470.0  \n",
       "3897        16470.0  \n",
       "3898        16470.0  \n",
       "3900        16470.0  "
      ],
      "text/html": "<div>\n<style scoped>\n    .dataframe tbody tr th:only-of-type {\n        vertical-align: middle;\n    }\n\n    .dataframe tbody tr th {\n        vertical-align: top;\n    }\n\n    .dataframe thead th {\n        text-align: right;\n    }\n</style>\n<table border=\"1\" class=\"dataframe\">\n  <thead>\n    <tr style=\"text-align: right;\">\n      <th></th>\n      <th>year</th>\n      <th>spmfamunit</th>\n      <th>spmtotres</th>\n      <th>spmthresh</th>\n      <th>spmratio</th>\n      <th>spmwt</th>\n      <th>spmftotval</th>\n      <th>adult</th>\n      <th>child</th>\n      <th>max_transfer</th>\n      <th>transfer</th>\n      <th>spmtotres_r</th>\n      <th>spmthresh_ind</th>\n    </tr>\n  </thead>\n  <tbody>\n    <tr>\n      <th>2775</th>\n      <td>2019</td>\n      <td>7689001</td>\n      <td>83471.0</td>\n      <td>24850.0</td>\n      <td>3.358994</td>\n      <td>1034.903333</td>\n      <td>111800</td>\n      <td>1</td>\n      <td>1</td>\n      <td>0.0</td>\n      <td>0.0</td>\n      <td>83471.0</td>\n      <td>24850.0</td>\n    </tr>\n    <tr>\n      <th>2795</th>\n      <td>2019</td>\n      <td>7711001</td>\n      <td>50790.0</td>\n      <td>16470.0</td>\n      <td>3.083789</td>\n      <td>1338.590000</td>\n      <td>73120</td>\n      <td>1</td>\n      <td>0</td>\n      <td>0.0</td>\n      <td>0.0</td>\n      <td>50790.0</td>\n      <td>16470.0</td>\n    </tr>\n    <tr>\n      <th>2972</th>\n      <td>2019</td>\n      <td>8035001</td>\n      <td>24600.0</td>\n      <td>16470.0</td>\n      <td>1.493625</td>\n      <td>928.990000</td>\n      <td>27653</td>\n      <td>1</td>\n      <td>0</td>\n      <td>0.0</td>\n      <td>0.0</td>\n      <td>24600.0</td>\n      <td>16470.0</td>\n    </tr>\n    <tr>\n      <th>3039</th>\n      <td>2019</td>\n      <td>8109001</td>\n      <td>70425.0</td>\n      <td>16470.0</td>\n      <td>4.275956</td>\n      <td>1957.620000</td>\n      <td>101965</td>\n      <td>1</td>\n      <td>0</td>\n      <td>0.0</td>\n      <td>0.0</td>\n      <td>70425.0</td>\n      <td>16470.0</td>\n    </tr>\n    <tr>\n      <th>3056</th>\n      <td>2019</td>\n      <td>8131001</td>\n      <td>75005.0</td>\n      <td>16470.0</td>\n      <td>4.554038</td>\n      <td>1073.023333</td>\n      <td>110011</td>\n      <td>1</td>\n      <td>0</td>\n      <td>0.0</td>\n      <td>0.0</td>\n      <td>75005.0</td>\n      <td>16470.0</td>\n    </tr>\n    <tr>\n      <th>3062</th>\n      <td>2019</td>\n      <td>8142001</td>\n      <td>59300.0</td>\n      <td>16470.0</td>\n      <td>3.600486</td>\n      <td>1470.310000</td>\n      <td>95210</td>\n      <td>1</td>\n      <td>0</td>\n      <td>0.0</td>\n      <td>0.0</td>\n      <td>59300.0</td>\n      <td>16470.0</td>\n    </tr>\n    <tr>\n      <th>3119</th>\n      <td>2019</td>\n      <td>8199001</td>\n      <td>16700.0</td>\n      <td>16470.0</td>\n      <td>1.013965</td>\n      <td>1649.740000</td>\n      <td>19476</td>\n      <td>1</td>\n      <td>0</td>\n      <td>0.0</td>\n      <td>0.0</td>\n      <td>16700.0</td>\n      <td>16470.0</td>\n    </tr>\n    <tr>\n      <th>3152</th>\n      <td>2019</td>\n      <td>8233001</td>\n      <td>143123.0</td>\n      <td>16470.0</td>\n      <td>8.689921</td>\n      <td>1085.913333</td>\n      <td>229201</td>\n      <td>1</td>\n      <td>0</td>\n      <td>0.0</td>\n      <td>0.0</td>\n      <td>143123.0</td>\n      <td>16470.0</td>\n    </tr>\n    <tr>\n      <th>3183</th>\n      <td>2019</td>\n      <td>8301005</td>\n      <td>21686.0</td>\n      <td>16470.0</td>\n      <td>1.316697</td>\n      <td>717.346667</td>\n      <td>31002</td>\n      <td>1</td>\n      <td>0</td>\n      <td>0.0</td>\n      <td>0.0</td>\n      <td>21686.0</td>\n      <td>16470.0</td>\n    </tr>\n    <tr>\n      <th>3231</th>\n      <td>2019</td>\n      <td>8404001</td>\n      <td>80899.0</td>\n      <td>16470.0</td>\n      <td>4.911900</td>\n      <td>751.550000</td>\n      <td>103627</td>\n      <td>1</td>\n      <td>0</td>\n      <td>0.0</td>\n      <td>0.0</td>\n      <td>80899.0</td>\n      <td>16470.0</td>\n    </tr>\n    <tr>\n      <th>3323</th>\n      <td>2019</td>\n      <td>8497001</td>\n      <td>104279.0</td>\n      <td>24850.0</td>\n      <td>4.196338</td>\n      <td>910.243333</td>\n      <td>151320</td>\n      <td>1</td>\n      <td>1</td>\n      <td>0.0</td>\n      <td>0.0</td>\n      <td>104279.0</td>\n      <td>24850.0</td>\n    </tr>\n    <tr>\n      <th>3336</th>\n      <td>2019</td>\n      <td>8735001</td>\n      <td>65255.0</td>\n      <td>16470.0</td>\n      <td>3.962052</td>\n      <td>1404.560000</td>\n      <td>100022</td>\n      <td>1</td>\n      <td>0</td>\n      <td>0.0</td>\n      <td>0.0</td>\n      <td>65255.0</td>\n      <td>16470.0</td>\n    </tr>\n    <tr>\n      <th>3391</th>\n      <td>2019</td>\n      <td>8807001</td>\n      <td>450366.0</td>\n      <td>16470.0</td>\n      <td>27.344627</td>\n      <td>849.036667</td>\n      <td>821321</td>\n      <td>1</td>\n      <td>0</td>\n      <td>0.0</td>\n      <td>0.0</td>\n      <td>450366.0</td>\n      <td>16470.0</td>\n    </tr>\n    <tr>\n      <th>3444</th>\n      <td>2019</td>\n      <td>8871001</td>\n      <td>57833.0</td>\n      <td>16470.0</td>\n      <td>3.511415</td>\n      <td>1308.553333</td>\n      <td>108467</td>\n      <td>1</td>\n      <td>0</td>\n      <td>0.0</td>\n      <td>0.0</td>\n      <td>57833.0</td>\n      <td>16470.0</td>\n    </tr>\n    <tr>\n      <th>3457</th>\n      <td>2019</td>\n      <td>8883001</td>\n      <td>73078.0</td>\n      <td>16470.0</td>\n      <td>4.437037</td>\n      <td>1493.040000</td>\n      <td>120000</td>\n      <td>1</td>\n      <td>0</td>\n      <td>0.0</td>\n      <td>0.0</td>\n      <td>73078.0</td>\n      <td>16470.0</td>\n    </tr>\n    <tr>\n      <th>3458</th>\n      <td>2019</td>\n      <td>8883003</td>\n      <td>35713.0</td>\n      <td>16470.0</td>\n      <td>2.168367</td>\n      <td>1401.663333</td>\n      <td>80000</td>\n      <td>1</td>\n      <td>0</td>\n      <td>0.0</td>\n      <td>0.0</td>\n      <td>35713.0</td>\n      <td>16470.0</td>\n    </tr>\n    <tr>\n      <th>3485</th>\n      <td>2019</td>\n      <td>8913001</td>\n      <td>135730.0</td>\n      <td>16470.0</td>\n      <td>8.241044</td>\n      <td>1316.630000</td>\n      <td>250405</td>\n      <td>1</td>\n      <td>0</td>\n      <td>0.0</td>\n      <td>0.0</td>\n      <td>135730.0</td>\n      <td>16470.0</td>\n    </tr>\n    <tr>\n      <th>3533</th>\n      <td>2019</td>\n      <td>8989001</td>\n      <td>0.0</td>\n      <td>16470.0</td>\n      <td>0.000000</td>\n      <td>1205.770000</td>\n      <td>20</td>\n      <td>1</td>\n      <td>0</td>\n      <td>0.0</td>\n      <td>0.0</td>\n      <td>0.0</td>\n      <td>16470.0</td>\n    </tr>\n    <tr>\n      <th>3621</th>\n      <td>2019</td>\n      <td>9219004</td>\n      <td>12519.0</td>\n      <td>16470.0</td>\n      <td>0.760109</td>\n      <td>1391.660000</td>\n      <td>18000</td>\n      <td>1</td>\n      <td>0</td>\n      <td>0.0</td>\n      <td>0.0</td>\n      <td>12519.0</td>\n      <td>16470.0</td>\n    </tr>\n    <tr>\n      <th>3637</th>\n      <td>2019</td>\n      <td>9235001</td>\n      <td>63753.0</td>\n      <td>16470.0</td>\n      <td>3.870856</td>\n      <td>1655.696667</td>\n      <td>74200</td>\n      <td>1</td>\n      <td>0</td>\n      <td>0.0</td>\n      <td>0.0</td>\n      <td>63753.0</td>\n      <td>16470.0</td>\n    </tr>\n    <tr>\n      <th>3682</th>\n      <td>2019</td>\n      <td>9285001</td>\n      <td>24175.0</td>\n      <td>16470.0</td>\n      <td>1.467820</td>\n      <td>1080.233333</td>\n      <td>21906</td>\n      <td>1</td>\n      <td>0</td>\n      <td>0.0</td>\n      <td>0.0</td>\n      <td>24175.0</td>\n      <td>16470.0</td>\n    </tr>\n    <tr>\n      <th>3683</th>\n      <td>2019</td>\n      <td>9285003</td>\n      <td>16424.0</td>\n      <td>16470.0</td>\n      <td>0.997207</td>\n      <td>1377.463333</td>\n      <td>28000</td>\n      <td>1</td>\n      <td>0</td>\n      <td>0.0</td>\n      <td>0.0</td>\n      <td>16424.0</td>\n      <td>16470.0</td>\n    </tr>\n    <tr>\n      <th>3688</th>\n      <td>2019</td>\n      <td>9290001</td>\n      <td>13716.0</td>\n      <td>16470.0</td>\n      <td>0.832787</td>\n      <td>1068.616667</td>\n      <td>17028</td>\n      <td>1</td>\n      <td>0</td>\n      <td>0.0</td>\n      <td>0.0</td>\n      <td>13716.0</td>\n      <td>16470.0</td>\n    </tr>\n    <tr>\n      <th>3689</th>\n      <td>2019</td>\n      <td>9291001</td>\n      <td>26112.0</td>\n      <td>16470.0</td>\n      <td>1.585428</td>\n      <td>744.000000</td>\n      <td>27813</td>\n      <td>1</td>\n      <td>0</td>\n      <td>0.0</td>\n      <td>0.0</td>\n      <td>26112.0</td>\n      <td>16470.0</td>\n    </tr>\n    <tr>\n      <th>3704</th>\n      <td>2019</td>\n      <td>9308001</td>\n      <td>15436.0</td>\n      <td>16470.0</td>\n      <td>0.937219</td>\n      <td>1839.406667</td>\n      <td>17662</td>\n      <td>1</td>\n      <td>0</td>\n      <td>0.0</td>\n      <td>0.0</td>\n      <td>15436.0</td>\n      <td>16470.0</td>\n    </tr>\n    <tr>\n      <th>3844</th>\n      <td>2019</td>\n      <td>9570001</td>\n      <td>19795.0</td>\n      <td>16470.0</td>\n      <td>1.201882</td>\n      <td>956.280000</td>\n      <td>21421</td>\n      <td>1</td>\n      <td>0</td>\n      <td>0.0</td>\n      <td>0.0</td>\n      <td>19795.0</td>\n      <td>16470.0</td>\n    </tr>\n    <tr>\n      <th>3864</th>\n      <td>2019</td>\n      <td>9590001</td>\n      <td>15198.0</td>\n      <td>16470.0</td>\n      <td>0.922769</td>\n      <td>1025.630000</td>\n      <td>19686</td>\n      <td>1</td>\n      <td>0</td>\n      <td>0.0</td>\n      <td>0.0</td>\n      <td>15198.0</td>\n      <td>16470.0</td>\n    </tr>\n    <tr>\n      <th>3873</th>\n      <td>2019</td>\n      <td>9599001</td>\n      <td>-10180.0</td>\n      <td>16470.0</td>\n      <td>-0.618094</td>\n      <td>1839.816667</td>\n      <td>20</td>\n      <td>1</td>\n      <td>0</td>\n      <td>0.0</td>\n      <td>0.0</td>\n      <td>-10180.0</td>\n      <td>16470.0</td>\n    </tr>\n    <tr>\n      <th>3875</th>\n      <td>2019</td>\n      <td>9601001</td>\n      <td>88240.0</td>\n      <td>16470.0</td>\n      <td>5.357620</td>\n      <td>1333.743333</td>\n      <td>139000</td>\n      <td>1</td>\n      <td>0</td>\n      <td>0.0</td>\n      <td>0.0</td>\n      <td>88240.0</td>\n      <td>16470.0</td>\n    </tr>\n    <tr>\n      <th>3897</th>\n      <td>2019</td>\n      <td>9625001</td>\n      <td>79114.0</td>\n      <td>16470.0</td>\n      <td>4.803522</td>\n      <td>1635.823333</td>\n      <td>103220</td>\n      <td>1</td>\n      <td>0</td>\n      <td>0.0</td>\n      <td>0.0</td>\n      <td>79114.0</td>\n      <td>16470.0</td>\n    </tr>\n    <tr>\n      <th>3898</th>\n      <td>2019</td>\n      <td>9626001</td>\n      <td>46044.0</td>\n      <td>16470.0</td>\n      <td>2.795628</td>\n      <td>1537.663333</td>\n      <td>45000</td>\n      <td>1</td>\n      <td>0</td>\n      <td>0.0</td>\n      <td>0.0</td>\n      <td>46044.0</td>\n      <td>16470.0</td>\n    </tr>\n    <tr>\n      <th>3900</th>\n      <td>2019</td>\n      <td>9629001</td>\n      <td>59944.0</td>\n      <td>16470.0</td>\n      <td>3.639587</td>\n      <td>1383.000000</td>\n      <td>89011</td>\n      <td>1</td>\n      <td>0</td>\n      <td>0.0</td>\n      <td>0.0</td>\n      <td>59944.0</td>\n      <td>16470.0</td>\n    </tr>\n  </tbody>\n</table>\n</div>"
     },
     "metadata": {},
     "execution_count": 20
    }
   ],
   "source": [
    "# Determine individualized thresholds.\n",
    "adult_thresh = s[(s.adult == 1) & (s.child == 0)].spmthresh.max()\n",
    "child_thresh = ((s.spmthresh - s.adult * adult_thresh) / s.child).max()\n",
    "print(adult_thresh, child_thresh)\n",
    "s[\"spmthresh_ind\"] = s.adult * adult_thresh + s.child * child_thresh\n",
    "s[s.spmthresh == s.spmthresh_ind]"
   ]
  },
  {
   "cell_type": "code",
   "execution_count": 21,
   "metadata": {},
   "outputs": [
    {
     "output_type": "stream",
     "name": "stdout",
     "text": [
      "child     5259.665502\nadult    11075.127517\ndtype: float64\n"
     ]
    },
    {
     "output_type": "execute_result",
     "data": {
      "text/plain": [
       "      child  adult    spmthresh  spmthresh_ind  spmthresh_pred\n",
       "0         0      2  21527.81574        32940.0    22150.255033\n",
       "1         1      2  28996.05141        41320.0    27409.920536\n",
       "2         1      1  23039.42354        24850.0    16334.793019\n",
       "3         0      1  15267.95443        16470.0    11075.127517\n",
       "4         1      2  28996.05141        41320.0    27409.920536\n",
       "...     ...    ...          ...            ...             ...\n",
       "3918      4      2  43460.00000        66460.0    43188.917043\n",
       "3919      2      2  35530.00000        49700.0    32669.586038\n",
       "3920      1      3  32780.00000        57790.0    38485.048053\n",
       "3921      2      2  35530.00000        49700.0    32669.586038\n",
       "3922      0      1  16240.00000        16470.0    11075.127517\n",
       "\n",
       "[3923 rows x 5 columns]"
      ],
      "text/html": "<div>\n<style scoped>\n    .dataframe tbody tr th:only-of-type {\n        vertical-align: middle;\n    }\n\n    .dataframe tbody tr th {\n        vertical-align: top;\n    }\n\n    .dataframe thead th {\n        text-align: right;\n    }\n</style>\n<table border=\"1\" class=\"dataframe\">\n  <thead>\n    <tr style=\"text-align: right;\">\n      <th></th>\n      <th>child</th>\n      <th>adult</th>\n      <th>spmthresh</th>\n      <th>spmthresh_ind</th>\n      <th>spmthresh_pred</th>\n    </tr>\n  </thead>\n  <tbody>\n    <tr>\n      <th>0</th>\n      <td>0</td>\n      <td>2</td>\n      <td>21527.81574</td>\n      <td>32940.0</td>\n      <td>22150.255033</td>\n    </tr>\n    <tr>\n      <th>1</th>\n      <td>1</td>\n      <td>2</td>\n      <td>28996.05141</td>\n      <td>41320.0</td>\n      <td>27409.920536</td>\n    </tr>\n    <tr>\n      <th>2</th>\n      <td>1</td>\n      <td>1</td>\n      <td>23039.42354</td>\n      <td>24850.0</td>\n      <td>16334.793019</td>\n    </tr>\n    <tr>\n      <th>3</th>\n      <td>0</td>\n      <td>1</td>\n      <td>15267.95443</td>\n      <td>16470.0</td>\n      <td>11075.127517</td>\n    </tr>\n    <tr>\n      <th>4</th>\n      <td>1</td>\n      <td>2</td>\n      <td>28996.05141</td>\n      <td>41320.0</td>\n      <td>27409.920536</td>\n    </tr>\n    <tr>\n      <th>...</th>\n      <td>...</td>\n      <td>...</td>\n      <td>...</td>\n      <td>...</td>\n      <td>...</td>\n    </tr>\n    <tr>\n      <th>3918</th>\n      <td>4</td>\n      <td>2</td>\n      <td>43460.00000</td>\n      <td>66460.0</td>\n      <td>43188.917043</td>\n    </tr>\n    <tr>\n      <th>3919</th>\n      <td>2</td>\n      <td>2</td>\n      <td>35530.00000</td>\n      <td>49700.0</td>\n      <td>32669.586038</td>\n    </tr>\n    <tr>\n      <th>3920</th>\n      <td>1</td>\n      <td>3</td>\n      <td>32780.00000</td>\n      <td>57790.0</td>\n      <td>38485.048053</td>\n    </tr>\n    <tr>\n      <th>3921</th>\n      <td>2</td>\n      <td>2</td>\n      <td>35530.00000</td>\n      <td>49700.0</td>\n      <td>32669.586038</td>\n    </tr>\n    <tr>\n      <th>3922</th>\n      <td>0</td>\n      <td>1</td>\n      <td>16240.00000</td>\n      <td>16470.0</td>\n      <td>11075.127517</td>\n    </tr>\n  </tbody>\n</table>\n<p>3923 rows × 5 columns</p>\n</div>"
     },
     "metadata": {},
     "execution_count": 21
    }
   ],
   "source": [
    "SPMTHRESH_PREDICTORS = [\"child\", \"adult\"]\n",
    "spmthresh_reg = sm.WLS(s.spmthresh, s[SPMTHRESH_PREDICTORS], s.spmwt).fit()\n",
    "print(spmthresh_reg.params)\n",
    "s[\"spmthresh_pred\"] = spmthresh_reg.predict(s[SPMTHRESH_PREDICTORS])\n",
    "s[SPMTHRESH_PREDICTORS + [\"spmthresh\", \"spmthresh_ind\", \"spmthresh_pred\"]]"
   ]
  },
  {
   "cell_type": "code",
   "execution_count": null,
   "metadata": {},
   "outputs": [],
   "source": []
  },
  {
   "cell_type": "code",
   "execution_count": 22,
   "metadata": {},
   "outputs": [
    {
     "output_type": "error",
     "ename": "NameError",
     "evalue": "name 'pn' is not defined",
     "traceback": [
      "\u001b[0;31m---------------------------------------------------------------------------\u001b[0m",
      "\u001b[0;31mNameError\u001b[0m                                 Traceback (most recent call last)",
      "\u001b[0;32m<ipython-input-22-2b54dc709f90>\u001b[0m in \u001b[0;36m<module>\u001b[0;34m\u001b[0m\n\u001b[1;32m      1\u001b[0m \u001b[0;31m# Add cumulative adult population to identify bottom 500,000 adults.\u001b[0m\u001b[0;34m\u001b[0m\u001b[0;34m\u001b[0m\u001b[0;34m\u001b[0m\u001b[0m\n\u001b[0;32m----> 2\u001b[0;31m \u001b[0mpna\u001b[0m \u001b[0;34m=\u001b[0m \u001b[0mpn\u001b[0m\u001b[0;34m[\u001b[0m\u001b[0mpn\u001b[0m\u001b[0;34m.\u001b[0m\u001b[0mage\u001b[0m \u001b[0;34m>=\u001b[0m \u001b[0;36m18\u001b[0m\u001b[0;34m]\u001b[0m\u001b[0;34m.\u001b[0m\u001b[0mcopy\u001b[0m\u001b[0;34m(\u001b[0m\u001b[0;34m)\u001b[0m\u001b[0;34m\u001b[0m\u001b[0;34m\u001b[0m\u001b[0m\n\u001b[0m\u001b[1;32m      3\u001b[0m \u001b[0mpna\u001b[0m\u001b[0;34m.\u001b[0m\u001b[0msort_values\u001b[0m\u001b[0;34m(\u001b[0m\u001b[0;34m\"spmftotval\"\u001b[0m\u001b[0;34m,\u001b[0m \u001b[0minplace\u001b[0m\u001b[0;34m=\u001b[0m\u001b[0;32mTrue\u001b[0m\u001b[0;34m)\u001b[0m\u001b[0;34m\u001b[0m\u001b[0;34m\u001b[0m\u001b[0m\n\u001b[1;32m      4\u001b[0m \u001b[0mpna\u001b[0m\u001b[0;34m[\u001b[0m\u001b[0;34m\"pop_cum\"\u001b[0m\u001b[0;34m]\u001b[0m \u001b[0;34m=\u001b[0m \u001b[0mpna\u001b[0m\u001b[0;34m.\u001b[0m\u001b[0masecwt\u001b[0m\u001b[0;34m.\u001b[0m\u001b[0mcumsum\u001b[0m\u001b[0;34m(\u001b[0m\u001b[0;34m)\u001b[0m\u001b[0;34m\u001b[0m\u001b[0;34m\u001b[0m\u001b[0m\n\u001b[1;32m      5\u001b[0m \u001b[0;34m\u001b[0m\u001b[0m\n",
      "\u001b[0;31mNameError\u001b[0m: name 'pn' is not defined"
     ]
    }
   ],
   "source": [
    "# Add cumulative adult population to identify bottom 500,000 adults.\n",
    "pna = pn[pn.age >= 18].copy()\n",
    "pna.sort_values(\"spmftotval\", inplace=True)\n",
    "pna[\"pop_cum\"] = pna.asecwt.cumsum()\n",
    "\n",
    "spmtotres_thresh = pna[pna.pop_cum < 500000].spmtotres.max()\n",
    "\n",
    "pna[pna.pop_cum < 500000]"
   ]
  },
  {
   "cell_type": "code",
   "execution_count": 7,
   "metadata": {},
   "outputs": [],
   "source": [
    "sn = pn[[\"spmfamunit\", \"spmwt\", \"spmftotval\", \"spmtotres\", \"spmthresh\"]].drop_duplicates().sort_values(\"spmftotval\")\n",
    "sn[\"spmwt_cum\"] = sn.spmwt.cumsum()\n",
    "spmftotval_thresh = sn[sn.spmwt_cum < 500000].spmftotval.max()\n",
    "sn[sn.spmftotval <= spmftotval_thresh].spmwt.sum()\n",
    "sn[\"ubi\"] = np.where(sn.spmftotval <= spmftotval_thresh, 2000, 0)\n",
    "sn[\"spmtotres_ubi\"] = sn.spmtotres + sn.ubi"
   ]
  },
  {
   "cell_type": "code",
   "execution_count": 8,
   "metadata": {},
   "outputs": [
    {
     "output_type": "execute_result",
     "data": {
      "text/plain": [
       "1004590420.0"
      ]
     },
     "metadata": {},
     "execution_count": 8
    }
   ],
   "source": [
    "mdf.weighted_sum(sn, \"ubi\", \"spmwt\")"
   ]
  },
  {
   "cell_type": "code",
   "execution_count": 9,
   "metadata": {},
   "outputs": [],
   "source": [
    "pn = pn.merge(sn[[\"spmfamunit\", \"spmtotres_ubi\"]], on=\"spmfamunit\")\n"
   ]
  },
  {
   "cell_type": "code",
   "execution_count": 10,
   "metadata": {},
   "outputs": [
    {
     "output_type": "execute_result",
     "data": {
      "text/plain": [
       "5.53524380132"
      ]
     },
     "metadata": {},
     "execution_count": 10
    }
   ],
   "source": [
    "mdf.poverty_gap(sn, \"spmtotres_ubi\", \"spmthresh\", \"spmwt\") / 1e9"
   ]
  },
  {
   "cell_type": "code",
   "execution_count": 11,
   "metadata": {},
   "outputs": [
    {
     "output_type": "execute_result",
     "data": {
      "text/plain": [
       "6.256897865129999"
      ]
     },
     "metadata": {},
     "execution_count": 11
    }
   ],
   "source": [
    "mdf.poverty_gap(sn, \"spmtotres\", \"spmthresh\", \"spmwt\") / 1e9"
   ]
  },
  {
   "cell_type": "code",
   "execution_count": 12,
   "metadata": {},
   "outputs": [
    {
     "output_type": "execute_result",
     "data": {
      "text/plain": [
       "0.04859213974110767"
      ]
     },
     "metadata": {},
     "execution_count": 12
    }
   ],
   "source": [
    "mdf.deep_poverty_rate(pn, \"spmtotres\", \"spmthresh\", \"asecwt\")"
   ]
  },
  {
   "cell_type": "code",
   "execution_count": 13,
   "metadata": {},
   "outputs": [
    {
     "output_type": "execute_result",
     "data": {
      "text/plain": [
       "0.04356069904096139"
      ]
     },
     "metadata": {},
     "execution_count": 13
    }
   ],
   "source": [
    "mdf.deep_poverty_rate(pn, \"spmtotres_ubi\", \"spmthresh\", \"asecwt\")"
   ]
  },
  {
   "cell_type": "code",
   "execution_count": 14,
   "metadata": {},
   "outputs": [
    {
     "output_type": "execute_result",
     "data": {
      "text/plain": [
       "0.18354143352276175"
      ]
     },
     "metadata": {},
     "execution_count": 14
    }
   ],
   "source": [
    "mdf.poverty_rate(pn, \"spmtotres_ubi\", \"spmthresh\", \"asecwt\")"
   ]
  },
  {
   "cell_type": "code",
   "execution_count": 15,
   "metadata": {},
   "outputs": [
    {
     "output_type": "execute_result",
     "data": {
      "text/plain": [
       "0.19196885996563795"
      ]
     },
     "metadata": {},
     "execution_count": 15
    }
   ],
   "source": [
    "mdf.poverty_rate(pn, \"spmtotres\", \"spmthresh\", \"asecwt\")"
   ]
  },
  {
   "cell_type": "code",
   "execution_count": 16,
   "metadata": {},
   "outputs": [
    {
     "output_type": "execute_result",
     "data": {
      "text/plain": [
       "-0.04389996609025385"
      ]
     },
     "metadata": {},
     "execution_count": 16
    }
   ],
   "source": [
    "def pct_chg(base, reform):\n",
    "    return (reform - base) / base\n",
    "\n",
    "pct_chg(mdf.poverty_rate(pn, \"spmtotres\", \"spmthresh\", \"asecwt\"),\n",
    "mdf.poverty_rate(pn, \"spmtotres_ubi\", \"spmthresh\", \"asecwt\"))"
   ]
  },
  {
   "cell_type": "code",
   "execution_count": 17,
   "metadata": {},
   "outputs": [
    {
     "output_type": "execute_result",
     "data": {
      "text/plain": [
       "-0.10354433303314309"
      ]
     },
     "metadata": {},
     "execution_count": 17
    }
   ],
   "source": [
    "pct_chg(mdf.deep_poverty_rate(pn, \"spmtotres\", \"spmthresh\", \"asecwt\"),\n",
    "mdf.deep_poverty_rate(pn, \"spmtotres_ubi\", \"spmthresh\", \"asecwt\"))"
   ]
  },
  {
   "cell_type": "code",
   "execution_count": 18,
   "metadata": {},
   "outputs": [
    {
     "output_type": "execute_result",
     "data": {
      "text/plain": [
       "-0.01087395327199434"
      ]
     },
     "metadata": {},
     "execution_count": 18
    }
   ],
   "source": [
    "pct_chg(mdf.gini(sn, \"spmtotres\", \"spmwt\"),\n",
    "mdf.gini(sn, \"spmtotres_ubi\", \"spmwt\"))"
   ]
  },
  {
   "cell_type": "code",
   "execution_count": 20,
   "metadata": {},
   "outputs": [
    {
     "output_type": "error",
     "ename": "NameError",
     "evalue": "name 'NYC_FIPS' is not defined",
     "traceback": [
      "\u001b[0;31m---------------------------------------------------------------------------\u001b[0m",
      "\u001b[0;31mNameError\u001b[0m                                 Traceback (most recent call last)",
      "\u001b[0;32m<ipython-input-20-425fa6e0a2f3>\u001b[0m in \u001b[0;36m<module>\u001b[0;34m\u001b[0m\n\u001b[0;32m----> 1\u001b[0;31m \u001b[0mp\u001b[0m\u001b[0;34m[\u001b[0m\u001b[0;34m(\u001b[0m\u001b[0mp\u001b[0m\u001b[0;34m.\u001b[0m\u001b[0mstatefip\u001b[0m \u001b[0;34m==\u001b[0m \u001b[0mNYS_FIPS\u001b[0m\u001b[0;34m)\u001b[0m \u001b[0;34m&\u001b[0m \u001b[0mp\u001b[0m\u001b[0;34m.\u001b[0m\u001b[0mcounty\u001b[0m\u001b[0;34m.\u001b[0m\u001b[0misin\u001b[0m\u001b[0;34m(\u001b[0m\u001b[0mNYC_FIPS\u001b[0m\u001b[0;34m)\u001b[0m\u001b[0;34m]\u001b[0m\u001b[0;34m.\u001b[0m\u001b[0masecwt\u001b[0m\u001b[0;34m.\u001b[0m\u001b[0msum\u001b[0m\u001b[0;34m(\u001b[0m\u001b[0;34m)\u001b[0m \u001b[0;34m/\u001b[0m \u001b[0;36m1e6\u001b[0m\u001b[0;34m\u001b[0m\u001b[0;34m\u001b[0m\u001b[0m\n\u001b[0m",
      "\u001b[0;31mNameError\u001b[0m: name 'NYC_FIPS' is not defined"
     ]
    }
   ],
   "source": [
    "p[(p.statefip == NYS_FIPS) & p.county.isin(NYC_FIPS)].asecwt.sum() / 1e6"
   ]
  },
  {
   "cell_type": "code",
   "execution_count": 22,
   "metadata": {},
   "outputs": [
    {
     "output_type": "execute_result",
     "data": {
      "text/plain": [
       "county\n",
       "36005    1586280.10\n",
       "36047    2634859.16\n",
       "36061    1634742.52\n",
       "36081    1869407.84\n",
       "36085     497162.45\n",
       "Name: asecwt, dtype: float64"
      ]
     },
     "metadata": {},
     "execution_count": 22
    }
   ],
   "source": [
    "p[p.county.isin([NYS_FIPS * 1000 + i for i in NYC_FIPS])].groupby(\"county\").asecwt.sum()"
   ]
  },
  {
   "cell_type": "code",
   "execution_count": 20,
   "metadata": {},
   "outputs": [
    {
     "output_type": "execute_result",
     "data": {
      "text/plain": [
       "1634742.52"
      ]
     },
     "metadata": {},
     "execution_count": 20
    }
   ],
   "source": [
    "p[p.county == 36061].asecwt.sum()"
   ]
  }
 ]
}